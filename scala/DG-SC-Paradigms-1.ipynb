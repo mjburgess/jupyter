{
 "cells": [
  {
   "cell_type": "markdown",
   "metadata": {},
   "source": [
    "# Introduction to Programming with Scala"
   ]
  },
  {
   "cell_type": "markdown",
   "metadata": {},
   "source": [
    "### Overview \n",
    "\n",
    "* Sequential Programming\t\n",
    "    * Exercise\n",
    "    \n",
    "* Procedural\n",
    "    * Exercise\n",
    "    \n",
    "* Object Orientation\n",
    "    * Exercise\n",
    "      \n",
    "* Test-Driven Development\n",
    "    * Static Type Systems\n",
    "    * Unit Testing\n",
    "    * Exercise \n",
    "    \n",
    "* Functional Programming\n"
   ]
  },
  {
   "cell_type": "markdown",
   "metadata": {},
   "source": [
    "## Sequential Programming"
   ]
  },
  {
   "cell_type": "markdown",
   "metadata": {},
   "source": [
    "## Part 0: Exemplar"
   ]
  },
  {
   "cell_type": "code",
   "execution_count": 4,
   "metadata": {},
   "outputs": [
    {
     "data": {
      "text/plain": [
       "defined \u001b[32mfunction\u001b[39m \u001b[36mshowProfile\u001b[39m\n",
       "defined \u001b[32mfunction\u001b[39m \u001b[36mshowLocations\u001b[39m\n",
       "defined \u001b[32mfunction\u001b[39m \u001b[36mchooseLocation\u001b[39m"
      ]
     },
     "execution_count": 4,
     "metadata": {},
     "output_type": "execute_result"
    }
   ],
   "source": [
    "def showProfile(n: String, a: String) = println(s\"$n is $a\")\n",
    "\n",
    "def showLocations(locs: Array[String]) =\n",
    "    for(l <- locs) println(\"Location: \" + l)\n",
    "\n",
    "def chooseLocation(locs: Array[String]) = {\n",
    "    var stop = false\n",
    "    while(!stop) {\n",
    "        var choice = scala.io.StdIn.readLine().toInt\n",
    "        \n",
    "        if (choice >= 0 && choice < locs.length) {\n",
    "            stop = true\n",
    "            println(locs(choice))\n",
    "        } else {\n",
    "            println(s\"ERROR: $choice not a valid choice!\")\n",
    "        }\n",
    "    }\n",
    "}"
   ]
  },
  {
   "cell_type": "code",
   "execution_count": 5,
   "metadata": {},
   "outputs": [
    {
     "name": "stdout",
     "output_type": "stream",
     "text": [
      "Michael is 30.0\n",
      "Location: UK\n",
      "Location: FR\n",
      "0\n",
      "UK\n"
     ]
    },
    {
     "data": {
      "text/plain": [
       "\u001b[36mname\u001b[39m: \u001b[32mString\u001b[39m = \u001b[32m\"Michael\"\u001b[39m\n",
       "\u001b[36mage\u001b[39m: \u001b[32mString\u001b[39m = \u001b[32m\"30\"\u001b[39m\n",
       "\u001b[36mlocations\u001b[39m: \u001b[32mArray\u001b[39m[\u001b[32mString\u001b[39m] = \u001b[33mArray\u001b[39m(\u001b[32m\"UK\"\u001b[39m, \u001b[32m\"FR\"\u001b[39m)"
      ]
     },
     "execution_count": 5,
     "metadata": {},
     "output_type": "execute_result"
    }
   ],
   "source": [
    "val name = \"Michael\"\n",
    "val age = \"30\"\n",
    "val locations = Array(\"UK\", \"FR\")\n",
    "showProfile(name, age)\n",
    "showLocations(locations)\n",
    "chooseLocation(locations)"
   ]
  },
  {
   "cell_type": "code",
   "execution_count": 3,
   "metadata": {
    "scrolled": false
   },
   "outputs": [
    {
     "name": "stdout",
     "output_type": "stream",
     "text": [
      "North\n",
      "South\n"
     ]
    },
    {
     "ename": "",
     "evalue": "",
     "output_type": "error",
     "traceback": [
      "Interrupted!\n  sun.misc.Unsafe.park(\u001b[32mNative Method\u001b[39m)\n  java.util.concurrent.locks.LockSupport.park(\u001b[32mLockSupport.java\u001b[39m:\u001b[32m175\u001b[39m)\n  java.util.concurrent.locks.AbstractQueuedSynchronizer.parkAndCheckInterrupt(\u001b[32mAbstractQueuedSynchronizer.java\u001b[39m:\u001b[32m836\u001b[39m)\n  java.util.concurrent.locks.AbstractQueuedSynchronizer.doAcquireSharedInterruptibly(\u001b[32mAbstractQueuedSynchronizer.java\u001b[39m:\u001b[32m997\u001b[39m)\n  java.util.concurrent.locks.AbstractQueuedSynchronizer.acquireSharedInterruptibly(\u001b[32mAbstractQueuedSynchronizer.java\u001b[39m:\u001b[32m1304\u001b[39m)\n  scala.concurrent.impl.Promise$DefaultPromise.tryAwait(\u001b[32mPromise.scala\u001b[39m:\u001b[32m242\u001b[39m)\n  scala.concurrent.impl.Promise$DefaultPromise.ready(\u001b[32mPromise.scala\u001b[39m:\u001b[32m258\u001b[39m)\n  scala.concurrent.impl.Promise$DefaultPromise.result(\u001b[32mPromise.scala\u001b[39m:\u001b[32m263\u001b[39m)\n  scala.concurrent.Await$.$anonfun$result$1(\u001b[32mpackage.scala\u001b[39m:\u001b[32m219\u001b[39m)\n  scala.concurrent.Await$$$Lambda$2287/1483869858.apply(\u001b[32mUnknown Source\u001b[39m)\n  scala.concurrent.BlockContext$DefaultBlockContext$.blockOn(\u001b[32mBlockContext.scala\u001b[39m:\u001b[32m57\u001b[39m)\n  scala.concurrent.Await$.result(\u001b[32mpackage.scala\u001b[39m:\u001b[32m146\u001b[39m)\n  almond.Execute.$anonfun$input0$2(\u001b[32mExecute.scala\u001b[39m:\u001b[32m57\u001b[39m)\n  almond.Execute$$Lambda$2277/1769233291.apply(\u001b[32mUnknown Source\u001b[39m)\n  scala.Option.flatMap(\u001b[32mOption.scala\u001b[39m:\u001b[32m188\u001b[39m)\n  almond.Execute.$anonfun$input0$1(\u001b[32mExecute.scala\u001b[39m:\u001b[32m48\u001b[39m)\n  almond.Execute$$Lambda$149/1112414583.apply(\u001b[32mUnknown Source\u001b[39m)\n  almond.internals.FunctionInputStream.maybeFetchNewBuffer(\u001b[32mFunctionInputStream.scala\u001b[39m:\u001b[32m24\u001b[39m)\n  almond.internals.FunctionInputStream.read(\u001b[32mFunctionInputStream.scala\u001b[39m:\u001b[32m54\u001b[39m)\n  sun.nio.cs.StreamDecoder.readBytes(\u001b[32mStreamDecoder.java\u001b[39m:\u001b[32m284\u001b[39m)\n  sun.nio.cs.StreamDecoder.implRead(\u001b[32mStreamDecoder.java\u001b[39m:\u001b[32m326\u001b[39m)\n  sun.nio.cs.StreamDecoder.read(\u001b[32mStreamDecoder.java\u001b[39m:\u001b[32m178\u001b[39m)\n  java.io.InputStreamReader.read(\u001b[32mInputStreamReader.java\u001b[39m:\u001b[32m184\u001b[39m)\n  java.io.BufferedReader.fill(\u001b[32mBufferedReader.java\u001b[39m:\u001b[32m161\u001b[39m)\n  java.io.BufferedReader.readLine(\u001b[32mBufferedReader.java\u001b[39m:\u001b[32m324\u001b[39m)\n  java.io.BufferedReader.readLine(\u001b[32mBufferedReader.java\u001b[39m:\u001b[32m389\u001b[39m)\n  scala.io.StdIn.readLine(\u001b[32mStdIn.scala\u001b[39m:\u001b[32m30\u001b[39m)\n  scala.io.StdIn.readLine$(\u001b[32mStdIn.scala\u001b[39m:\u001b[32m30\u001b[39m)\n  scala.io.StdIn$.readLine(\u001b[32mStdIn.scala\u001b[39m:\u001b[32m241\u001b[39m)\n  ammonite.$sess.cmd2$Helper.<init>(\u001b[32mcmd2.sc\u001b[39m:\u001b[32m12\u001b[39m)\n  ammonite.$sess.cmd2$.<init>(\u001b[32mcmd2.sc\u001b[39m:\u001b[32m7\u001b[39m)\n  ammonite.$sess.cmd2$.<clinit>(\u001b[32mcmd2.sc\u001b[39m:\u001b[32m-1\u001b[39m)"
     ]
    }
   ],
   "source": [
    "val name: String = \"Michael\"\n",
    "val age: Double = 30\n",
    "val health = 100\n",
    "val locations = Array(\"North\", \"South\")\n",
    "\n",
    "for (h <- locations) println(h)\n",
    "\n",
    "var stop = false\n",
    "while(!stop) {\n",
    "    var choice = scala.io.StdIn.readLine().toInt\n",
    "    \n",
    "    if (choice >= 0 && choice < locations.length) {\n",
    "        stop = true\n",
    "        println(locations(choice))\n",
    "    } else {\n",
    "        println(s\"ERROR: $choice not a valid choice!\")\n",
    "    }\n",
    "}"
   ]
  },
  {
   "cell_type": "markdown",
   "metadata": {},
   "source": [
    "## Part 1: The Toolkit"
   ]
  },
  {
   "cell_type": "markdown",
   "metadata": {},
   "source": [
    "* grammar\n",
    "    * terms\n",
    "        * labels\n",
    "        * keywords\n",
    "        * operators\n",
    "        * literals\n",
    "    * phrases\n",
    "        * expressions\n",
    "        * statements\n",
    "        * declarations\n",
    "\n",
    "* labels\n",
    "\n",
    "* label (static) types\n",
    "\n",
    "* values\n",
    "    * constructors\n",
    "* data \"types\" / structures\n",
    "    * single values\n",
    "    * plural values\n",
    "    * complex values\n",
    "    * special values\n",
    "        * empty\n",
    "        * boolean\n",
    "        \n",
    "* operations over\n",
    "    * integers\n",
    "    * strings\n",
    "    * bools\n",
    "    * arrays\n",
    "\n",
    "* control flow\n",
    "\n",
    "* testing"
   ]
  },
  {
   "cell_type": "markdown",
   "metadata": {},
   "source": [
    "## Part 2: Sequential Design"
   ]
  },
  {
   "cell_type": "markdown",
   "metadata": {},
   "source": [
    "* data structure choice\n",
    "* actions (statements) vs. expressions\n",
    "* kinds of logic:\n",
    "    * design / formatting\n",
    "    * business / decision \n",
    "    * data / structuring\n",
    "    * calculative\n",
    "    * i/o\n",
    "* horizontal and vertical spacing\n",
    "* comments"
   ]
  },
  {
   "cell_type": "markdown",
   "metadata": {},
   "source": [
    "## Exercise"
   ]
  },
  {
   "cell_type": "markdown",
   "metadata": {},
   "source": [
    "* draw a map\n",
    "* ask a player to choose a new position\n",
    "* redraw the map\n",
    "* if the player's new position meets a \"lose condition\", they lose\n",
    "* otherwise ask them to move again\n",
    "* they win when they move without error, eg., 10 times"
   ]
  },
  {
   "cell_type": "markdown",
   "metadata": {},
   "source": [
    "## Procedural Programming"
   ]
  },
  {
   "cell_type": "markdown",
   "metadata": {},
   "source": [
    "### Part 0: Exemplar"
   ]
  },
  {
   "cell_type": "markdown",
   "metadata": {},
   "source": [
    "### Part 1: The Toolkit"
   ]
  },
  {
   "cell_type": "markdown",
   "metadata": {},
   "source": [
    "* procedures\n",
    "    * actions (unitary)\n",
    "    * transformers (calculative)\n",
    "    * constructors\n",
    "    \n",
    "* modules (/namespaces)\n",
    "    * grouping procedures"
   ]
  },
  {
   "cell_type": "markdown",
   "metadata": {},
   "source": [
    "### Part 2: Procedural Design"
   ]
  },
  {
   "cell_type": "markdown",
   "metadata": {},
   "source": [
    "* procedures as \n",
    "    * coherent units\n",
    "    * stages\n",
    "    * programs\n",
    "    \n",
    "* modules\n",
    "    * grouping procedures\n",
    "    \n",
    "* reuse \n",
    "* simplicity vs. complexity\n",
    "* declarative vs. imperative\n",
    "* inversion of control\n",
    "* encapsulation of logic / blackbox abstraction"
   ]
  },
  {
   "cell_type": "markdown",
   "metadata": {},
   "source": [
    "### Exercise\n",
    "\n",
    "* In your game, group relevant logic into its own procedure"
   ]
  }
 ],
 "metadata": {
  "kernelspec": {
   "display_name": "Scala 2.12",
   "language": "scala",
   "name": "scala212"
  },
  "language_info": {
   "codemirror_mode": "text/x-scala",
   "file_extension": ".scala",
   "mimetype": "text/x-scala",
   "name": "scala",
   "nbconvert_exporter": "script",
   "version": "2.12.8"
  }
 },
 "nbformat": 4,
 "nbformat_minor": 2
}
