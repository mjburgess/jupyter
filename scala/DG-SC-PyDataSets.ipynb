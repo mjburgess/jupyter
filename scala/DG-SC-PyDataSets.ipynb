{
 "cells": [
  {
   "cell_type": "markdown",
   "metadata": {},
   "source": [
    "# Scala: Python Data Sets"
   ]
  },
  {
   "cell_type": "code",
   "execution_count": 8,
   "metadata": {},
   "outputs": [],
   "source": [
    "import statsmodels.api as sm\n",
    "crime = sm.datasets.get_rdataset(\"UScrime\", \"MASS\")"
   ]
  },
  {
   "cell_type": "code",
   "execution_count": 13,
   "metadata": {},
   "outputs": [],
   "source": [
    "crime.data.to_csv('crime.csv', index=False)"
   ]
  },
  {
   "cell_type": "markdown",
   "metadata": {},
   "source": [
    "\n",
    "This data frame contains the following columns:\n",
    "\n",
    "M\n",
    "percentage of males aged 14–24.\n",
    "\n",
    "So\n",
    "indicator variable for a Southern state.\n",
    "\n",
    "Ed\n",
    "mean years of schooling.\n",
    "\n",
    "Po1\n",
    "police expenditure in 1960.\n",
    "\n",
    "Po2\n",
    "police expenditure in 1959.\n",
    "\n",
    "LF\n",
    "labour force participation rate.\n",
    "\n",
    "M.F\n",
    "number of males per 1000 females.\n",
    "\n",
    "Pop\n",
    "state population.\n",
    "\n",
    "NW\n",
    "number of non-whites per 1000 people.\n",
    "\n",
    "U1\n",
    "unemployment rate of urban males 14–24.\n",
    "\n",
    "U2\n",
    "unemployment rate of urban males 35–39.\n",
    "\n",
    "GDP\n",
    "gross domestic product per head.\n",
    "\n",
    "Ineq\n",
    "income inequality.\n",
    "\n",
    "Prob\n",
    "probability of imprisonment.\n",
    "\n",
    "Time\n",
    "average time served in state prisons.\n",
    "\n",
    "y\n",
    "rate of crimes in a particular category per head of population."
   ]
  },
  {
   "cell_type": "code",
   "execution_count": 14,
   "metadata": {},
   "outputs": [
    {
     "data": {
      "text/html": [
       "<div>\n",
       "<style scoped>\n",
       "    .dataframe tbody tr th:only-of-type {\n",
       "        vertical-align: middle;\n",
       "    }\n",
       "\n",
       "    .dataframe tbody tr th {\n",
       "        vertical-align: top;\n",
       "    }\n",
       "\n",
       "    .dataframe thead th {\n",
       "        text-align: right;\n",
       "    }\n",
       "</style>\n",
       "<table border=\"1\" class=\"dataframe\">\n",
       "  <thead>\n",
       "    <tr style=\"text-align: right;\">\n",
       "      <th></th>\n",
       "      <th>1940</th>\n",
       "      <th>1945</th>\n",
       "      <th>1950</th>\n",
       "      <th>1955</th>\n",
       "      <th>1960</th>\n",
       "    </tr>\n",
       "  </thead>\n",
       "  <tbody>\n",
       "    <tr>\n",
       "      <th>Food and Tobacco</th>\n",
       "      <td>22.200</td>\n",
       "      <td>44.500</td>\n",
       "      <td>59.60</td>\n",
       "      <td>73.2</td>\n",
       "      <td>86.80</td>\n",
       "    </tr>\n",
       "    <tr>\n",
       "      <th>Household Operation</th>\n",
       "      <td>10.500</td>\n",
       "      <td>15.500</td>\n",
       "      <td>29.00</td>\n",
       "      <td>36.5</td>\n",
       "      <td>46.20</td>\n",
       "    </tr>\n",
       "    <tr>\n",
       "      <th>Medical and Health</th>\n",
       "      <td>3.530</td>\n",
       "      <td>5.760</td>\n",
       "      <td>9.71</td>\n",
       "      <td>14.0</td>\n",
       "      <td>21.10</td>\n",
       "    </tr>\n",
       "    <tr>\n",
       "      <th>Personal Care</th>\n",
       "      <td>1.040</td>\n",
       "      <td>1.980</td>\n",
       "      <td>2.45</td>\n",
       "      <td>3.4</td>\n",
       "      <td>5.40</td>\n",
       "    </tr>\n",
       "    <tr>\n",
       "      <th>Private Education</th>\n",
       "      <td>0.341</td>\n",
       "      <td>0.974</td>\n",
       "      <td>1.80</td>\n",
       "      <td>2.6</td>\n",
       "      <td>3.64</td>\n",
       "    </tr>\n",
       "  </tbody>\n",
       "</table>\n",
       "</div>"
      ],
      "text/plain": [
       "                       1940    1945   1950  1955   1960\n",
       "Food and Tobacco     22.200  44.500  59.60  73.2  86.80\n",
       "Household Operation  10.500  15.500  29.00  36.5  46.20\n",
       "Medical and Health    3.530   5.760   9.71  14.0  21.10\n",
       "Personal Care         1.040   1.980   2.45   3.4   5.40\n",
       "Private Education     0.341   0.974   1.80   2.6   3.64"
      ]
     },
     "execution_count": 14,
     "metadata": {},
     "output_type": "execute_result"
    }
   ],
   "source": [
    "sm.datasets.get_rdataset(\"USPersonalExpenditure\", \"datasets\").data.head()"
   ]
  }
 ],
 "metadata": {
  "kernelspec": {
   "display_name": "Python 3",
   "language": "python",
   "name": "python3"
  },
  "language_info": {
   "codemirror_mode": {
    "name": "ipython",
    "version": 3
   },
   "file_extension": ".py",
   "mimetype": "text/x-python",
   "name": "python",
   "nbconvert_exporter": "python",
   "pygments_lexer": "ipython3",
   "version": "3.7.1"
  }
 },
 "nbformat": 4,
 "nbformat_minor": 2
}
