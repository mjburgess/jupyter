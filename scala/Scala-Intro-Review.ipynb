{
 "cells": [
  {
   "cell_type": "markdown",
   "metadata": {},
   "source": [
    "# Scala Review"
   ]
  },
  {
   "cell_type": "markdown",
   "metadata": {},
   "source": [
    "* paradigm\n",
    "    * characteristic -- idioms\n",
    "    * style\n",
    "    * convention\n",
    "    * approach\n",
    "    * technique"
   ]
  },
  {
   "cell_type": "markdown",
   "metadata": {},
   "source": [
    "* imperative vs. declarative\n",
    "    * actions vs. expressions\n",
    "    * change vs. calculation\n",
    "    * recipe vs. result"
   ]
  },
  {
   "cell_type": "markdown",
   "metadata": {},
   "source": [
    "* imperative:\n",
    "    * sequential\n",
    "    * procedural\n",
    "    * object-oriented"
   ]
  },
  {
   "cell_type": "markdown",
   "metadata": {},
   "source": [
    "* paradigm\n",
    "    * sequential \n",
    "        * variables\n",
    "        * decisions\n",
    "        * loops\n",
    "        * device access\n",
    "        * algorithmic/recipe/clockwork\n",
    "    * procedural\n",
    "        * procedures\n",
    "            * named group (boundary) of actions\n",
    "            * black box abstraction\n",
    "            * (in/out) vs each step\n",
    "    * object-oriented\n",
    "        * `class`, `extends`\n",
    "        * templates to describe data-behaviour bundles, \"objects\"\n",
    "        * extend templates to describe variatoon\n",
    "            * eg., Person, Worker extends person\n",
    "            \n",
    "        * test-driven development\n",
    "            * \"unit testing\"\n",
    "            * testing a relevant unit of your application\n",
    "            * unit = smallest meaningful boundary\n",
    "            * = procedure\n",
    "            \n",
    "            * code your specificaiton first\n",
    "                * define specification IN CODE!"
   ]
  }
 ],
 "metadata": {
  "kernelspec": {
   "display_name": "Scala 2.12",
   "language": "scala",
   "name": "scala212"
  },
  "language_info": {
   "codemirror_mode": "text/x-scala",
   "file_extension": ".scala",
   "mimetype": "text/x-scala",
   "name": "scala",
   "nbconvert_exporter": "script",
   "version": "2.12.8"
  }
 },
 "nbformat": 4,
 "nbformat_minor": 2
}
