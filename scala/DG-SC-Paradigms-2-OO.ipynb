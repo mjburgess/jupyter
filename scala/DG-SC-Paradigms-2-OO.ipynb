{
 "cells": [
  {
   "cell_type": "markdown",
   "metadata": {},
   "source": [
    "# Introduction to Programming with Scala"
   ]
  },
  {
   "cell_type": "markdown",
   "metadata": {},
   "source": [
    "### Overview \n",
    "\n",
    "* Sequential Programming\t\n",
    "    * Exercise\n",
    "    \n",
    "* Procedural\n",
    "    * Exercise\n",
    "    \n",
    "* Object Orientation\n",
    "    * Exercise\n",
    "      \n",
    "* Test-Driven Development\n",
    "    * Static Type Systems\n",
    "    * Unit Testing\n",
    "    * Exercise \n",
    "    \n",
    "* Functional Programming\n"
   ]
  },
  {
   "cell_type": "markdown",
   "metadata": {},
   "source": [
    "## Object Orientation"
   ]
  },
  {
   "cell_type": "markdown",
   "metadata": {},
   "source": [
    "### Part 0: Exemplar"
   ]
  },
  {
   "cell_type": "code",
   "execution_count": 48,
   "metadata": {},
   "outputs": [
    {
     "name": "stdout",
     "output_type": "stream",
     "text": [
      "North\n"
     ]
    },
    {
     "data": {
      "text/plain": [
       "defined \u001b[32mclass\u001b[39m \u001b[36mPerson\u001b[39m\n",
       "\u001b[36mme\u001b[39m: \u001b[32mPerson\u001b[39m = ammonite.$sess.cmd47$Helper$Person@76a8fff9"
      ]
     },
     "execution_count": 48,
     "metadata": {},
     "output_type": "execute_result"
    }
   ],
   "source": [
    "class Person(val name: String, val locations: Array[String], val health: Double) {\n",
    "    def chooseLocation(x: Int) = locations(x)\n",
    "}\n",
    "\n",
    "\n",
    "val me = new Person(\"Michael\", Array(\"North\", \"South\"), 100)\n",
    "\n",
    "println(me.chooseLocation(0))"
   ]
  },
  {
   "cell_type": "markdown",
   "metadata": {},
   "source": [
    "### Part 1: The Toolkit"
   ]
  },
  {
   "cell_type": "markdown",
   "metadata": {},
   "source": [
    "* classes\n",
    "    * state\n",
    "    * methods\n",
    "* inheritance\n",
    "    * sharing\n",
    "    * variation"
   ]
  },
  {
   "cell_type": "markdown",
   "metadata": {},
   "source": [
    "### Part 2: Object Oriented Design"
   ]
  },
  {
   "cell_type": "markdown",
   "metadata": {},
   "source": [
    "* templates\n",
    "* data-first\n",
    "* encapsulation of state\n",
    "* variation with subtype polymorphism"
   ]
  },
  {
   "cell_type": "markdown",
   "metadata": {},
   "source": [
    "* Create a Player class and a Board class"
   ]
  },
  {
   "cell_type": "code",
   "execution_count": null,
   "metadata": {},
   "outputs": [],
   "source": []
  }
 ],
 "metadata": {
  "kernelspec": {
   "display_name": "Scala 2.12",
   "language": "scala",
   "name": "scala212"
  },
  "language_info": {
   "codemirror_mode": "text/x-scala",
   "file_extension": ".scala",
   "mimetype": "text/x-scala",
   "name": "scala",
   "nbconvert_exporter": "script",
   "version": "2.12.8"
  }
 },
 "nbformat": 4,
 "nbformat_minor": 2
}
