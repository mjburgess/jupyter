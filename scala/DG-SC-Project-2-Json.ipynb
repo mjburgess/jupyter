{
 "cells": [
  {
   "cell_type": "markdown",
   "metadata": {},
   "source": [
    "# Scala Project \n",
    "\n",
    "\n",
    "## Part 2: JSON with json4s"
   ]
  },
  {
   "cell_type": "markdown",
   "metadata": {},
   "source": [
    "## Brief"
   ]
  },
  {
   "cell_type": "markdown",
   "metadata": {},
   "source": [
    "* Recall the data structure from the brief:\n",
    "\n",
    "    * Name, Age, Location, Weekly Spending on Food, Yearly Spending on Cinema, Favourite Film\n",
    "        * Like Action, Like Romantic, Like Horror, Like Comedy\n",
    "        * Like Cinema, Like Food at the Cinema, Like 3D Films\n",
    "        \n",
    "* Ensure you have a case class which represents it"
   ]
  },
  {
   "cell_type": "markdown",
   "metadata": {},
   "source": [
    "## Questions\n",
    "\n",
    "### Define and Parse\n",
    "* Define a document structure for your `Person` using `JValue`s\n",
    "* Define using the DSL syntax (ie., ~)\n",
    "* Write the document to a string\n",
    "* Parse a json string into a `JValue`\n",
    "\n",
    "\n",
    "### Custom Serialization\n",
    "* Define a custom serializer for your case class. \n",
    "* Show that you can `parse` json to your classes, and `write` instances. \n",
    "\n",
    "### File IO\n",
    "* Define object Writer with `writeFile(fn: String, contents: String)` and `writeJsonNow(contents: String)`\n",
    "    * the latter calls the former to write a file\n",
    "    * where the name is the current time as a timestamp in milliseconds\n",
    "    * HINT:\n",
    "        * `java.util.Calendar.getInstance().getTimeInMillis().toString`\n",
    "* Use `writeJsonNow()` to save a json document\n",
    "\n",
    "\n",
    "\n",
    "### Extra\n",
    "* Create a unit-tested compiled program\n",
    "    * with an sbt build file and the appropriate dependencies"
   ]
  }
 ],
 "metadata": {
  "kernelspec": {
   "display_name": "Scala 2.12",
   "language": "scala",
   "name": "scala212"
  },
  "language_info": {
   "codemirror_mode": "text/x-scala",
   "file_extension": ".scala",
   "mimetype": "text/x-scala",
   "name": "scala",
   "nbconvert_exporter": "script",
   "version": "2.12.8"
  }
 },
 "nbformat": 4,
 "nbformat_minor": 2
}
