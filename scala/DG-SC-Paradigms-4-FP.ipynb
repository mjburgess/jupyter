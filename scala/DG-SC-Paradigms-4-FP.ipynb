{
 "cells": [
  {
   "cell_type": "markdown",
   "metadata": {},
   "source": [
    "# Introduction to Programming with Scala"
   ]
  },
  {
   "cell_type": "markdown",
   "metadata": {},
   "source": [
    "## Functional Programming"
   ]
  },
  {
   "cell_type": "markdown",
   "metadata": {},
   "source": [
    "### Part 0: Exemplar"
   ]
  },
  {
   "cell_type": "code",
   "execution_count": 5,
   "metadata": {},
   "outputs": [
    {
     "name": "stdout",
     "output_type": "stream",
     "text": [
      "Hi Michael\n",
      "Michael !\n"
     ]
    },
    {
     "data": {
      "text/plain": [
       "\u001b[36mglue\u001b[39m: (\u001b[32mString\u001b[39m, \u001b[32mString\u001b[39m) => \u001b[32mString\u001b[39m = ammonite.$sess.cmd4$Helper$$Lambda$2520/1286154920@3e1079f5\n",
       "\u001b[36mshout\u001b[39m: \u001b[32mString\u001b[39m => \u001b[32mString\u001b[39m = ammonite.$sess.cmd4$Helper$$Lambda$2521/980166646@2106e6a1"
      ]
     },
     "execution_count": 5,
     "metadata": {},
     "output_type": "execute_result"
    }
   ],
   "source": [
    "val glue = \n",
    "    (x: String, y: String) => x + \" \" + y\n",
    "\n",
    "\n",
    "println(glue(\"Hi\", \"Michael\"))\n",
    "\n",
    "val shout = \n",
    "    (x: String) => glue(x, \"!\")\n",
    "\n",
    "println(shout(\"Michael\"))\n",
    "\n"
   ]
  },
  {
   "cell_type": "code",
   "execution_count": 7,
   "metadata": {},
   "outputs": [
    {
     "name": "stdout",
     "output_type": "stream",
     "text": [
      "(Hi,Michael)\n"
     ]
    },
    {
     "data": {
      "text/plain": [
       "\u001b[36mmsg\u001b[39m: \u001b[32mArray\u001b[39m[\u001b[32mString\u001b[39m] = \u001b[33mArray\u001b[39m(\u001b[32m\"Hi\"\u001b[39m, \u001b[32m\"Bye\"\u001b[39m)\n",
       "defined \u001b[32mfunction\u001b[39m \u001b[36mshow\u001b[39m"
      ]
     },
     "execution_count": 7,
     "metadata": {},
     "output_type": "execute_result"
    }
   ],
   "source": [
    "// lifting\n",
    "\n",
    "val msg = Array(\"Hi\", \"Bye\")\n",
    "\n",
    "def show(message: String, f: Int => String) = println(f(0), message)\n",
    "\n",
    "show(\"Michael\", msg)"
   ]
  },
  {
   "cell_type": "markdown",
   "metadata": {},
   "source": [
    "### Part 1: The Toolkit\n",
    "\n",
    "* function-values ($\\lambda$s)\n",
    "* function-passing\n",
    "    * combinators\n",
    "    \n",
    "* (function-lifting / converting)\n",
    "\n",
    "* immutability\n",
    "\n"
   ]
  },
  {
   "cell_type": "markdown",
   "metadata": {},
   "source": [
    "### Exercise\n",
    "\n",
    "* Express moves as Frame transitions\n",
    "* Array.fill etc."
   ]
  },
  {
   "cell_type": "markdown",
   "metadata": {},
   "source": []
  }
 ],
 "metadata": {
  "kernelspec": {
   "display_name": "Scala 2.12",
   "language": "scala",
   "name": "scala212"
  },
  "language_info": {
   "codemirror_mode": "text/x-scala",
   "file_extension": ".scala",
   "mimetype": "text/x-scala",
   "name": "scala",
   "nbconvert_exporter": "script",
   "version": "2.12.8"
  }
 },
 "nbformat": 4,
 "nbformat_minor": 2
}
