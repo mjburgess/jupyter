{
 "cells": [
  {
   "cell_type": "markdown",
   "metadata": {},
   "source": [
    "# `object`"
   ]
  },
  {
   "cell_type": "markdown",
   "metadata": {},
   "source": [
    "## Objects as Namespaces"
   ]
  },
  {
   "cell_type": "code",
   "execution_count": 6,
   "metadata": {},
   "outputs": [
    {
     "data": {
      "text/plain": [
       "defined \u001b[32mobject\u001b[39m \u001b[36mUtil\u001b[39m"
      ]
     },
     "execution_count": 6,
     "metadata": {},
     "output_type": "execute_result"
    }
   ],
   "source": [
    "object Util {\n",
    "    def show() = \"print\"\n",
    "}"
   ]
  },
  {
   "cell_type": "code",
   "execution_count": 7,
   "metadata": {},
   "outputs": [
    {
     "name": "stdout",
     "output_type": "stream",
     "text": [
      "Hi\n"
     ]
    },
    {
     "data": {
      "text/plain": [
       "defined \u001b[32mobject\u001b[39m \u001b[36mSupermarket\u001b[39m\n",
       "\u001b[36mme\u001b[39m: \u001b[32mSupermarket\u001b[39m.\u001b[32mCustomer\u001b[39m = ammonite.$sess.cmd6$Helper$Supermarket$Customer@2dc0b97f"
      ]
     },
     "execution_count": 7,
     "metadata": {},
     "output_type": "execute_result"
    }
   ],
   "source": [
    "// .\n",
    "object Supermarket {\n",
    "    class Customer\n",
    "\n",
    "    object Util {\n",
    "        def show() = println(\"Hi\")\n",
    "    }\n",
    "}\n",
    "\n",
    "val me = new Supermarket.Customer\n",
    "\n",
    "Supermarket.Util.show()"
   ]
  },
  {
   "cell_type": "markdown",
   "metadata": {},
   "source": [
    "## Hold Universal (Single) Data/Config"
   ]
  },
  {
   "cell_type": "code",
   "execution_count": 3,
   "metadata": {},
   "outputs": [
    {
     "data": {
      "text/plain": [
       "defined \u001b[32mobject\u001b[39m \u001b[36mConfig\u001b[39m\n",
       "\u001b[36mres2_1\u001b[39m: \u001b[32mString\u001b[39m = \u001b[32m\"UK\"\u001b[39m"
      ]
     },
     "execution_count": 3,
     "metadata": {},
     "output_type": "execute_result"
    }
   ],
   "source": [
    "object Config {\n",
    "    val host = \"UK\"\n",
    "    val pw  = 1234\n",
    "}\n",
    "\n",
    "Config.host"
   ]
  },
  {
   "cell_type": "code",
   "execution_count": 9,
   "metadata": {},
   "outputs": [
    {
     "data": {
      "text/plain": [
       "defined \u001b[32mobject\u001b[39m \u001b[36mEarth\u001b[39m\n",
       "\u001b[36mres8_1\u001b[39m: \u001b[32mInt\u001b[39m = \u001b[32m6\u001b[39m"
      ]
     },
     "execution_count": 9,
     "metadata": {},
     "output_type": "execute_result"
    }
   ],
   "source": [
    "object Earth {\n",
    "    val pop = 6\n",
    "}\n",
    "\n",
    "Earth.pop"
   ]
  },
  {
   "cell_type": "markdown",
   "metadata": {},
   "source": [
    "## Mechanism"
   ]
  },
  {
   "cell_type": "code",
   "execution_count": 15,
   "metadata": {},
   "outputs": [
    {
     "data": {
      "text/plain": [
       "defined \u001b[32mobject\u001b[39m \u001b[36mMichael\u001b[39m\n",
       "defined \u001b[32mclass\u001b[39m \u001b[36m$Michael$\u001b[39m\n",
       "\u001b[36mMichael_\u001b[39m: \u001b[32m$Michael$\u001b[39m = ammonite.$sess.cmd14$Helper$$Michael$@30564304"
      ]
     },
     "execution_count": 15,
     "metadata": {},
     "output_type": "execute_result"
    }
   ],
   "source": [
    "// val Michael = { }\n",
    "object Michael {\n",
    "    val name = \"Michael\"\n",
    "}\n",
    "\n",
    "class $Michael$ {\n",
    "    val name = \"Michael\"\n",
    "}\n",
    "\n",
    "val Michael_ = new $Michael$"
   ]
  },
  {
   "cell_type": "code",
   "execution_count": 11,
   "metadata": {},
   "outputs": [
    {
     "data": {
      "text/plain": [
       "\u001b[36mres10\u001b[39m: \u001b[32mString\u001b[39m = \u001b[32m\"Michael\"\u001b[39m"
      ]
     },
     "execution_count": 11,
     "metadata": {},
     "output_type": "execute_result"
    }
   ],
   "source": [
    "Michael.name"
   ]
  },
  {
   "cell_type": "code",
   "execution_count": 13,
   "metadata": {},
   "outputs": [
    {
     "data": {
      "text/plain": [
       "\u001b[36mres12\u001b[39m: \u001b[32mString\u001b[39m = \u001b[32m\"Michael\"\u001b[39m"
      ]
     },
     "execution_count": 13,
     "metadata": {},
     "output_type": "execute_result"
    }
   ],
   "source": [
    "Michael_.name"
   ]
  },
  {
   "cell_type": "markdown",
   "metadata": {},
   "source": [
    "## Functions as Objects"
   ]
  },
  {
   "cell_type": "code",
   "execution_count": 34,
   "metadata": {},
   "outputs": [
    {
     "data": {
      "text/plain": [
       "defined \u001b[32mobject\u001b[39m \u001b[36mPlus\u001b[39m"
      ]
     },
     "execution_count": 34,
     "metadata": {},
     "output_type": "execute_result"
    }
   ],
   "source": [
    "object Plus {\n",
    "    def apply(l: String, r: String) = s\"$l $r\"\n",
    "    def apply(l: Int, r: Int) = l + r\n",
    "}"
   ]
  },
  {
   "cell_type": "code",
   "execution_count": 35,
   "metadata": {},
   "outputs": [
    {
     "data": {
      "text/plain": [
       "\u001b[36mres34\u001b[39m: \u001b[32mString\u001b[39m = \u001b[32m\"Michael Burgess\"\u001b[39m"
      ]
     },
     "execution_count": 35,
     "metadata": {},
     "output_type": "execute_result"
    }
   ],
   "source": [
    "Plus(\"Michael\", \"Burgess\")"
   ]
  },
  {
   "cell_type": "code",
   "execution_count": 36,
   "metadata": {},
   "outputs": [
    {
     "data": {
      "text/plain": [
       "\u001b[36mres35\u001b[39m: \u001b[32mInt\u001b[39m = \u001b[32m4\u001b[39m"
      ]
     },
     "execution_count": 36,
     "metadata": {},
     "output_type": "execute_result"
    }
   ],
   "source": [
    "Plus(1, 3)"
   ]
  },
  {
   "cell_type": "code",
   "execution_count": 19,
   "metadata": {},
   "outputs": [
    {
     "data": {
      "text/plain": [
       "\u001b[36mf\u001b[39m: (\u001b[32mInt\u001b[39m, \u001b[32mInt\u001b[39m) => \u001b[32mInt\u001b[39m = ammonite.$sess.cmd18$Helper$$Lambda$2610/924258495@7cbfa8f7\n",
       "\u001b[36mres18_1\u001b[39m: \u001b[32mInt\u001b[39m = \u001b[32m15\u001b[39m"
      ]
     },
     "execution_count": 19,
     "metadata": {},
     "output_type": "execute_result"
    }
   ],
   "source": [
    "// val f = ... { ... def apply(l, r) = l + r ... } ....\n",
    "\n",
    "val f = (l: Int, r: Int) => l + r\n",
    "\n",
    "// f.apply(5, 10)\n",
    "f(5, 10)"
   ]
  },
  {
   "cell_type": "markdown",
   "metadata": {},
   "source": [
    "## Objects as Companions"
   ]
  },
  {
   "cell_type": "markdown",
   "metadata": {},
   "source": [
    "* may all have same name\n",
    "    * class - template for an object\n",
    "        * class Customer makes a michael\n",
    "    * object - can see the private details of the objects above\n",
    "        * object Staff can see michael's password\n",
    "    * type - validity check / rule regarding the objects of the class\n",
    "        * : Customer can *only* store michael\n",
    "        "
   ]
  },
  {
   "cell_type": "code",
   "execution_count": 50,
   "metadata": {},
   "outputs": [
    {
     "data": {
      "text/plain": [
       "\u001b[36mname\u001b[39m: \u001b[32mString\u001b[39m = \u001b[32m\"Michael\"\u001b[39m\n",
       "\u001b[36muser\u001b[39m: \u001b[32mString\u001b[39m = \u001b[32m\"Michael\"\u001b[39m\n",
       "\u001b[36mres49_2\u001b[39m: \u001b[32mInt\u001b[39m = \u001b[32m7\u001b[39m"
      ]
     },
     "execution_count": 50,
     "metadata": {},
     "output_type": "execute_result"
    }
   ],
   "source": [
    "val name = \"Michael\"\n",
    "val user = name\n",
    "\n",
    "user.length"
   ]
  },
  {
   "cell_type": "code",
   "execution_count": 49,
   "metadata": {},
   "outputs": [
    {
     "data": {
      "text/plain": [
       "defined \u001b[32mobject\u001b[39m \u001b[36mCustomer\u001b[39m\n",
       "\u001b[36mme\u001b[39m: \u001b[32mCustomer\u001b[39m.type = ammonite.$sess.cmd48$Helper$Customer$@2f6f019f\n",
       "\u001b[36mres48_2\u001b[39m: \u001b[32mString\u001b[39m = \u001b[32m\"mIhcale\"\u001b[39m"
      ]
     },
     "execution_count": 49,
     "metadata": {},
     "output_type": "execute_result"
    }
   ],
   "source": [
    "// val Customer = { ... }\n",
    "object Customer {\n",
    "    val name= \"mIhcale\"\n",
    "}\n",
    "\n",
    "// val me = customer\n",
    "val me = Customer // scala infers the auto-generated (annoymous) type\n",
    "me.name"
   ]
  },
  {
   "cell_type": "code",
   "execution_count": 46,
   "metadata": {},
   "outputs": [
    {
     "data": {
      "text/plain": [
       "defined \u001b[32mclass\u001b[39m \u001b[36mCustomer\u001b[39m\n",
       "\u001b[36myou\u001b[39m: \u001b[32mCustomer\u001b[39m = ammonite.$sess.cmd45$Helper$Customer@2aff0412"
      ]
     },
     "execution_count": 46,
     "metadata": {},
     "output_type": "execute_result"
    }
   ],
   "source": [
    "class Customer\n",
    "val you: Customer = new Customer"
   ]
  },
  {
   "cell_type": "code",
   "execution_count": 51,
   "metadata": {},
   "outputs": [
    {
     "name": "stdout",
     "output_type": "stream",
     "text": [
      "toy\n"
     ]
    },
    {
     "data": {
      "text/plain": [
       "defined \u001b[32mclass\u001b[39m \u001b[36mItem\u001b[39m\n",
       "defined \u001b[32mobject\u001b[39m \u001b[36mItem\u001b[39m"
      ]
     },
     "execution_count": 51,
     "metadata": {},
     "output_type": "execute_result"
    }
   ],
   "source": [
    "class Item private (val name: String, val price: Double) {\n",
    "    private val pin: Int = 1234\n",
    "}\n",
    "\n",
    "object Item {\n",
    "    def apply(n: String) = new Item(n, 0)\n",
    "    def default(): Item = new Item(\"?\", 0)\n",
    "    def toy(): Item = new Item(\"toy\", 10)\n",
    "}\n",
    "\n",
    "println(Item.toy().name)"
   ]
  },
  {
   "cell_type": "code",
   "execution_count": 54,
   "metadata": {},
   "outputs": [
    {
     "data": {
      "text/plain": [
       "\u001b[36mres53\u001b[39m: \u001b[32mString\u001b[39m = \u001b[32m\"Food\"\u001b[39m"
      ]
     },
     "execution_count": 54,
     "metadata": {},
     "output_type": "execute_result"
    }
   ],
   "source": [
    "Item(\"Food\").name"
   ]
  },
  {
   "cell_type": "code",
   "execution_count": 56,
   "metadata": {},
   "outputs": [
    {
     "data": {
      "text/plain": [
       "\u001b[36mres55\u001b[39m: \u001b[32mList\u001b[39m[\u001b[32mInt\u001b[39m] = \u001b[33mList\u001b[39m(\u001b[32m1\u001b[39m, \u001b[32m2\u001b[39m, \u001b[32m3\u001b[39m)"
      ]
     },
     "execution_count": 56,
     "metadata": {},
     "output_type": "execute_result"
    }
   ],
   "source": [
    "List.apply(1, 2, 3)"
   ]
  },
  {
   "cell_type": "code",
   "execution_count": 57,
   "metadata": {},
   "outputs": [
    {
     "data": {
      "text/plain": [
       "\u001b[36mres56\u001b[39m: \u001b[32mList\u001b[39m[\u001b[32mNothing\u001b[39m] = \u001b[33mList\u001b[39m()"
      ]
     },
     "execution_count": 57,
     "metadata": {},
     "output_type": "execute_result"
    }
   ],
   "source": [
    "List.empty"
   ]
  },
  {
   "cell_type": "code",
   "execution_count": 58,
   "metadata": {},
   "outputs": [
    {
     "data": {
      "text/plain": [
       "\u001b[36mres57\u001b[39m: \u001b[32mList\u001b[39m[\u001b[32mInt\u001b[39m] = \u001b[33mList\u001b[39m(\u001b[32m3\u001b[39m, \u001b[32m3\u001b[39m, \u001b[32m3\u001b[39m)"
      ]
     },
     "execution_count": 58,
     "metadata": {},
     "output_type": "execute_result"
    }
   ],
   "source": [
    "List.fill(3)(3)"
   ]
  },
  {
   "cell_type": "markdown",
   "metadata": {},
   "source": [
    "## Case Class"
   ]
  },
  {
   "cell_type": "code",
   "execution_count": 65,
   "metadata": {},
   "outputs": [
    {
     "data": {
      "text/plain": [
       "defined \u001b[32mclass\u001b[39m \u001b[36mPerson\u001b[39m"
      ]
     },
     "execution_count": 65,
     "metadata": {},
     "output_type": "execute_result"
    }
   ],
   "source": [
    "case class Person(name: String, age: Int)"
   ]
  },
  {
   "cell_type": "code",
   "execution_count": 63,
   "metadata": {},
   "outputs": [],
   "source": [
    "// new Person(\"Michael\", 10)"
   ]
  },
  {
   "cell_type": "code",
   "execution_count": 66,
   "metadata": {},
   "outputs": [
    {
     "data": {
      "text/plain": [
       "\u001b[36mres65\u001b[39m: \u001b[32mPerson\u001b[39m = \u001b[33mPerson\u001b[39m(\u001b[32m\"Michael\"\u001b[39m, \u001b[32m20\u001b[39m)"
      ]
     },
     "execution_count": 66,
     "metadata": {},
     "output_type": "execute_result"
    }
   ],
   "source": [
    "Person(\"Michael\", 20)"
   ]
  },
  {
   "cell_type": "code",
   "execution_count": 67,
   "metadata": {},
   "outputs": [
    {
     "data": {
      "text/plain": [
       "defined \u001b[32mclass\u001b[39m \u001b[36m_Person\u001b[39m\n",
       "defined \u001b[32mobject\u001b[39m \u001b[36m_Person\u001b[39m"
      ]
     },
     "execution_count": 67,
     "metadata": {},
     "output_type": "execute_result"
    }
   ],
   "source": [
    "class _Person private (val name: String, val age: Int)\n",
    "object _Person {\n",
    "    def apply(n: String, a: Int) = new Person(n, a)\n",
    "    def unapply(p: Person) = (p.name, p.age)\n",
    "}"
   ]
  },
  {
   "cell_type": "code",
   "execution_count": 69,
   "metadata": {},
   "outputs": [
    {
     "data": {
      "text/plain": [
       "\u001b[36mme\u001b[39m: \u001b[32mPerson\u001b[39m = \u001b[33mPerson\u001b[39m(\u001b[32m\"Michael\"\u001b[39m, \u001b[32m30\u001b[39m)\n",
       "\u001b[36mres68_1\u001b[39m: \u001b[32mString\u001b[39m = \u001b[32m\"Michael\"\u001b[39m"
      ]
     },
     "execution_count": 69,
     "metadata": {},
     "output_type": "execute_result"
    }
   ],
   "source": [
    "// Person.apply: (raw, fileds) -> Person\n",
    "val me = Person(\"Michael\", 30)\n",
    "\n",
    "me match {\n",
    "    //Person.unapply: Person -> (raw, fields)\n",
    "    case Person(n, a) => n\n",
    "    case _ => \"\"\n",
    "}"
   ]
  },
  {
   "cell_type": "code",
   "execution_count": 72,
   "metadata": {},
   "outputs": [
    {
     "data": {
      "text/plain": [
       "defined \u001b[32mclass\u001b[39m \u001b[36mBauble\u001b[39m\n",
       "\u001b[36mm\u001b[39m: \u001b[32mBauble\u001b[39m = \u001b[33mBauble\u001b[39m(\u001b[32m0\u001b[39m)\n",
       "\u001b[36my\u001b[39m: \u001b[32mBauble\u001b[39m = \u001b[33mBauble\u001b[39m(\u001b[32m0\u001b[39m)"
      ]
     },
     "execution_count": 72,
     "metadata": {},
     "output_type": "execute_result"
    }
   ],
   "source": [
    "case class Bauble(price: Int)\n",
    "val m = Bauble(0)\n",
    "val y = Bauble(0)"
   ]
  },
  {
   "cell_type": "markdown",
   "metadata": {},
   "source": [
    "## Exercise"
   ]
  },
  {
   "cell_type": "code",
   "execution_count": 73,
   "metadata": {},
   "outputs": [
    {
     "data": {
      "text/plain": [
       "defined \u001b[32mclass\u001b[39m \u001b[36mToy\u001b[39m\n",
       "defined \u001b[32mobject\u001b[39m \u001b[36mToy\u001b[39m\n",
       "\u001b[36mmine\u001b[39m: \u001b[32mToy\u001b[39m = ammonite.$sess.cmd72$Helper$Toy@c4e0998\n",
       "\u001b[36myour\u001b[39m: \u001b[32mToy\u001b[39m = ammonite.$sess.cmd72$Helper$Toy@1db4232a"
      ]
     },
     "execution_count": 73,
     "metadata": {},
     "output_type": "execute_result"
    }
   ],
   "source": [
    "class Toy(val price: Int)\n",
    "object Toy {\n",
    "    def apply() = new Toy(0)\n",
    "    def makeFun() = new Toy(1)\n",
    "}\n",
    "\n",
    "val mine = Toy.makeFun()\n",
    "val your = Toy()"
   ]
  },
  {
   "cell_type": "markdown",
   "metadata": {},
   "source": [
    "* define a class `Item` and a companion object `Item`\n",
    "* in the companion object add the following methods\n",
    "    * makeToy, makePhone, makeFood\n",
    "    \n",
    "* define `apply()` to just call `makeToy`\n",
    "\n",
    "* Create an item with new, with `Item.makeFood` and with `Item.apply()`\n",
    "    * ie., do not write `.apply`, rather `Item()`"
   ]
  },
  {
   "cell_type": "markdown",
   "metadata": {},
   "source": [
    "## Solution"
   ]
  },
  {
   "cell_type": "code",
   "execution_count": 78,
   "metadata": {},
   "outputs": [
    {
     "data": {
      "text/plain": [
       "defined \u001b[32mclass\u001b[39m \u001b[36mItem\u001b[39m\n",
       "defined \u001b[32mobject\u001b[39m \u001b[36mItem\u001b[39m\n",
       "\u001b[36mres77_2\u001b[39m: \u001b[32mString\u001b[39m = \u001b[32m\"Toy\"\u001b[39m\n",
       "\u001b[36mres77_3\u001b[39m: \u001b[32mString\u001b[39m = \u001b[32m\"Toy\"\u001b[39m"
      ]
     },
     "execution_count": 78,
     "metadata": {},
     "output_type": "execute_result"
    }
   ],
   "source": [
    "class Item(val name: String, val price: Double) \n",
    "\n",
    "object Item {\n",
    "    def apply() = makeToy(0)\n",
    "    \n",
    "    def makeToy(p: Double) = new Item(\"Toy\", p)\n",
    "    def makeFood(p: Double) = new Item(\"Food\", p)\n",
    "    def makePhone(p: Double) = new Item(\"Phone\", p)\n",
    "}\n",
    "\n",
    "Item.makeToy(10).name\n",
    "Item().name"
   ]
  },
  {
   "cell_type": "markdown",
   "metadata": {},
   "source": [
    "## Why Case Class?"
   ]
  },
  {
   "cell_type": "markdown",
   "metadata": {},
   "source": [
    "* the opposite of a case class:"
   ]
  },
  {
   "cell_type": "code",
   "execution_count": 1,
   "metadata": {},
   "outputs": [
    {
     "name": "stdout",
     "output_type": "stream",
     "text": [
      "(1223,SELECT * FROM user)\n"
     ]
    },
    {
     "data": {
      "text/plain": [
       "defined \u001b[32mclass\u001b[39m \u001b[36mQueryApi\u001b[39m\n",
       "\u001b[36mq\u001b[39m: \u001b[32mQueryApi\u001b[39m = ammonite.$sess.cmd0$Helper$QueryApi@1c55cc09"
      ]
     },
     "execution_count": 1,
     "metadata": {},
     "output_type": "execute_result"
    }
   ],
   "source": [
    "// private password!\n",
    "class QueryApi(pw: String) {\n",
    "    def run(q: String) = println(pw, q)\n",
    "    def select() = run(\"SELECT * FROM user\")\n",
    "}\n",
    "\n",
    "val q = new QueryApi(\"1223\")\n",
    "q.select()"
   ]
  },
  {
   "cell_type": "markdown",
   "metadata": {},
   "source": [
    "* case classes are for \"wrapper\" classes\n",
    "    * ie., those mainly for bundling and unbundling data \n",
    "    * hold age/name/etc. together at once\n",
    "    * break apart those things\n",
    "    * compare with tuple\n",
    "* what's a tuple?\n",
    "    * well-typed database row\n",
    "    * row of data, where each piece has a known type\n",
    "    \n",
    "* case class\n",
    "    * a nice name for that type\n",
    "    * and a way to wrap/unwarp\n",
    "    "
   ]
  },
  {
   "cell_type": "code",
   "execution_count": 85,
   "metadata": {},
   "outputs": [
    {
     "name": "stdout",
     "output_type": "stream",
     "text": [
      "Michael\n"
     ]
    },
    {
     "data": {
      "text/plain": [
       "defined \u001b[32mclass\u001b[39m \u001b[36mRow\u001b[39m\n",
       "\u001b[36mdb\u001b[39m: \u001b[32mList\u001b[39m[\u001b[32mRow\u001b[39m] = \u001b[33mList\u001b[39m(\u001b[33mRow\u001b[39m(\u001b[32m\"Michael\"\u001b[39m, \u001b[32m29\u001b[39m))"
      ]
     },
     "execution_count": 85,
     "metadata": {},
     "output_type": "execute_result"
    }
   ],
   "source": [
    "//recall: case class fields are always public, so no `val` needed\n",
    "case class Row(n: String, a: Int)\n",
    "val db: List[Row] = List(Row(\"Michael\", 29))\n",
    "\n",
    "for( Row(name, age) <- db ) println(name)"
   ]
  },
  {
   "cell_type": "code",
   "execution_count": 79,
   "metadata": {},
   "outputs": [
    {
     "data": {
      "text/plain": [
       "defined \u001b[32mclass\u001b[39m \u001b[36mWrapper\u001b[39m\n",
       "\u001b[36mdata\u001b[39m: \u001b[32mWrapper\u001b[39m = \u001b[33mWrapper\u001b[39m(\u001b[32m5\u001b[39m, \u001b[32m10\u001b[39m)\n",
       "\u001b[36mres78_2\u001b[39m: \u001b[32mInt\u001b[39m = \u001b[32m10\u001b[39m"
      ]
     },
     "execution_count": 79,
     "metadata": {},
     "output_type": "execute_result"
    }
   ],
   "source": [
    "case class Wrapper(x: Int, y: Int)\n",
    "\n",
    "val data = Wrapper(5, 10)\n",
    "\n",
    "data match {\n",
    "    case Wrapper(a, b) => b\n",
    "    case _ => 0\n",
    "}"
   ]
  }
 ],
 "metadata": {
  "kernelspec": {
   "display_name": "Scala 2.12",
   "language": "scala",
   "name": "scala212"
  },
  "language_info": {
   "codemirror_mode": "text/x-scala",
   "file_extension": ".scala",
   "mimetype": "text/x-scala",
   "name": "scala",
   "nbconvert_exporter": "script",
   "version": "2.12.8"
  }
 },
 "nbformat": 4,
 "nbformat_minor": 2
}
