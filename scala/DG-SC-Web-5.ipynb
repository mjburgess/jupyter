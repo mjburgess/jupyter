{
 "cells": [
  {
   "cell_type": "markdown",
   "metadata": {},
   "source": [
    "# Scala: The Web with Scalatra"
   ]
  },
  {
   "cell_type": "markdown",
   "metadata": {},
   "source": [
    "## Generating a Simple Site"
   ]
  },
  {
   "cell_type": "markdown",
   "metadata": {},
   "source": [
    "     sbt new scalatra/scalatra.g8\n",
    "     \n",
    "My settings:\n",
    "\n",
    "    organization [com.example]: qa\n",
    "    name [My Scalatra Web App]: Quiz\n",
    "    version [0.1.0-SNAPSHOT]:\n",
    "    servlet_name [MyScalatraServlet]: QuizServlet\n",
    "    package [com.example.app]: qa.quiz\n",
    "    scala_version [2.12.6]:\n",
    "    sbt_version [1.2.1]:\n",
    "    scalatra_version [2.7.0-RC1]:\n",
    "    \n",
    "    \n",
    "    cd quiz\n",
    "    sbt\n",
    "    \n",
    "        jetty:start\n",
    "        [ENTER]\n",
    "        browse\n",
    "\n",
    "    "
   ]
  },
  {
   "cell_type": "markdown",
   "metadata": {},
   "source": [
    "## Updating the Site"
   ]
  },
  {
   "cell_type": "markdown",
   "metadata": {},
   "source": [
    "refresh after update:\n",
    "\n",
    "\n",
    "* jetty:start"
   ]
  },
  {
   "cell_type": "markdown",
   "metadata": {},
   "source": [
    "# Methods and Dispatch"
   ]
  },
  {
   "cell_type": "markdown",
   "metadata": {},
   "source": [
    "* when browser requests localhost/eg   then   get(\"/eg\") is run\n",
    "* when form submits to \"/submit/eg\" then post(\"/eg\") is run\n",
    "    "
   ]
  },
  {
   "cell_type": "code",
   "execution_count": null,
   "metadata": {},
   "outputs": [],
   "source": [
    "  get(\"/\") {\n",
    "    views.html.hello()\n",
    "  }"
   ]
  },
  {
   "cell_type": "code",
   "execution_count": null,
   "metadata": {},
   "outputs": [],
   "source": [
    "\n",
    "    \n",
    "    val op = for {\n",
    "      name  <- params.getAs[String](\"name\")\n",
    "      age   <- params.getAs[Int](\"age\")\n",
    "      location <- params.getAs[String](\"location\")\n",
    "      favFilm  <- params.getAs[String](\"favFilm\")\n",
    "      spendFood   <- params.getAs[Double](\"spendFood\")\n",
    "      spendCinema <- params.getAs[Double](\"spendFood\")\n",
    "     } yield Person(name, age, location, favFilm, spendFood, spendCinema, quiz)\n",
    "    "
   ]
  },
  {
   "cell_type": "code",
   "execution_count": null,
   "metadata": {},
   "outputs": [],
   "source": [
    "params.toMap.map { case (k, v) => (k, v == \"on\" )}"
   ]
  },
  {
   "cell_type": "code",
   "execution_count": null,
   "metadata": {},
   "outputs": [],
   "source": [
    "\n",
    "    val p: Person = op.getOrElse(halt(BadRequest(\"Please complete the form!\")))\n",
    "\n"
   ]
  },
  {
   "cell_type": "markdown",
   "metadata": {},
   "source": [
    "## Adding Styling"
   ]
  },
  {
   "cell_type": "markdown",
   "metadata": {},
   "source": [
    "* download a theme  (eg., from https://startbootstrap.com/themes/sb-admin-2/)\n",
    "* unzip and open index.html in a browser for review\n",
    "* copy the *folders* to webapp/\n",
    "\n",
    "* in index.html:\n",
    "    * find \\<!-- Begin Page Content -->\n",
    "    * find \\<!-- /.container-fluid -->\n",
    "    * delete the content between ```<div class=\"container-fluid\">``` and it's matching ```</div>```\n",
    "    * replace with:\n",
    "\n",
    "    ```\n",
    "              <h1>@headline</h1>\n",
    "              @body\n",
    "    ```\n",
    "    \n",
    "* overwrite contents of twirl/layouts/default.scala.html with that of index.html\n",
    "    * preserving the first line which defines the template parameters\n",
    "    \n",
    "    \n",
    "* replace the contents of twirl/views/hello.scala.html with a form\n",
    "    * look at register.html, and login.html --  copy/paste their contents \n",
    "    * (ie., the content of ```<div class=\"container\"></div>```) \n",
    "* and play around until there's the right number of fields in the form "
   ]
  }
 ],
 "metadata": {
  "kernelspec": {
   "display_name": "Scala 2.12",
   "language": "scala",
   "name": "scala212"
  },
  "language_info": {
   "codemirror_mode": "text/x-scala",
   "file_extension": ".scala",
   "mimetype": "text/x-scala",
   "name": "scala",
   "nbconvert_exporter": "script",
   "version": "2.12.8"
  }
 },
 "nbformat": 4,
 "nbformat_minor": 2
}
