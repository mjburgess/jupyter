{
 "cells": [
  {
   "cell_type": "markdown",
   "metadata": {},
   "source": [
    "# Introduction to Programming with Scala"
   ]
  },
  {
   "cell_type": "markdown",
   "metadata": {},
   "source": [
    "## Unit Testing"
   ]
  },
  {
   "cell_type": "markdown",
   "metadata": {},
   "source": [
    "### Part 0: Exemplar"
   ]
  },
  {
   "cell_type": "code",
   "execution_count": 21,
   "metadata": {},
   "outputs": [
    {
     "ename": "",
     "evalue": "",
     "output_type": "error",
     "traceback": [
      "\u001b[31mjava.lang.ArithmeticException: / by zero\u001b[39m\n  ammonite.$sess.cmd20$Helper.<init>(\u001b[32mcmd20.sc\u001b[39m:\u001b[32m1\u001b[39m)\n  ammonite.$sess.cmd20$.<init>(\u001b[32mcmd20.sc\u001b[39m:\u001b[32m7\u001b[39m)\n  ammonite.$sess.cmd20$.<clinit>(\u001b[32mcmd20.sc\u001b[39m:\u001b[32m-1\u001b[39m)"
     ]
    }
   ],
   "source": [
    "10/0"
   ]
  },
  {
   "cell_type": "code",
   "execution_count": 22,
   "metadata": {},
   "outputs": [
    {
     "ename": "",
     "evalue": "",
     "output_type": "error",
     "traceback": [
      "\u001b[31mjava.lang.Exception\u001b[39m\n  ammonite.$sess.cmd21$Helper.<init>(\u001b[32mcmd21.sc\u001b[39m:\u001b[32m1\u001b[39m)\n  ammonite.$sess.cmd21$.<init>(\u001b[32mcmd21.sc\u001b[39m:\u001b[32m7\u001b[39m)\n  ammonite.$sess.cmd21$.<clinit>(\u001b[32mcmd21.sc\u001b[39m:\u001b[32m-1\u001b[39m)"
     ]
    }
   ],
   "source": [
    "throw new Exception()"
   ]
  },
  {
   "cell_type": "code",
   "execution_count": 23,
   "metadata": {
    "scrolled": true
   },
   "outputs": [
    {
     "name": "stdout",
     "output_type": "stream",
     "text": [
      "OK\n"
     ]
    }
   ],
   "source": [
    "try {\n",
    "    throw new Exception()\n",
    "} catch {\n",
    "    case _ => println(\"OK\")\n",
    "}"
   ]
  },
  {
   "cell_type": "code",
   "execution_count": 30,
   "metadata": {},
   "outputs": [
    {
     "name": "stdout",
     "output_type": "stream",
     "text": [
      "ERROR: / by zero\n"
     ]
    },
    {
     "data": {
      "text/plain": [
       "\u001b[36mres29\u001b[39m: \u001b[32mAnyVal\u001b[39m = ()"
      ]
     },
     "execution_count": 30,
     "metadata": {},
     "output_type": "execute_result"
    }
   ],
   "source": [
    "try {\n",
    "    10/0\n",
    "} catch {\n",
    "    case e : ArithmeticException => println(\"ERROR: \" +  e.getMessage)\n",
    "}"
   ]
  },
  {
   "cell_type": "code",
   "execution_count": 8,
   "metadata": {},
   "outputs": [
    {
     "ename": "",
     "evalue": "",
     "output_type": "error",
     "traceback": [
      "\u001b[31mjava.lang.AssertionError: assertion failed\u001b[39m\n  scala.Predef$.assert(\u001b[32mPredef.scala\u001b[39m:\u001b[32m208\u001b[39m)\n  ammonite.$sess.cmd7$Helper.<init>(\u001b[32mcmd7.sc\u001b[39m:\u001b[32m3\u001b[39m)\n  ammonite.$sess.cmd7$.<init>(\u001b[32mcmd7.sc\u001b[39m:\u001b[32m7\u001b[39m)\n  ammonite.$sess.cmd7$.<clinit>(\u001b[32mcmd7.sc\u001b[39m:\u001b[32m-1\u001b[39m)"
     ]
    }
   ],
   "source": [
    "val x = 0\n",
    "\n",
    "assert(x == 1)"
   ]
  },
  {
   "cell_type": "code",
   "execution_count": 13,
   "metadata": {},
   "outputs": [
    {
     "name": "stdout",
     "output_type": "stream",
     "text": [
      "0\n"
     ]
    },
    {
     "data": {
      "text/plain": [
       "\u001b[36my\u001b[39m: \u001b[32mString\u001b[39m = \u001b[32m\"0\"\u001b[39m"
      ]
     },
     "execution_count": 13,
     "metadata": {},
     "output_type": "execute_result"
    }
   ],
   "source": [
    "val y = scala.io.StdIn.readLine()\n",
    "\n",
    "assert(y.toInt == 0)"
   ]
  },
  {
   "cell_type": "code",
   "execution_count": 13,
   "metadata": {},
   "outputs": [
    {
     "name": "stderr",
     "output_type": "stream",
     "text": [
      "cmd13.sc:7: not found: type Person\n",
      "        val p = new Person(\"Michael\", 30)\n",
      "                    ^Compilation Failed"
     ]
    },
    {
     "ename": "",
     "evalue": "",
     "output_type": "error",
     "traceback": [
      "Compilation Failed"
     ]
    }
   ],
   "source": [
    "class PersonTest {\n",
    "    def run() = {\n",
    "        testDescribe()\n",
    "    }\n",
    "    \n",
    "    def testDescribe() {\n",
    "        val p = new Person(\"Michael\", 30)\n",
    "        \n",
    "        assert(p.describe() == \"Michael is 30\")\n",
    "    }\n",
    "}"
   ]
  },
  {
   "cell_type": "code",
   "execution_count": 14,
   "metadata": {},
   "outputs": [
    {
     "data": {
      "text/plain": [
       "defined \u001b[32mclass\u001b[39m \u001b[36mPerson\u001b[39m\n",
       "defined \u001b[32mclass\u001b[39m \u001b[36mPersonTest\u001b[39m"
      ]
     },
     "execution_count": 14,
     "metadata": {},
     "output_type": "execute_result"
    }
   ],
   "source": [
    "class Person(val name: String, val age: Int) {\n",
    "    def describe() = ???\n",
    "}\n",
    "\n",
    "class PersonTest {\n",
    "    def run() = {\n",
    "        testDescribe()\n",
    "    }\n",
    "    \n",
    "    def testDescribe() {\n",
    "        val p = new Person(\"Michael\", 30)\n",
    "        \n",
    "        assert(p.describe() == \"Michael is 30\")\n",
    "    }\n",
    "}"
   ]
  },
  {
   "cell_type": "code",
   "execution_count": 31,
   "metadata": {},
   "outputs": [
    {
     "data": {
      "text/plain": [
       "\u001b[36mres30\u001b[39m: \u001b[32mAny\u001b[39m = \u001b[32m\"Scala Error!\"\u001b[39m"
      ]
     },
     "execution_count": 31,
     "metadata": {},
     "output_type": "execute_result"
    }
   ],
   "source": [
    "try {\n",
    "    (new PersonTest()).run()\n",
    "} catch {\n",
    "    case e : AssertionError => \"Test Failed!\"\n",
    "    case _ => \"Scala Error!\"\n",
    "}"
   ]
  },
  {
   "cell_type": "code",
   "execution_count": 43,
   "metadata": {},
   "outputs": [
    {
     "data": {
      "text/plain": [
       "defined \u001b[32mclass\u001b[39m \u001b[36mPerson\u001b[39m\n",
       "defined \u001b[32mclass\u001b[39m \u001b[36mPersonTest\u001b[39m"
      ]
     },
     "execution_count": 43,
     "metadata": {},
     "output_type": "execute_result"
    }
   ],
   "source": [
    "class Person(val name: String, val age: Int) {\n",
    "    def describe() = s\"$name is $age years old\"\n",
    "}\n",
    "\n",
    "class PersonTest {\n",
    "    def run(): String = {\n",
    "        try {\n",
    "            testDescribe()\n",
    "            testName()\n",
    "            \"All Tests Passed\"\n",
    "        } catch {\n",
    "            case e : AssertionError => e.getMessage\n",
    "            case _ => \"Scala Error!\"\n",
    "        }\n",
    "    }\n",
    "    \n",
    "    def testDescribe() {\n",
    "        val p = new Person(\"Michael\", 30)\n",
    "        \n",
    "        assert(p.describe() == \"Michael is 30\", \"testDescribe\")\n",
    "    }\n",
    "    \n",
    "    def testName() {\n",
    "        val p = new Person(\"Michael\", 30)\n",
    "        assert(p.name == \"Michael\")\n",
    "    }\n",
    "}"
   ]
  },
  {
   "cell_type": "code",
   "execution_count": 44,
   "metadata": {},
   "outputs": [
    {
     "data": {
      "text/plain": [
       "\u001b[36mres43\u001b[39m: \u001b[32mString\u001b[39m = \u001b[32m\"assertion failed: testDescribe\"\u001b[39m"
      ]
     },
     "execution_count": 44,
     "metadata": {},
     "output_type": "execute_result"
    }
   ],
   "source": [
    "(new PersonTest()).run()"
   ]
  },
  {
   "cell_type": "markdown",
   "metadata": {},
   "source": [
    "### Part 1: The Toolkit"
   ]
  },
  {
   "cell_type": "markdown",
   "metadata": {},
   "source": [
    "### Exercise\n",
    "* Use TDD to define a specification for a SuperPlayer\n",
    "* write the tests first and then the class"
   ]
  }
 ],
 "metadata": {
  "kernelspec": {
   "display_name": "Scala 2.12",
   "language": "scala",
   "name": "scala212"
  },
  "language_info": {
   "codemirror_mode": "text/x-scala",
   "file_extension": ".scala",
   "mimetype": "text/x-scala",
   "name": "scala",
   "nbconvert_exporter": "script",
   "version": "2.12.8"
  }
 },
 "nbformat": 4,
 "nbformat_minor": 2
}
