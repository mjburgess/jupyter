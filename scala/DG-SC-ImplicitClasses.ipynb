{
 "cells": [
  {
   "cell_type": "markdown",
   "metadata": {},
   "source": [
    "## Implicit Classes"
   ]
  },
  {
   "cell_type": "markdown",
   "metadata": {},
   "source": [
    "* implicit = do something automatically\n",
    "* implicit class = automatically new\n",
    "    * ie. convert"
   ]
  },
  {
   "cell_type": "code",
   "execution_count": 4,
   "metadata": {},
   "outputs": [
    {
     "data": {
      "text/plain": [
       "defined \u001b[32mclass\u001b[39m \u001b[36mUkItem\u001b[39m\n",
       "\u001b[36mitem\u001b[39m: \u001b[32mUkItem\u001b[39m = ammonite.$sess.cmd3$Helper$UkItem@490f4718\n",
       "\u001b[36mres3_2\u001b[39m: \u001b[32mDouble\u001b[39m = \u001b[32m15.0\u001b[39m"
      ]
     },
     "execution_count": 4,
     "metadata": {},
     "output_type": "execute_result"
    }
   ],
   "source": [
    "class UkItem(val price: Double)\n",
    "\n",
    "val item: UkItem = new UkItem(15)\n",
    "item.price"
   ]
  },
  {
   "cell_type": "markdown",
   "metadata": {},
   "source": [
    "* conversion:\n",
    "    * `Double -> UsItem`"
   ]
  },
  {
   "cell_type": "code",
   "execution_count": 7,
   "metadata": {},
   "outputs": [
    {
     "data": {
      "text/plain": [
       "defined \u001b[32mclass\u001b[39m \u001b[36mUsItem\u001b[39m\n",
       "\u001b[36mitem\u001b[39m: \u001b[32mUsItem\u001b[39m = ammonite.$sess.cmd6$Helper$UsItem@48ca4d15\n",
       "\u001b[36mres6_2\u001b[39m: \u001b[32mDouble\u001b[39m = \u001b[32m15.0\u001b[39m\n",
       "\u001b[36mres6_3\u001b[39m: \u001b[32mString\u001b[39m = \u001b[32m\"US\"\u001b[39m"
      ]
     },
     "execution_count": 7,
     "metadata": {},
     "output_type": "execute_result"
    }
   ],
   "source": [
    "implicit class UsItem(val price: Double) {\n",
    "    def show() = \"US\"\n",
    "}\n",
    "\n",
    "val item: UsItem = 15 //auto added new UsItem\n",
    "\n",
    "item.price\n",
    "item.show"
   ]
  },
  {
   "cell_type": "code",
   "execution_count": 17,
   "metadata": {},
   "outputs": [
    {
     "data": {
      "text/plain": [
       "defined \u001b[32mclass\u001b[39m \u001b[36mRow\u001b[39m\n",
       "\u001b[36mr\u001b[39m: \u001b[32mRow\u001b[39m = \u001b[33mRow\u001b[39m(\u001b[32m\"Michael\"\u001b[39m, \u001b[32m29\u001b[39m)\n",
       "\u001b[36mres16_2\u001b[39m: \u001b[32mInt\u001b[39m = \u001b[32m29\u001b[39m"
      ]
     },
     "execution_count": 17,
     "metadata": {},
     "output_type": "execute_result"
    }
   ],
   "source": [
    "case class Row(name: String, age: Int)\n",
    "\n",
    "val r = Row(\"Michael\", 29)\n",
    "\n",
    "r match {\n",
    "    case Row(n, a) => a\n",
    "}"
   ]
  },
  {
   "cell_type": "code",
   "execution_count": 29,
   "metadata": {},
   "outputs": [
    {
     "name": "stdout",
     "output_type": "stream",
     "text": [
      "persony\n",
      "addressy\n"
     ]
    },
    {
     "data": {
      "text/plain": [
       "defined \u001b[32mtrait\u001b[39m \u001b[36mJsonable\u001b[39m\n",
       "defined \u001b[32mclass\u001b[39m \u001b[36mPerson\u001b[39m\n",
       "defined \u001b[32mclass\u001b[39m \u001b[36mAddress\u001b[39m\n",
       "defined \u001b[32mclass\u001b[39m \u001b[36mPJ\u001b[39m\n",
       "defined \u001b[32mclass\u001b[39m \u001b[36mAJ\u001b[39m\n",
       "\u001b[36mjrs\u001b[39m: \u001b[32mList\u001b[39m[\u001b[32mJsonable\u001b[39m] = \u001b[33mList\u001b[39m(\n",
       "  ammonite.$sess.cmd28$Helper$PJ@7d69ce37,\n",
       "  ammonite.$sess.cmd28$Helper$AJ@4bda3d2c\n",
       ")"
      ]
     },
     "execution_count": 29,
     "metadata": {},
     "output_type": "execute_result"
    }
   ],
   "source": [
    "trait Jsonable {\n",
    "    def toJson(): String\n",
    "}\n",
    "\n",
    "case class Person(val name: String)  // data !\n",
    "\n",
    "case class Address(val name: String)  // data !\n",
    "\n",
    "//extension methods\n",
    "implicit class PJ(p: Person) extends Jsonable {\n",
    "    def toJson() = \"persony\"\n",
    "}\n",
    "\n",
    "implicit class AJ(p: Address) extends Jsonable {\n",
    "    def toJson() = \"addressy\"\n",
    "}\n",
    "\n",
    "val jrs: List[Jsonable] = List(Person(\"Michael\"), Address(\"St.Lucia\"))\n",
    "\n",
    "for(j <- jrs) println(j.toJson())"
   ]
  },
  {
   "cell_type": "code",
   "execution_count": 21,
   "metadata": {},
   "outputs": [
    {
     "data": {
      "text/plain": [
       "\u001b[36mj\u001b[39m: \u001b[32mJsonable\u001b[39m = ammonite.$sess.cmd18$Helper$PJ@64a328ce"
      ]
     },
     "execution_count": 21,
     "metadata": {},
     "output_type": "execute_result"
    }
   ],
   "source": [
    "val j: Jsonable = Person(\"Micahel\")"
   ]
  },
  {
   "cell_type": "markdown",
   "metadata": {},
   "source": [
    "## Exercise\n",
    "\n",
    "* With the example above, add an `Address` case class that can be converted ot json\n",
    "    * ie., define a case class Address\n",
    "    * ie., define a second implicit class A2J\n",
    "    \n",
    "* create a list of Person()s Address()s, loop over and toJson"
   ]
  }
 ],
 "metadata": {
  "kernelspec": {
   "display_name": "Scala 2.12",
   "language": "scala",
   "name": "scala212"
  },
  "language_info": {
   "codemirror_mode": "text/x-scala",
   "file_extension": ".scala",
   "mimetype": "text/x-scala",
   "name": "scala",
   "nbconvert_exporter": "script",
   "version": "2.12.8"
  }
 },
 "nbformat": 4,
 "nbformat_minor": 2
}
