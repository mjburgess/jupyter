{
 "cells": [
  {
   "cell_type": "markdown",
   "metadata": {},
   "source": [
    "# Relationships"
   ]
  },
  {
   "cell_type": "markdown",
   "metadata": {},
   "source": [
    "* composition"
   ]
  },
  {
   "cell_type": "code",
   "execution_count": 1,
   "metadata": {},
   "outputs": [
    {
     "data": {
      "text/plain": [
       "defined \u001b[32mclass\u001b[39m \u001b[36mItem\u001b[39m\n",
       "defined \u001b[32mclass\u001b[39m \u001b[36mCart\u001b[39m"
      ]
     },
     "execution_count": 1,
     "metadata": {},
     "output_type": "execute_result"
    }
   ],
   "source": [
    "class Item(val price: Double)\n",
    "\n",
    "class Cart(val items: List[Item]) {\n",
    "    def total() = (for(i <- items) yield i.price).sum\n",
    "}"
   ]
  },
  {
   "cell_type": "code",
   "execution_count": 2,
   "metadata": {},
   "outputs": [
    {
     "data": {
      "text/plain": [
       "\u001b[36mmine\u001b[39m: \u001b[32mCart\u001b[39m = ammonite.$sess.cmd0$Helper$Cart@2e29d1dd\n",
       "\u001b[36mres1_1\u001b[39m: \u001b[32mDouble\u001b[39m = \u001b[32m110.0\u001b[39m"
      ]
     },
     "execution_count": 2,
     "metadata": {},
     "output_type": "execute_result"
    }
   ],
   "source": [
    "val mine = new Cart(List(new Item(10), new Item(100)))\n",
    "mine.total()"
   ]
  },
  {
   "cell_type": "markdown",
   "metadata": {},
   "source": [
    "## inheritance: types"
   ]
  },
  {
   "cell_type": "code",
   "execution_count": 12,
   "metadata": {},
   "outputs": [
    {
     "data": {
      "text/plain": [
       "defined \u001b[32mclass\u001b[39m \u001b[36mStaff\u001b[39m\n",
       "defined \u001b[32mclass\u001b[39m \u001b[36mWorker\u001b[39m"
      ]
     },
     "execution_count": 12,
     "metadata": {},
     "output_type": "execute_result"
    }
   ],
   "source": [
    "class Staff {\n",
    "    def work() = \"...\"\n",
    "}\n",
    "\n",
    "// objecty: extends the template Staff to include...\n",
    "// typey:  Worker *is a* Staff\n",
    "class Worker extends Staff  {\n",
    "    def eat() = \"yumm!\"\n",
    "}"
   ]
  },
  {
   "cell_type": "code",
   "execution_count": 6,
   "metadata": {},
   "outputs": [
    {
     "data": {
      "text/plain": [
       "\u001b[36mme\u001b[39m: \u001b[32mWorker\u001b[39m = ammonite.$sess.cmd4$Helper$Worker@11b97d30\n",
       "\u001b[36mres5_1\u001b[39m: \u001b[32mString\u001b[39m = \u001b[32m\"...\"\u001b[39m\n",
       "\u001b[36mres5_2\u001b[39m: \u001b[32mString\u001b[39m = \u001b[32m\"yumm!\"\u001b[39m"
      ]
     },
     "execution_count": 6,
     "metadata": {},
     "output_type": "execute_result"
    }
   ],
   "source": [
    "val me: Worker = new Worker\n",
    "\n",
    "me.work()\n",
    "me.eat()"
   ]
  },
  {
   "cell_type": "code",
   "execution_count": 14,
   "metadata": {},
   "outputs": [
    {
     "data": {
      "text/plain": [
       "\u001b[36ms\u001b[39m: \u001b[32mStaff\u001b[39m = ammonite.$sess.cmd11$Helper$Staff@33f6d8f2\n",
       "\u001b[36mw\u001b[39m: \u001b[32mStaff\u001b[39m = ammonite.$sess.cmd11$Helper$Worker@7f85c2ce"
      ]
     },
     "execution_count": 14,
     "metadata": {},
     "output_type": "execute_result"
    }
   ],
   "source": [
    "// OR Type -- variation\n",
    "\n",
    "//  : Staff = new.. Staff\n",
    "//  : Worker = new.. Worker OR Staff\n",
    "\n",
    "val s: Staff = new Staff\n",
    "val w: Staff = new Worker"
   ]
  },
  {
   "cell_type": "code",
   "execution_count": 25,
   "metadata": {},
   "outputs": [
    {
     "data": {
      "text/plain": [
       "defined \u001b[32mclass\u001b[39m \u001b[36mSupermarket\u001b[39m\n",
       "defined \u001b[32mclass\u001b[39m \u001b[36mMetro\u001b[39m\n",
       "defined \u001b[32mclass\u001b[39m \u001b[36mExpress\u001b[39m\n",
       "defined \u001b[32mclass\u001b[39m \u001b[36mMegastore\u001b[39m"
      ]
     },
     "execution_count": 25,
     "metadata": {},
     "output_type": "execute_result"
    }
   ],
   "source": [
    "// : General = SpecificA | SpecificB | spe...\n",
    "\n",
    "// type = constructors | ...\n",
    "// : Supermarket = Metro | Express | Megastore | Supermarket \n",
    "\n",
    "class Supermarket \n",
    "class Metro extends Supermarket\n",
    "class Express extends Supermarket\n",
    "class Megastore extends Supermarket"
   ]
  },
  {
   "cell_type": "code",
   "execution_count": 24,
   "metadata": {},
   "outputs": [
    {
     "data": {
      "text/plain": [
       "\u001b[36mres23_0\u001b[39m: \u001b[32mList\u001b[39m[\u001b[32mInt\u001b[39m] = \u001b[33mList\u001b[39m(\u001b[32m5\u001b[39m, \u001b[32m6\u001b[39m)\n",
       "\u001b[36mres23_1\u001b[39m: \u001b[32mList\u001b[39m[\u001b[32mDouble\u001b[39m] = \u001b[33mList\u001b[39m(\u001b[32m5.0\u001b[39m, \u001b[32m6.0\u001b[39m)"
      ]
     },
     "execution_count": 24,
     "metadata": {},
     "output_type": "execute_result"
    }
   ],
   "source": [
    "List(5 : Int, 6: Int)\n",
    "List(5 : Double, 6 : Double)"
   ]
  },
  {
   "cell_type": "code",
   "execution_count": 21,
   "metadata": {},
   "outputs": [
    {
     "data": {
      "text/plain": [
       "\u001b[36mmega\u001b[39m: \u001b[32mList\u001b[39m[\u001b[32mSupermarket\u001b[39m] = \u001b[33mList\u001b[39m(\n",
       "  ammonite.$sess.cmd15$Helper$Megastore@1dfad371,\n",
       "  ammonite.$sess.cmd15$Helper$Megastore@584dedff\n",
       ")"
      ]
     },
     "execution_count": 21,
     "metadata": {},
     "output_type": "execute_result"
    }
   ],
   "source": [
    "val mega  = List(new Megastore : Supermarket, new Megastore : Supermarket)"
   ]
  },
  {
   "cell_type": "code",
   "execution_count": 17,
   "metadata": {},
   "outputs": [
    {
     "data": {
      "text/plain": [
       "\u001b[36mstores\u001b[39m: \u001b[32mList\u001b[39m[\u001b[32mSupermarket\u001b[39m] = \u001b[33mList\u001b[39m(\n",
       "  ammonite.$sess.cmd15$Helper$Supermarket@7bef4d68,\n",
       "  ammonite.$sess.cmd15$Helper$Metro@7c7c0465,\n",
       "  ammonite.$sess.cmd15$Helper$Metro@19b5dff0,\n",
       "  ammonite.$sess.cmd15$Helper$Express@2335dd21\n",
       ")"
      ]
     },
     "execution_count": 17,
     "metadata": {},
     "output_type": "execute_result"
    }
   ],
   "source": [
    "val stores = List(new Supermarket, new Metro, new Metro, new Express)"
   ]
  },
  {
   "cell_type": "markdown",
   "metadata": {},
   "source": [
    "## inhertiance: gluing templates together!\n"
   ]
  },
  {
   "cell_type": "code",
   "execution_count": 47,
   "metadata": {},
   "outputs": [
    {
     "data": {
      "text/plain": [
       "defined \u001b[32mclass\u001b[39m \u001b[36mSupermarket\u001b[39m\n",
       "defined \u001b[32mclass\u001b[39m \u001b[36mMetro\u001b[39m"
      ]
     },
     "execution_count": 47,
     "metadata": {},
     "output_type": "execute_result"
    }
   ],
   "source": [
    "class Supermarket(val name: String)  {\n",
    "    def open() = println(\"opening \" + name)\n",
    "}\n",
    "\n",
    "class Metro extends Supermarket(\"Metro\")"
   ]
  },
  {
   "cell_type": "code",
   "execution_count": 28,
   "metadata": {},
   "outputs": [
    {
     "data": {
      "text/plain": [
       "\u001b[36mres27\u001b[39m: \u001b[32mString\u001b[39m = \u001b[32m\"Metro\"\u001b[39m"
      ]
     },
     "execution_count": 28,
     "metadata": {},
     "output_type": "execute_result"
    }
   ],
   "source": [
    "(new Metro).name"
   ]
  },
  {
   "cell_type": "code",
   "execution_count": 40,
   "metadata": {},
   "outputs": [
    {
     "data": {
      "text/plain": [
       "defined \u001b[32mclass\u001b[39m \u001b[36mMegastore\u001b[39m"
      ]
     },
     "execution_count": 40,
     "metadata": {},
     "output_type": "execute_result"
    }
   ],
   "source": [
    "class Megastore(n: String) extends Supermarket(n)"
   ]
  },
  {
   "cell_type": "code",
   "execution_count": 38,
   "metadata": {},
   "outputs": [
    {
     "data": {
      "text/plain": [
       "\u001b[36mres37\u001b[39m: \u001b[32mString\u001b[39m = \u001b[32m\"MK Mega\"\u001b[39m"
      ]
     },
     "execution_count": 38,
     "metadata": {},
     "output_type": "execute_result"
    }
   ],
   "source": [
    "new Megastore(\"MK Mega\").name"
   ]
  },
  {
   "cell_type": "markdown",
   "metadata": {},
   "source": [
    "### Polymorphism"
   ]
  },
  {
   "cell_type": "code",
   "execution_count": 57,
   "metadata": {},
   "outputs": [
    {
     "data": {
      "text/plain": [
       "defined \u001b[32mclass\u001b[39m \u001b[36mExpress\u001b[39m"
      ]
     },
     "execution_count": 57,
     "metadata": {},
     "output_type": "execute_result"
    }
   ],
   "source": [
    "// every       isa\n",
    "class Express extends Supermarket(\"Express\") {\n",
    "    // replace\n",
    "    override def open() = println(\"still open!\")\n",
    "}"
   ]
  },
  {
   "cell_type": "code",
   "execution_count": 58,
   "metadata": {},
   "outputs": [
    {
     "name": "stdout",
     "output_type": "stream",
     "text": [
      "opening Local\n"
     ]
    },
    {
     "data": {
      "text/plain": [
       "\u001b[36msm\u001b[39m: \u001b[32mSupermarket\u001b[39m = ammonite.$sess.cmd46$Helper$Supermarket@c3b5c29"
      ]
     },
     "execution_count": 58,
     "metadata": {},
     "output_type": "execute_result"
    }
   ],
   "source": [
    "val sm = (new Supermarket(\"Local\"))\n",
    "sm.open()"
   ]
  },
  {
   "cell_type": "code",
   "execution_count": 59,
   "metadata": {},
   "outputs": [
    {
     "name": "stdout",
     "output_type": "stream",
     "text": [
      "still open!\n"
     ]
    },
    {
     "data": {
      "text/plain": [
       "\u001b[36mex\u001b[39m: \u001b[32mExpress\u001b[39m = ammonite.$sess.cmd56$Helper$Express@76e3b02a"
      ]
     },
     "execution_count": 59,
     "metadata": {},
     "output_type": "execute_result"
    }
   ],
   "source": [
    "val ex = (new Express)\n",
    "ex.open()"
   ]
  },
  {
   "cell_type": "code",
   "execution_count": 63,
   "metadata": {},
   "outputs": [
    {
     "name": "stdout",
     "output_type": "stream",
     "text": [
      "opening Local\n",
      "still open!\n"
     ]
    },
    {
     "data": {
      "text/plain": [
       "\u001b[36mss\u001b[39m: \u001b[32mList\u001b[39m[\u001b[32mSupermarket\u001b[39m] = \u001b[33mList\u001b[39m(\n",
       "  ammonite.$sess.cmd46$Helper$Supermarket@c3b5c29,\n",
       "  ammonite.$sess.cmd56$Helper$Express@76e3b02a\n",
       ")"
      ]
     },
     "execution_count": 63,
     "metadata": {},
     "output_type": "execute_result"
    }
   ],
   "source": [
    "val ss = List(sm, ex)\n",
    "\n",
    "for(store <- ss) store.open() \n",
    "    // general term open refers to either Supermarket-open OR Express-open"
   ]
  },
  {
   "cell_type": "markdown",
   "metadata": {},
   "source": [
    "## Abstract Classes"
   ]
  },
  {
   "cell_type": "code",
   "execution_count": 63,
   "metadata": {},
   "outputs": [],
   "source": [
    "// : Supermarket = Supermarket | Expression ...\n",
    "// : Building = Big | Medium | Small\n",
    "\n",
    "// Building is an *abstract* type, meaning there is no 'direct' constructor\n",
    "// List[Building] = List(new Big, new Medium)"
   ]
  },
  {
   "cell_type": "code",
   "execution_count": 75,
   "metadata": {},
   "outputs": [
    {
     "name": "stdout",
     "output_type": "stream",
     "text": [
      "big close\n",
      "little close\n"
     ]
    },
    {
     "data": {
      "text/plain": [
       "defined \u001b[32mclass\u001b[39m \u001b[36mBuilding\u001b[39m\n",
       "defined \u001b[32mclass\u001b[39m \u001b[36mBigBuilding\u001b[39m\n",
       "defined \u001b[32mclass\u001b[39m \u001b[36mSmallBuilding\u001b[39m\n",
       "\u001b[36mplaces\u001b[39m: \u001b[32mList\u001b[39m[\u001b[32mBuilding\u001b[39m] = \u001b[33mList\u001b[39m(\n",
       "  ammonite.$sess.cmd74$Helper$BigBuilding@57c4e623,\n",
       "  ammonite.$sess.cmd74$Helper$SmallBuilding@7551ca79\n",
       ")"
      ]
     },
     "execution_count": 75,
     "metadata": {},
     "output_type": "execute_result"
    }
   ],
   "source": [
    "abstract class Building {\n",
    "    // 'require'\n",
    "    def close(): Unit\n",
    "}\n",
    "\n",
    "// new Building // ERROR\n",
    "\n",
    "class BigBuilding extends Building {\n",
    "    def close() = println(\"big close\")\n",
    "}\n",
    "class SmallBuilding extends Building {\n",
    "    def close() = println(\"little close\")\n",
    "}\n",
    "\n",
    "val places = List(new BigBuilding, new SmallBuilding)\n",
    "for(p <- places) p.close()\n",
    "\n",
    "// for(p <- places) p.evac()"
   ]
  },
  {
   "cell_type": "code",
   "execution_count": 76,
   "metadata": {},
   "outputs": [
    {
     "name": "stdout",
     "output_type": "stream",
     "text": [
      "Spinner is £4.0\n",
      "Alcohol is £3.0\n",
      "Alcohol is £5.0\n"
     ]
    },
    {
     "data": {
      "text/plain": [
       "defined \u001b[32mclass\u001b[39m \u001b[36mItem\u001b[39m\n",
       "defined \u001b[32mclass\u001b[39m \u001b[36mToy\u001b[39m\n",
       "defined \u001b[32mclass\u001b[39m \u001b[36mAlcohol\u001b[39m\n",
       "defined \u001b[32mclass\u001b[39m \u001b[36mAlcoPop\u001b[39m\n",
       "\u001b[36mcart\u001b[39m: \u001b[32mList\u001b[39m[\u001b[32mItem\u001b[39m] = \u001b[33mList\u001b[39m(\n",
       "  ammonite.$sess.cmd75$Helper$Toy@489dbe4c,\n",
       "  ammonite.$sess.cmd75$Helper$Alcohol@4cc4bb1d,\n",
       "  ammonite.$sess.cmd75$Helper$AlcoPop@405027ec\n",
       ")"
      ]
     },
     "execution_count": 76,
     "metadata": {},
     "output_type": "execute_result"
    }
   ],
   "source": [
    "abstract class Item(val name: String, val price: Double)\n",
    "\n",
    "class Toy(n: String, p: Double) extends Item(n, p) {\n",
    "    def fun() = println(\"yay\")\n",
    "}\n",
    "\n",
    "class Alcohol(p: Double) extends Item(\"Alcohol\", p) {\n",
    "    def drink() = println(\"yumm\")\n",
    "}\n",
    "\n",
    "class AlcoPop extends Alcohol(5) {\n",
    "    override def drink() = println(\"yay ymm!\")\n",
    "}\n",
    "\n",
    "val cart = List(new Toy(\"Spinner\", 4), new Alcohol(3), new AlcoPop)\n",
    "\n",
    "for(i <- cart) println(s\"${i.name} is £${i.price}\")"
   ]
  },
  {
   "cell_type": "markdown",
   "metadata": {},
   "source": [
    "# Exericse\n",
    "\n",
    "## Part 1\n",
    "\n",
    "* Items have a name and price\n",
    "    * Toys are items with a fun() method \n",
    "    * Alcohol are items with a drink() method\n",
    "\n",
    "* Item(n, p) is a parent, Toy and Alchol are children\n",
    "    \n",
    "### Part 1.1\n",
    "* now define AlcoPops\n",
    "    * AlcoPops are Alcohols with a different drink method\n",
    "        * ie., override def drink()\n",
    "\n",
    "## Part 1.2\n",
    "* update Item so that there can be no concrete item instances \n",
    "* add a toy, alcohol, alocopop to a list\n",
    "    * then show all of their name and price"
   ]
  }
 ],
 "metadata": {
  "kernelspec": {
   "display_name": "Scala 2.12",
   "language": "scala",
   "name": "scala212"
  },
  "language_info": {
   "codemirror_mode": "text/x-scala",
   "file_extension": ".scala",
   "mimetype": "text/x-scala",
   "name": "scala",
   "nbconvert_exporter": "script",
   "version": "2.12.8"
  }
 },
 "nbformat": 4,
 "nbformat_minor": 2
}
