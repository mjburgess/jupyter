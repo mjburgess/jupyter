{
 "cells": [
  {
   "cell_type": "markdown",
   "metadata": {},
   "source": [
    "#  Types\n"
   ]
  },
  {
   "cell_type": "code",
   "execution_count": null,
   "metadata": {},
   "outputs": [],
   "source": [
    "println(\"hi\")"
   ]
  },
  {
   "cell_type": "code",
   "execution_count": 4,
   "metadata": {},
   "outputs": [
    {
     "data": {
      "text/plain": [
       "\u001b[36mx\u001b[39m: \u001b[32mBoolean\u001b[39m = true\n",
       "\u001b[36my\u001b[39m: (\u001b[32mBoolean\u001b[39m, \u001b[32mBoolean\u001b[39m) = (true, true)\n",
       "\u001b[36ma\u001b[39m: \u001b[32mAny\u001b[39m = true\n",
       "defined \u001b[32mclass\u001b[39m \u001b[36mParent\u001b[39m\n",
       "defined \u001b[32mclass\u001b[39m \u001b[36mChildA\u001b[39m\n",
       "defined \u001b[32mclass\u001b[39m \u001b[36mChildB\u001b[39m\n",
       "\u001b[36mp\u001b[39m: \u001b[32mParent\u001b[39m = ammonite.$sess.cmd3$Helper$ChildA@9d478b5\n",
       "defined \u001b[32mtrait\u001b[39m \u001b[36mFeature\u001b[39m\n",
       "defined \u001b[32mclass\u001b[39m \u001b[36mConcreteA\u001b[39m\n",
       "defined \u001b[32mclass\u001b[39m \u001b[36mConcreteB\u001b[39m\n",
       "\u001b[36mf\u001b[39m: \u001b[32mFeature\u001b[39m = ammonite.$sess.cmd3$Helper$ConcreteA@5bc82af6\n",
       "\u001b[36madd\u001b[39m: (\u001b[32mBoolean\u001b[39m, \u001b[32mBoolean\u001b[39m) => \u001b[32mBoolean\u001b[39m = ammonite.$sess.cmd3$Helper$$Lambda$2436/1919076423@279ea14a\n",
       "\u001b[36maddMap\u001b[39m: \u001b[32mMap\u001b[39m[(\u001b[32mBoolean\u001b[39m, \u001b[32mBoolean\u001b[39m), \u001b[32mBoolean\u001b[39m] = \u001b[33mMap\u001b[39m(\n",
       "  (true, true) -> true,\n",
       "  (true, false) -> false,\n",
       "  (false, true) -> false,\n",
       "  (false, false) -> false\n",
       ")\n",
       "defined \u001b[32mtrait\u001b[39m \u001b[36mBox\u001b[39m\n",
       "defined \u001b[32mclass\u001b[39m \u001b[36mGift\u001b[39m\n",
       "defined \u001b[32mclass\u001b[39m \u001b[36mSafe\u001b[39m"
      ]
     },
     "execution_count": 4,
     "metadata": {},
     "output_type": "execute_result"
    }
   ],
   "source": [
    "// LHS Type = RHS Constructor\n",
    "\n",
    "// is-Rule\n",
    "// x is a Boolean\n",
    "// x in set {true, false} =  true\n",
    "val x: Boolean = true\n",
    "\n",
    "// AND-rule\n",
    "// y is Boolean AND Boolean =  (true, true)\n",
    "// y is {true | false} AND {true | false} =  (true, true)\n",
    "val y: (Boolean, Boolean) = (true, true)\n",
    "\n",
    "// OR-rule\n",
    "// a is Any \n",
    "// a is Boolean | Int | ...\n",
    "// a = {true false} | {-11000, ... 0, ..1112134 ...}\n",
    "val a: Any = true\n",
    "\n",
    "class Parent\n",
    "class ChildA extends Parent\n",
    "class ChildB extends Parent\n",
    "\n",
    "// OR-rule\n",
    "// p is Parent\n",
    "// p = Parent | ChildB | ChildB\n",
    "val p: Parent = new ChildA\n",
    "\n",
    "// abstract OR-rule\n",
    "trait Feature\n",
    "class ConcreteA extends Feature\n",
    "class ConcreteB extends Feature\n",
    "\n",
    "// : Feature = ConcreteA | ConcreteB\n",
    "val f: Feature = new ConcreteA\n",
    "\n",
    "// Function Rule\n",
    "// AND-to Rule \n",
    "// add: (String AND String) to String\n",
    "val add: (Boolean, Boolean) => Boolean =  _ && _\n",
    "\n",
    "// compare to\n",
    "val addMap: Map[(Boolean, Boolean), Boolean] = Map(\n",
    "    (true, true) -> true,\n",
    "    (true, false) -> false,\n",
    "    (false, true) -> false,\n",
    "    (false, false) -> false,\n",
    ")\n",
    "\n",
    "\n",
    "// parametric polymorphism\n",
    "// generics\n",
    "\n",
    "// OR-type\n",
    "// Box[A] = Box[Int]  | Box[String] | Box[...] ...\n",
    "\n",
    "// a way of thinking...\n",
    "// Box[A] a bit a like a function with one argument A, \n",
    "// that when given makes a type\n",
    "\n",
    "// Box[Int]\n",
    "// type argument A\n",
    "// family-resemblence or type family\n",
    "trait Box[A] { \n",
    "    def get(): A\n",
    "}\n",
    "\n",
    "class Gift extends Box[String] {\n",
    "    def get() = \"Toy\"\n",
    "}\n",
    "\n",
    "class Safe extends Box[Int] {\n",
    "    def get() = 1234\n",
    "}"
   ]
  },
  {
   "cell_type": "markdown",
   "metadata": {},
   "source": [
    "## Polymorphism"
   ]
  },
  {
   "cell_type": "code",
   "execution_count": 5,
   "metadata": {},
   "outputs": [
    {
     "data": {
      "text/plain": [
       "\u001b[36mres4_0\u001b[39m: \u001b[32mInt\u001b[39m = \u001b[32m3\u001b[39m\n",
       "\u001b[36mres4_1\u001b[39m: \u001b[32mString\u001b[39m = \u001b[32m\"B\"\u001b[39m"
      ]
     },
     "execution_count": 5,
     "metadata": {},
     "output_type": "execute_result"
    }
   ],
   "source": [
    "List[Int](1, 2, 3).last\n",
    "List[String](\"A\", \"B\").last"
   ]
  },
  {
   "cell_type": "code",
   "execution_count": 5,
   "metadata": {},
   "outputs": [
    {
     "name": "stderr",
     "output_type": "stream",
     "text": [
      "cmd5.sc:1: type mismatch;\n",
      " found   : List[String]\n",
      " required: List[Int]\n",
      "val x: List[Int] = List[String](\"asd\")\n",
      "                               ^Compilation Failed"
     ]
    },
    {
     "ename": "",
     "evalue": "",
     "output_type": "error",
     "traceback": [
      "Compilation Failed"
     ]
    }
   ],
   "source": [
    "val x: List[Int] = List[String](\"asd\")"
   ]
  },
  {
   "cell_type": "code",
   "execution_count": 1,
   "metadata": {},
   "outputs": [
    {
     "name": "stdout",
     "output_type": "stream",
     "text": [
      "5\n",
      "25.0\n"
     ]
    },
    {
     "data": {
      "text/plain": [
       "defined \u001b[32mclass\u001b[39m \u001b[36mDoor\u001b[39m\n",
       "\u001b[36md\u001b[39m: \u001b[32mDoor\u001b[39m = ammonite.$sess.cmd0$Helper$Door@6c502496"
      ]
     },
     "execution_count": 1,
     "metadata": {},
     "output_type": "execute_result"
    }
   ],
   "source": [
    "class Door {\n",
    "    def open(a: Int) = println(a)\n",
    "    def open(a: Double) = println(a * a)\n",
    "}\n",
    "\n",
    "val d = new Door\n",
    "\n",
    "d.open(5 : Int) // selecting the implementation `:`\n",
    "d.open(5 : Double)"
   ]
  },
  {
   "cell_type": "code",
   "execution_count": 16,
   "metadata": {},
   "outputs": [
    {
     "name": "stdout",
     "output_type": "stream",
     "text": [
      "...\n",
      "<p>\n"
     ]
    },
    {
     "data": {
      "text/plain": [
       "defined \u001b[32mclass\u001b[39m \u001b[36mPage\u001b[39m\n",
       "defined \u001b[32mclass\u001b[39m \u001b[36mHtmlPage\u001b[39m"
      ]
     },
     "execution_count": 16,
     "metadata": {},
     "output_type": "execute_result"
    }
   ],
   "source": [
    "class Page {\n",
    "    def show() = println(\"...\")\n",
    "}\n",
    "\n",
    "class HtmlPage extends Page {\n",
    "    override def show() = println(\"<p>\")\n",
    "}\n",
    "\n",
    "(new Page : Page).show()\n",
    "(new HtmlPage : HtmlPage).show()"
   ]
  },
  {
   "cell_type": "code",
   "execution_count": 19,
   "metadata": {},
   "outputs": [
    {
     "data": {
      "text/plain": [
       "\u001b[36mres18\u001b[39m: \u001b[32mString\u001b[39m = \u001b[32m\"Toy\"\u001b[39m"
      ]
     },
     "execution_count": 19,
     "metadata": {},
     "output_type": "execute_result"
    }
   ],
   "source": [
    "(new Gift() : Box[String]).get()"
   ]
  },
  {
   "cell_type": "code",
   "execution_count": 11,
   "metadata": {},
   "outputs": [
    {
     "data": {
      "text/plain": [
       "\u001b[36mres10\u001b[39m: \u001b[32mInt\u001b[39m = \u001b[32m1234\u001b[39m"
      ]
     },
     "execution_count": 11,
     "metadata": {},
     "output_type": "execute_result"
    }
   ],
   "source": [
    "(new Safe() : Box[Int]).get()"
   ]
  },
  {
   "cell_type": "markdown",
   "metadata": {},
   "source": [
    "## Parametric Polymorphism: Generics"
   ]
  },
  {
   "cell_type": "code",
   "execution_count": 33,
   "metadata": {},
   "outputs": [
    {
     "data": {
      "text/plain": [
       "defined \u001b[32mtrait\u001b[39m \u001b[36mWrapper\u001b[39m\n",
       "defined \u001b[32mclass\u001b[39m \u001b[36mData\u001b[39m\n",
       "defined \u001b[32mclass\u001b[39m \u001b[36mValue\u001b[39m"
      ]
     },
     "execution_count": 33,
     "metadata": {},
     "output_type": "execute_result"
    }
   ],
   "source": [
    "trait Wrapper[A] \n",
    "\n",
    "class Data extends Wrapper[Int]\n",
    "class Value extends Wrapper[String]"
   ]
  },
  {
   "cell_type": "code",
   "execution_count": 27,
   "metadata": {},
   "outputs": [
    {
     "data": {
      "text/plain": [
       "\u001b[36mx\u001b[39m: \u001b[32mWrapper\u001b[39m[\u001b[32mInt\u001b[39m] = ammonite.$sess.cmd25$Helper$Data@1f0d2e55"
      ]
     },
     "execution_count": 27,
     "metadata": {},
     "output_type": "execute_result"
    }
   ],
   "source": [
    "val x: Wrapper[Int] = new Data"
   ]
  },
  {
   "cell_type": "code",
   "execution_count": 33,
   "metadata": {},
   "outputs": [
    {
     "name": "stderr",
     "output_type": "stream",
     "text": [
      "cmd33.sc:1: type mismatch;\n",
      " found   : cmd33.this.cmd32.Data\n",
      " required: cmd33.this.cmd32.Wrapper[String]\n",
      "val y: Wrapper[String] = new Data\n",
      "                         ^Compilation Failed"
     ]
    },
    {
     "ename": "",
     "evalue": "",
     "output_type": "error",
     "traceback": [
      "Compilation Failed"
     ]
    }
   ],
   "source": [
    "val y: Wrapper[String] = new Data"
   ]
  },
  {
   "cell_type": "code",
   "execution_count": 28,
   "metadata": {},
   "outputs": [
    {
     "data": {
      "text/plain": [
       "\u001b[36mcity\u001b[39m: \u001b[32mOption\u001b[39m[\u001b[32mString\u001b[39m] = \u001b[32mNone\u001b[39m"
      ]
     },
     "execution_count": 28,
     "metadata": {},
     "output_type": "execute_result"
    }
   ],
   "source": [
    "val city: Option[String] = None"
   ]
  },
  {
   "cell_type": "code",
   "execution_count": 29,
   "metadata": {},
   "outputs": [
    {
     "data": {
      "text/plain": [
       "\u001b[36mlocation\u001b[39m: \u001b[32mOption\u001b[39m[\u001b[32mString\u001b[39m] = \u001b[32mNone\u001b[39m"
      ]
     },
     "execution_count": 29,
     "metadata": {},
     "output_type": "execute_result"
    }
   ],
   "source": [
    "val location: Option[String] = city"
   ]
  },
  {
   "cell_type": "code",
   "execution_count": 29,
   "metadata": {},
   "outputs": [
    {
     "name": "stderr",
     "output_type": "stream",
     "text": [
      "cmd29.sc:1: type mismatch;\n",
      " found   : Option[String]\n",
      " required: Option[Int]\n",
      "val height: Option[Int] = city\n",
      "                          ^Compilation Failed"
     ]
    },
    {
     "ename": "",
     "evalue": "",
     "output_type": "error",
     "traceback": [
      "Compilation Failed"
     ]
    }
   ],
   "source": [
    "val height: Option[Int] = city"
   ]
  },
  {
   "cell_type": "code",
   "execution_count": 31,
   "metadata": {},
   "outputs": [
    {
     "data": {
      "text/plain": [
       "defined \u001b[32mfunction\u001b[39m \u001b[36mgetData\u001b[39m"
      ]
     },
     "execution_count": 31,
     "metadata": {},
     "output_type": "execute_result"
    }
   ],
   "source": [
    "def getData(): Option[String] = None"
   ]
  },
  {
   "cell_type": "code",
   "execution_count": 32,
   "metadata": {},
   "outputs": [
    {
     "data": {
      "text/plain": [
       "\u001b[36mname\u001b[39m: \u001b[32mOption\u001b[39m[\u001b[32mString\u001b[39m] = \u001b[32mNone\u001b[39m"
      ]
     },
     "execution_count": 32,
     "metadata": {},
     "output_type": "execute_result"
    }
   ],
   "source": [
    "val name: Option[String] = getData()"
   ]
  },
  {
   "cell_type": "code",
   "execution_count": 32,
   "metadata": {},
   "outputs": [
    {
     "name": "stderr",
     "output_type": "stream",
     "text": [
      "cmd32.sc:1: type mismatch;\n",
      " found   : Option[String]\n",
      " required: Option[Int]\n",
      "val weight: Option[Int] = getData()\n",
      "                                 ^Compilation Failed"
     ]
    },
    {
     "ename": "",
     "evalue": "",
     "output_type": "error",
     "traceback": [
      "Compilation Failed"
     ]
    }
   ],
   "source": [
    "val weight: Option[Int] = getData()"
   ]
  },
  {
   "cell_type": "code",
   "execution_count": 32,
   "metadata": {},
   "outputs": [
    {
     "name": "stderr",
     "output_type": "stream",
     "text": [
      "cmd32.sc:5: type mismatch;\n",
      " found   : List[Helper.this.Dog]\n",
      " required: List[Helper.this.Drink]\n",
      "val drinks: List[Drink] = dogs\n",
      "                          ^Compilation Failed"
     ]
    },
    {
     "ename": "",
     "evalue": "",
     "output_type": "error",
     "traceback": [
      "Compilation Failed"
     ]
    }
   ],
   "source": [
    "class Drink\n",
    "class Dog\n",
    "\n",
    "val dogs: List[Dog] = List()\n",
    "val drinks: List[Drink] = dogs\n"
   ]
  },
  {
   "cell_type": "markdown",
   "metadata": {},
   "source": [
    "# Types as RULES NOT! Value indicators"
   ]
  },
  {
   "cell_type": "code",
   "execution_count": 35,
   "metadata": {},
   "outputs": [
    {
     "name": "stdout",
     "output_type": "stream",
     "text": [
      "red\n",
      "\n"
     ]
    },
    {
     "data": {
      "text/plain": [
       "defined \u001b[32mtrait\u001b[39m \u001b[36mCol\u001b[39m\n",
       "defined \u001b[32mobject\u001b[39m \u001b[36mRed\u001b[39m\n",
       "defined \u001b[32mobject\u001b[39m \u001b[36mGreen\u001b[39m\n",
       "defined \u001b[32mobject\u001b[39m \u001b[36mGold\u001b[39m\n",
       "defined \u001b[32mobject\u001b[39m \u001b[36mSilver\u001b[39m\n",
       "\u001b[36mx\u001b[39m: \u001b[32mCol\u001b[39m[\u001b[32mInt\u001b[39m] = ammonite.$sess.cmd34$Helper$Red$@23fa6d9\n",
       "\u001b[36my\u001b[39m: \u001b[32mCol\u001b[39m[\u001b[32mString\u001b[39m] = ammonite.$sess.cmd34$Helper$Gold$@4b155d3d"
      ]
     },
     "execution_count": 35,
     "metadata": {},
     "output_type": "execute_result"
    }
   ],
   "source": [
    "trait Col[A]\n",
    "\n",
    "// compat. colors\n",
    "object Red extends Col[Int]\n",
    "object Green extends Col[Int]\n",
    "\n",
    "// compat. colors\n",
    "object Gold extends Col[String]\n",
    "object Silver extends Col[String]\n",
    "\n",
    "val x: Col[Int] = Red\n",
    "val y: Col[String] = Gold\n",
    "\n",
    "x match {\n",
    "    case Red => println(\"red\")\n",
    "    case Green => println(\"greeen!\")\n",
    "}\n",
    "\n",
    "y match {\n",
    "    case Gold => println()\n",
    "    case Gold => println()\n",
    "}"
   ]
  }
 ],
 "metadata": {
  "kernelspec": {
   "display_name": "Scala 2.12",
   "language": "scala",
   "name": "scala212"
  },
  "language_info": {
   "codemirror_mode": "text/x-scala",
   "file_extension": ".scala",
   "mimetype": "text/x-scala",
   "name": "scala",
   "nbconvert_exporter": "script",
   "version": "2.12.8"
  }
 },
 "nbformat": 4,
 "nbformat_minor": 2
}
