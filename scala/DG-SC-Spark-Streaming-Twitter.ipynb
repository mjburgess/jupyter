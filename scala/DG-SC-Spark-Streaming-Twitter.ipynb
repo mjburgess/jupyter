{
 "cells": [
  {
   "cell_type": "code",
   "execution_count": 1,
   "metadata": {},
   "outputs": [
    {
     "name": "stdout",
     "output_type": "stream",
     "text": [
      "Compiling /D/courseware/jupyter-scala/almond/QaSpark.sc"
     ]
    },
    {
     "name": "stderr",
     "output_type": "stream",
     "text": [
      "Using Spark's default log4j profile: org/apache/spark/log4j-defaults.properties\n"
     ]
    },
    {
     "data": {
      "text/plain": [
       "\u001b[32mimport \u001b[39m\u001b[36m$file.$      \n",
       "\u001b[39m\n",
       "\u001b[32mimport \u001b[39m\u001b[36mQaSpark._\u001b[39m"
      ]
     },
     "execution_count": 1,
     "metadata": {},
     "output_type": "execute_result"
    }
   ],
   "source": [
    "import $file.QaSpark\n",
    "import QaSpark._"
   ]
  },
  {
   "cell_type": "code",
   "execution_count": 2,
   "metadata": {},
   "outputs": [
    {
     "data": {
      "text/plain": [
       "\u001b[32mimport \u001b[39m\u001b[36morg.apache.spark.streaming._\n",
       "\u001b[39m"
      ]
     },
     "execution_count": 2,
     "metadata": {},
     "output_type": "execute_result"
    }
   ],
   "source": [
    "import org.apache.spark.streaming._\n"
   ]
  },
  {
   "cell_type": "code",
   "execution_count": 3,
   "metadata": {},
   "outputs": [
    {
     "data": {
      "text/plain": [
       "\u001b[36mstreaming\u001b[39m: \u001b[32mStreamingContext\u001b[39m = org.apache.spark.streaming.StreamingContext@71c83be2"
      ]
     },
     "execution_count": 3,
     "metadata": {},
     "output_type": "execute_result"
    }
   ],
   "source": [
    "val streaming = new StreamingContext(spark.sparkContext, Duration(1000))"
   ]
  },
  {
   "cell_type": "code",
   "execution_count": 6,
   "metadata": {},
   "outputs": [
    {
     "data": {
      "text/plain": [
       "\u001b[36mfilters\u001b[39m: \u001b[32mArray\u001b[39m[\u001b[32mString\u001b[39m] = \u001b[33mArray\u001b[39m(\n",
       "  \u001b[32m\"spark\"\u001b[39m,\n",
       "  \u001b[32m\"scala\"\u001b[39m,\n",
       "  \u001b[32m\"music\"\u001b[39m,\n",
       "  \u001b[32m\"machinelearning\"\u001b[39m,\n",
       "  \u001b[32m\"sparknotebook\"\u001b[39m,\n",
       "  \u001b[32m\"apachespark\"\u001b[39m,\n",
       "  \u001b[32m\"docker\"\u001b[39m,\n",
       "  \u001b[32m\"apachemesos\"\u001b[39m\n",
       ")"
      ]
     },
     "execution_count": 6,
     "metadata": {},
     "output_type": "execute_result"
    }
   ],
   "source": [
    "\n",
    "val filters = Array(\"spark\", \"scala\", \"music\", \"machinelearning\", \"sparknotebook\", \"apachespark\", \"docker\",\n",
    "                    \"apachemesos\")"
   ]
  },
  {
   "cell_type": "code",
   "execution_count": 8,
   "metadata": {},
   "outputs": [
    {
     "data": {
      "text/plain": [
       "\u001b[32mimport \u001b[39m\u001b[36m$ivy.$                                                    \n",
       "\u001b[39m"
      ]
     },
     "execution_count": 8,
     "metadata": {},
     "output_type": "execute_result"
    }
   ],
   "source": [
    "import $ivy.`org.apache.bahir:spark-streaming-twitter_2.11:2.3.3`\n"
   ]
  },
  {
   "cell_type": "code",
   "execution_count": 9,
   "metadata": {},
   "outputs": [
    {
     "data": {
      "text/plain": [
       "\u001b[32mimport \u001b[39m\u001b[36morg.apache.spark.streaming.twitter._\n",
       "\n",
       "\u001b[39m\n",
       "\u001b[36mres8_1\u001b[39m: \u001b[32mdstream\u001b[39m.\u001b[32mReceiverInputDStream\u001b[39m[\u001b[32mtwitter4j\u001b[39m.\u001b[32mStatus\u001b[39m] = org.apache.spark.streaming.twitter.TwitterInputDStream@37afb32"
      ]
     },
     "execution_count": 9,
     "metadata": {},
     "output_type": "execute_result"
    }
   ],
   "source": [
    "import org.apache.spark.streaming.twitter._\n",
    "\n",
    "TwitterUtils.createStream(streaming, None)"
   ]
  }
 ],
 "metadata": {
  "kernelspec": {
   "display_name": "Scala 2.12",
   "language": "scala",
   "name": "scala212"
  },
  "language_info": {
   "codemirror_mode": "text/x-scala",
   "file_extension": ".scala",
   "mimetype": "text/x-scala",
   "name": "scala",
   "nbconvert_exporter": "script",
   "version": "2.12.8"
  }
 },
 "nbformat": 4,
 "nbformat_minor": 2
}
