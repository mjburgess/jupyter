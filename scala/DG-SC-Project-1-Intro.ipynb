{
 "cells": [
  {
   "cell_type": "markdown",
   "metadata": {},
   "source": [
    "# Scala Project Introduction \n"
   ]
  },
  {
   "cell_type": "markdown",
   "metadata": {},
   "source": [
    "## The Cinema Quiz"
   ]
  },
  {
   "cell_type": "markdown",
   "metadata": {},
   "source": [
    "A cinema chain has asked you to develop a quiz which provides demographic and preference data on potential customers. Their aim is to discover potential relationships that may be profitable. \n",
    "\n",
    "You will develop a data model for the quiz and provide a scala and json representation. Then analyse simulated information with spark. And finally build a website to collect this information; and perform the anlysis on collected information.  "
   ]
  },
  {
   "cell_type": "markdown",
   "metadata": {},
   "source": [
    "## Technical Introduction"
   ]
  },
  {
   "cell_type": "markdown",
   "metadata": {},
   "source": [
    "This project consists of four parts on:\n",
    "\n",
    "1. Core Scala \n",
    "2. Json Libraries\n",
    "3. Spark Libraries\n",
    "4. Web Libraries\n",
    "5. Extra: Advanced Spark\n",
    "\n",
    "The overall goal is to build a website which presents a user with a quiz that records:\n",
    "\n",
    "* Name, Age, Location, Weekly Spending on Food, Yearly Spending on Cinema, Favourite Film\n",
    "\n",
    "And whether they:\n",
    "* Like Action, Like Romantic, Like Horror, Like Comedy\n",
    "* Like Cinema, Like Food at the Cinema, Like 3D Films\n"
   ]
  },
  {
   "cell_type": "markdown",
   "metadata": {},
   "source": [
    "## NB\n",
    "* During this project you will use several libraries: json4s, scalatra and spark. A mini-guide has been given on each to get you started. However you may need to consult their documentation, and work independently to solve problems you might face.\n",
    "\n",
    "\n",
    "* Questions marked `EXTRA` are advanced or open ended: interpretation and approach is left to the reader.  Advanced learners may wish to distinguish themselves by the use of more principled object-oriented or functional approach to questions generally, and especially, to `EXTRA` questions. \n",
    "\n",
    "* Questions should be answered as compiled scala programs, rather than jupyter notebooks\n",
    "    * (sketching here is fine)"
   ]
  },
  {
   "cell_type": "markdown",
   "metadata": {},
   "source": [
    "# Project 1: Core Scala\n",
    "\n",
    "* Reference: \n",
    "    1. Scala Course Notes \n",
    "    2. Scala Simulations Notes"
   ]
  },
  {
   "cell_type": "markdown",
   "metadata": {},
   "source": [
    "## Questions\n",
    "### Representing Data"
   ]
  },
  {
   "cell_type": "markdown",
   "metadata": {},
   "source": [
    "* In scala:\n",
    "* Sketch an example of quiz answers.\n",
    "    * Choose an appropriate a data type to represent the quiz. "
   ]
  },
  {
   "cell_type": "markdown",
   "metadata": {},
   "source": [
    "* Define a case class to represent a `Person` taking the quiz. \n",
    "    * Include all their demographic information, and their quiz answers. \n",
    "        * ie., the quiz above should be a parameter of `Person`"
   ]
  },
  {
   "cell_type": "markdown",
   "metadata": {},
   "source": [
    "* Create an example instance of a person with your quiz answers above."
   ]
  },
  {
   "cell_type": "markdown",
   "metadata": {},
   "source": [
    "* EXTRA:\n",
    "    * override the `toString` method and provide a more formatted \"report\". "
   ]
  },
  {
   "cell_type": "markdown",
   "metadata": {},
   "source": [
    "### Simulating Data"
   ]
  },
  {
   "cell_type": "markdown",
   "metadata": {},
   "source": [
    "* Define a new `object` with two method...\n",
    "\n",
    "* Write a `genPerson` method\n",
    "    * this method should generate a new person instance with randomly initialized \n",
    "        1. demographic fields\n",
    "        2. quiz fields\n",
    "    \n",
    "* Add a `genMany` method which returns an `Array` of `Person`s filled with `amount: Int` of them"
   ]
  },
  {
   "cell_type": "markdown",
   "metadata": {},
   "source": [
    "## Extra\n",
    "\n",
    "* Make some of your fields probabilistically dependent\n",
    "    * ie., such that it's more likely to get \"like3D\" and \"likeAction\" together\n",
    "    \n",
    "* Write a unit test for your generator class\n",
    "    * it should check key statistical quantities come out within tolerable ranges for large data sets\n",
    "    * eg., the mean of some field should be the chosen mean when generating, eg., 10,000 examples. "
   ]
  }
 ],
 "metadata": {
  "kernelspec": {
   "display_name": "Scala 2.12",
   "language": "scala",
   "name": "scala212"
  },
  "language_info": {
   "codemirror_mode": "text/x-scala",
   "file_extension": ".scala",
   "mimetype": "text/x-scala",
   "name": "scala",
   "nbconvert_exporter": "script",
   "version": "2.12.8"
  }
 },
 "nbformat": 4,
 "nbformat_minor": 2
}
