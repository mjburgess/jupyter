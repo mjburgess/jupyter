{
 "cells": [
  {
   "cell_type": "code",
   "execution_count": 2,
   "metadata": {},
   "outputs": [
    {
     "data": {
      "text/plain": [
       "defined \u001b[32mclass\u001b[39m \u001b[36mPerson\u001b[39m\n",
       "defined \u001b[32mclass\u001b[39m \u001b[36mDog\u001b[39m"
      ]
     },
     "execution_count": 2,
     "metadata": {},
     "output_type": "execute_result"
    }
   ],
   "source": [
    "class Person(val name: String)\n",
    "class Dog(val name: String)"
   ]
  },
  {
   "cell_type": "code",
   "execution_count": 3,
   "metadata": {},
   "outputs": [
    {
     "data": {
      "text/plain": [
       "defined \u001b[32mtrait\u001b[39m \u001b[36mEatable\u001b[39m"
      ]
     },
     "execution_count": 3,
     "metadata": {},
     "output_type": "execute_result"
    }
   ],
   "source": [
    "trait Eatable {\n",
    "    def eat(p: Person): String\n",
    "}"
   ]
  },
  {
   "cell_type": "code",
   "execution_count": 4,
   "metadata": {},
   "outputs": [
    {
     "data": {
      "text/plain": [
       "\u001b[36mpEater\u001b[39m: \u001b[32mAnyRef\u001b[39m with \u001b[32mEatable\u001b[39m = ammonite.$sess.cmd3$Helper$$anon$1@378c835"
      ]
     },
     "execution_count": 4,
     "metadata": {},
     "output_type": "execute_result"
    }
   ],
   "source": [
    "implicit val pEater = new Eatable {\n",
    "    def eat(p: Person) = \"yumm\" + p.name\n",
    "}"
   ]
  },
  {
   "cell_type": "code",
   "execution_count": 5,
   "metadata": {},
   "outputs": [
    {
     "data": {
      "text/plain": [
       "defined \u001b[32mfunction\u001b[39m \u001b[36mparty\u001b[39m"
      ]
     },
     "execution_count": 5,
     "metadata": {},
     "output_type": "execute_result"
    }
   ],
   "source": [
    "def party(p: Person)(implicit e: Eatable) = {\n",
    "  e.eat(p)  \n",
    "} "
   ]
  },
  {
   "cell_type": "code",
   "execution_count": 6,
   "metadata": {},
   "outputs": [
    {
     "data": {
      "text/plain": [
       "\u001b[36mres5\u001b[39m: \u001b[32mString\u001b[39m = \u001b[32m\"yummMichael\"\u001b[39m"
      ]
     },
     "execution_count": 6,
     "metadata": {},
     "output_type": "execute_result"
    }
   ],
   "source": [
    "//app -- it appears people eat\n",
    "party(new Person(\"Michael\"))"
   ]
  },
  {
   "cell_type": "code",
   "execution_count": 11,
   "metadata": {},
   "outputs": [
    {
     "data": {
      "text/plain": [
       "defined \u001b[32mfunction\u001b[39m \u001b[36mbake\u001b[39m\n",
       "\u001b[36mres10_1\u001b[39m: \u001b[32mInt\u001b[39m = \u001b[32m20\u001b[39m\n",
       "\u001b[36mres10_2\u001b[39m: \u001b[32mInt\u001b[39m = \u001b[32m40\u001b[39m\n",
       "\u001b[36my\u001b[39m: \u001b[32mInt\u001b[39m = \u001b[32m10\u001b[39m\n",
       "defined \u001b[32mfunction\u001b[39m \u001b[36mcook\u001b[39m\n",
       "\u001b[36mres10_5\u001b[39m: \u001b[32mInt\u001b[39m = \u001b[32m20\u001b[39m\n",
       "\u001b[36mres10_6\u001b[39m: \u001b[32mInt\u001b[39m = \u001b[32m20\u001b[39m"
      ]
     },
     "execution_count": 11,
     "metadata": {},
     "output_type": "execute_result"
    }
   ],
   "source": [
    "def bake(x: Int) = x * 2\n",
    "\n",
    "bake(10)\n",
    "bake(20)\n",
    "\n",
    "val y = 10\n",
    "def cook() = y * 2\n",
    "\n",
    "cook()\n",
    "cook()"
   ]
  },
  {
   "cell_type": "code",
   "execution_count": 13,
   "metadata": {},
   "outputs": [
    {
     "data": {
      "text/plain": [
       "defined \u001b[32mfunction\u001b[39m \u001b[36mshow\u001b[39m\n",
       "\u001b[36mres12_1\u001b[39m: \u001b[32mInt\u001b[39m = \u001b[32m3\u001b[39m\n",
       "\u001b[36mres12_2\u001b[39m: \u001b[32mString\u001b[39m = \u001b[32m\"c\"\u001b[39m"
      ]
     },
     "execution_count": 13,
     "metadata": {},
     "output_type": "execute_result"
    }
   ],
   "source": [
    "def show[A](l: List[A]) = l.last\n",
    "\n",
    "show[Int](List(1, 2, 3))\n",
    "show[String](List(\"a\", \"b\", \"c\"))"
   ]
  },
  {
   "cell_type": "code",
   "execution_count": null,
   "metadata": {},
   "outputs": [],
   "source": [
    "trait Plus[A] {\n",
    "    val empty: A\n",
    "    def |+|(l:A, r:A)\n",
    "}\n",
    "\n",
    "implicit val intPlus = new Plus[Int] {\n",
    "    def |+|(l: Int, r: Int) = r + l\n",
    "}\n",
    "\n",
    "3 |+| 4"
   ]
  },
  {
   "cell_type": "code",
   "execution_count": 27,
   "metadata": {},
   "outputs": [
    {
     "name": "stdout",
     "output_type": "stream",
     "text": [
      "(Michael,ymumm)\n",
      "(spot,woof!)\n",
      "(bzzz,dkjd)\n"
     ]
    },
    {
     "data": {
      "text/plain": [
       "defined \u001b[32mtrait\u001b[39m \u001b[36mEater\u001b[39m\n",
       "defined \u001b[32mfunction\u001b[39m \u001b[36mdinner\u001b[39m\n",
       "defined \u001b[32mclass\u001b[39m \u001b[36mPerson\u001b[39m\n",
       "defined \u001b[32mclass\u001b[39m \u001b[36mDog\u001b[39m\n",
       "defined \u001b[32mclass\u001b[39m \u001b[36mShredder\u001b[39m\n",
       "\u001b[36mperEater\u001b[39m: \u001b[32mAnyRef\u001b[39m with \u001b[32mEater\u001b[39m[\u001b[32mPerson\u001b[39m] = ammonite.$sess.cmd26$Helper$$anon$1@31295a79\n",
       "\u001b[36mdogEater\u001b[39m: \u001b[32mAnyRef\u001b[39m with \u001b[32mEater\u001b[39m[\u001b[32mDog\u001b[39m] = ammonite.$sess.cmd26$Helper$$anon$2@2ff9e38\n",
       "defined \u001b[32mobject\u001b[39m \u001b[36mshrEater\u001b[39m"
      ]
     },
     "execution_count": 27,
     "metadata": {},
     "output_type": "execute_result"
    }
   ],
   "source": [
    "// framework\n",
    "// dinner() ability\n",
    "// Eater[A] stuff\n",
    "\n",
    "trait Eater[A] { // \"typeclass\" = a generic trait for ad-hoc OR / features \n",
    "    def eat(a: A): Unit\n",
    "}\n",
    "\n",
    "def dinner[A](o: A)(implicit e: Eater[A]) = e.eat(o)\n",
    "\n",
    "\n",
    "// app \n",
    "class Person(val name: String)\n",
    "class Dog(val name: String)\n",
    "\n",
    "class Shredder(val paper: String)\n",
    "\n",
    "// lead app (marriages frame-app)\n",
    "// here's how dinner() works for our Person, Dog\n",
    "\n",
    "implicit val perEater = new Eater[Person] {\n",
    "    def eat(p: Person) = println(p.name, \"ymumm\")\n",
    "}\n",
    "\n",
    "implicit val dogEater = new Eater[Dog] {\n",
    "    def eat(p: Dog) = println(p.name, \"woof!\")\n",
    "}\n",
    "\n",
    "implicit object shrEater extends Eater[Shredder] {\n",
    "    def eat(s: Shredder) = println(\"bzzz\", s.paper)\n",
    "}\n",
    "\n",
    "\n",
    "// app dev.\n",
    "dinner(new Person(\"Michael\"))\n",
    "dinner(new Dog(\"spot\"))\n",
    "dinner(new Shredder(\"dkjd\"))"
   ]
  },
  {
   "cell_type": "markdown",
   "metadata": {},
   "source": [
    "## Exercise"
   ]
  },
  {
   "cell_type": "code",
   "execution_count": null,
   "metadata": {},
   "outputs": [],
   "source": []
  },
  {
   "cell_type": "markdown",
   "metadata": {},
   "source": [
    "* in the example above:\n",
    "    * add a Shredder class\n",
    "    * add an implementation of Eater for that Shredder class\n",
    "    * call dinner() with a Schredder"
   ]
  },
  {
   "cell_type": "markdown",
   "metadata": {},
   "source": [
    "```\n",
    "\n",
    "data Eater = Person | Dog\n",
    "data Person = String Int\n",
    "\n",
    "class Eat \n",
    "    eat\n",
    "    \n",
    "instance Eater Person\n",
    "    eat = \"how people eat\"\n",
    "\n",
    "instance Eater Dog\n",
    "    eat = \"woof!\"\n",
    "```"
   ]
  }
 ],
 "metadata": {
  "kernelspec": {
   "display_name": "Scala 2.12",
   "language": "scala",
   "name": "scala212"
  },
  "language_info": {
   "codemirror_mode": "text/x-scala",
   "file_extension": ".scala",
   "mimetype": "text/x-scala",
   "name": "scala",
   "nbconvert_exporter": "script",
   "version": "2.12.8"
  }
 },
 "nbformat": 4,
 "nbformat_minor": 2
}
