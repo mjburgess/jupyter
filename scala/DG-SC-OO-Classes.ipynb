{
 "cells": [
  {
   "cell_type": "markdown",
   "metadata": {},
   "source": [
    "* windows key + r\n",
    "\n",
    "\n",
    "```\\\\INSTRUCTOR\\cw```"
   ]
  },
  {
   "cell_type": "markdown",
   "metadata": {},
   "source": [
    "```docker run -p 8888:8888 --rm -v C:/Users/Admin:/A -w /A almondsh/almond```\n",
    "\n",
    "```http://localhost:8888```"
   ]
  },
  {
   "cell_type": "markdown",
   "metadata": {},
   "source": [
    "# Object-Orientation"
   ]
  },
  {
   "cell_type": "markdown",
   "metadata": {},
   "source": [
    "## Syntax"
   ]
  },
  {
   "cell_type": "markdown",
   "metadata": {},
   "source": [
    "* predefined constructors\n",
    "    * constructor = a way of making a value"
   ]
  },
  {
   "cell_type": "markdown",
   "metadata": {},
   "source": [
    "## Constructing Basic Types"
   ]
  },
  {
   "cell_type": "code",
   "execution_count": 3,
   "metadata": {},
   "outputs": [
    {
     "data": {
      "text/plain": [
       "\u001b[36mres2\u001b[39m: \u001b[32mString\u001b[39m = \u001b[32m\"MICHAEL\"\u001b[39m"
      ]
     },
     "execution_count": 3,
     "metadata": {},
     "output_type": "execute_result"
    }
   ],
   "source": [
    "\"Michael\".toUpperCase"
   ]
  },
  {
   "cell_type": "code",
   "execution_count": 4,
   "metadata": {},
   "outputs": [
    {
     "data": {
      "text/plain": [
       "\u001b[36mres3\u001b[39m: \u001b[32mInt\u001b[39m = \u001b[32m11\u001b[39m"
      ]
     },
     "execution_count": 4,
     "metadata": {},
     "output_type": "execute_result"
    }
   ],
   "source": [
    "(5).+(6)"
   ]
  },
  {
   "cell_type": "code",
   "execution_count": 5,
   "metadata": {},
   "outputs": [
    {
     "data": {
      "text/plain": [
       "\u001b[36mres4\u001b[39m: \u001b[32mInt\u001b[39m = \u001b[32m11\u001b[39m"
      ]
     },
     "execution_count": 5,
     "metadata": {},
     "output_type": "execute_result"
    }
   ],
   "source": [
    "5 + 6"
   ]
  },
  {
   "cell_type": "markdown",
   "metadata": {},
   "source": [
    "* bespoke objects are *composits* of basic data mode (value type, data structutre)\n",
    "* vs. *static* type = reading rule / syntax laws / mathematical truths / validity"
   ]
  },
  {
   "cell_type": "code",
   "execution_count": 7,
   "metadata": {},
   "outputs": [
    {
     "data": {
      "text/plain": [
       "\u001b[36mx\u001b[39m: \u001b[32mBoolean\u001b[39m = true\n",
       "\u001b[36my\u001b[39m: \u001b[32mBoolean\u001b[39m = false"
      ]
     },
     "execution_count": 7,
     "metadata": {},
     "output_type": "execute_result"
    }
   ],
   "source": [
    "val x: Boolean = true\n",
    "val y: Boolean = false"
   ]
  },
  {
   "cell_type": "markdown",
   "metadata": {},
   "source": [
    "## AND types"
   ]
  },
  {
   "cell_type": "markdown",
   "metadata": {},
   "source": [
    "``` Tuple type or a class type:  AND type, PRODUCT type\n",
    "    x: String,Int = BOTH String AND Int\n",
    "\n",
    "    (other kind of type is OR)\n",
    "    (: Option[Int] = Some() OR None)\n",
    "    (: Any = String OR Int OR Boolean OR ...) \n",
    "```"
   ]
  },
  {
   "cell_type": "markdown",
   "metadata": {},
   "source": [
    "## Classes"
   ]
  },
  {
   "cell_type": "code",
   "execution_count": 14,
   "metadata": {},
   "outputs": [],
   "source": [
    "// type Item = String AND Double AND Int\n",
    "// constructor Item() makes name, price, expiresM"
   ]
  },
  {
   "cell_type": "code",
   "execution_count": 16,
   "metadata": {},
   "outputs": [
    {
     "data": {
      "text/plain": [
       "\u001b[36mstuff\u001b[39m: \u001b[32mAny\u001b[39m = ammonite.$sess.cmd12$Helper$Item@6a3d0c0a"
      ]
     },
     "execution_count": 16,
     "metadata": {},
     "output_type": "execute_result"
    }
   ],
   "source": [
    "val stuff: Any = new Item(\"X\", 0.3, 9)"
   ]
  },
  {
   "cell_type": "code",
   "execution_count": 17,
   "metadata": {},
   "outputs": [
    {
     "data": {
      "text/plain": [
       "defined \u001b[32mfunction\u001b[39m \u001b[36mshow\u001b[39m"
      ]
     },
     "execution_count": 17,
     "metadata": {},
     "output_type": "execute_result"
    }
   ],
   "source": [
    "def show(a: Seq[Int]) = println(a)"
   ]
  },
  {
   "cell_type": "code",
   "execution_count": 22,
   "metadata": {},
   "outputs": [
    {
     "data": {
      "text/plain": [
       "\u001b[36mx\u001b[39m: \u001b[32mSeq\u001b[39m[\u001b[32mInt\u001b[39m] = \u001b[33mList\u001b[39m(\u001b[32m1\u001b[39m, \u001b[32m2\u001b[39m, \u001b[32m3\u001b[39m)"
      ]
     },
     "execution_count": 22,
     "metadata": {},
     "output_type": "execute_result"
    }
   ],
   "source": [
    "val x: Seq[Int] = List(1, 2, 3)"
   ]
  },
  {
   "cell_type": "code",
   "execution_count": 11,
   "metadata": {},
   "outputs": [
    {
     "data": {
      "text/plain": [
       "\u001b[36mmilk\u001b[39m: (\u001b[32mString\u001b[39m, \u001b[32mDouble\u001b[39m, \u001b[32mInt\u001b[39m) = (\u001b[32m\"CowBlah\"\u001b[39m, \u001b[32m3.23\u001b[39m, \u001b[32m10\u001b[39m)"
      ]
     },
     "execution_count": 11,
     "metadata": {},
     "output_type": "execute_result"
    }
   ],
   "source": [
    "val milk = (\"CowBlah\", 3.23, 10)"
   ]
  },
  {
   "cell_type": "code",
   "execution_count": 13,
   "metadata": {},
   "outputs": [
    {
     "data": {
      "text/plain": [
       "defined \u001b[32mclass\u001b[39m \u001b[36mItem\u001b[39m"
      ]
     },
     "execution_count": 13,
     "metadata": {},
     "output_type": "execute_result"
    }
   ],
   "source": [
    "class Item(val name: String, val price: Double, val expiresM: Int)"
   ]
  },
  {
   "cell_type": "code",
   "execution_count": 27,
   "metadata": {
    "scrolled": false
   },
   "outputs": [
    {
     "name": "stderr",
     "output_type": "stream",
     "text": [
      "cmd27.sc:1: value * is not a member of Any\n",
      "val res27 = List(\"sd\", 4.3, 1).last * 23\n",
      "                                    ^Compilation Failed"
     ]
    },
    {
     "ename": "",
     "evalue": "",
     "output_type": "error",
     "traceback": [
      "Compilation Failed"
     ]
    }
   ],
   "source": [
    "List(\"sd\", 4.3, 1).last * 23"
   ]
  },
  {
   "cell_type": "markdown",
   "metadata": {},
   "source": [
    "## Objects from Classes"
   ]
  },
  {
   "cell_type": "code",
   "execution_count": 23,
   "metadata": {},
   "outputs": [
    {
     "data": {
      "text/plain": [
       "\u001b[36mapples\u001b[39m: \u001b[32mItem\u001b[39m = ammonite.$sess.cmd12$Helper$Item@47eefabf"
      ]
     },
     "execution_count": 23,
     "metadata": {},
     "output_type": "execute_result"
    }
   ],
   "source": [
    "// types, syntax, validity =  machine making a vlaue\n",
    "val apples: Item = new Item(\"Granny Smith\", 0.41, 8)"
   ]
  },
  {
   "cell_type": "code",
   "execution_count": 28,
   "metadata": {},
   "outputs": [
    {
     "name": "stdout",
     "output_type": "stream",
     "text": [
      "GRANNY SMITH\n",
      "0.82\n",
      "7\n"
     ]
    }
   ],
   "source": [
    "println(apples.name.toUpperCase)\n",
    "println(apples.price * 2)\n",
    "println(apples.expiresM - 1)"
   ]
  },
  {
   "cell_type": "markdown",
   "metadata": {},
   "source": [
    "# Why?"
   ]
  },
  {
   "cell_type": "markdown",
   "metadata": {},
   "source": [
    "* what role do classes play in design?\n",
    "    * classes are blueprints\n",
    "    * real-world entity\n",
    "    * classes are abstract descriptions of concrete objects that share universal features"
   ]
  },
  {
   "cell_type": "markdown",
   "metadata": {},
   "source": [
    "* tim the possibe lizard\n",
    "    * tail\n",
    "    * head\n",
    "    * scales\n",
    "* lucie\n",
    "* patrick the moth, wings"
   ]
  },
  {
   "cell_type": "markdown",
   "metadata": {},
   "source": [
    "Real World:\n",
    "* Mike, Tim, Shila, etc.\n",
    "* Customers\n",
    "    * role within problem\n",
    "    * name\n",
    "    * age\n",
    "    * balance\n",
    "OO\n",
    "* video games"
   ]
  },
  {
   "cell_type": "code",
   "execution_count": 34,
   "metadata": {},
   "outputs": [
    {
     "name": "stdout",
     "output_type": "stream",
     "text": [
      "oppnening"
     ]
    },
    {
     "data": {
      "text/plain": [
       "defined \u001b[32mclass\u001b[39m \u001b[36mAuthenticationStrategy\u001b[39m"
      ]
     },
     "execution_count": 34,
     "metadata": {},
     "output_type": "execute_result"
    }
   ],
   "source": [
    "class AuthenticationStrategy {\n",
    "    def run() = print(\"oppnening\")\n",
    "}\n",
    "\n",
    "(new AuthenticationStrategy).run"
   ]
  },
  {
   "cell_type": "code",
   "execution_count": 31,
   "metadata": {},
   "outputs": [
    {
     "data": {
      "text/plain": [
       "defined \u001b[32mclass\u001b[39m \u001b[36mCustomer\u001b[39m\n",
       "\u001b[36mmike\u001b[39m: \u001b[32mCustomer\u001b[39m = ammonite.$sess.cmd30$Helper$Customer@3f7f3173\n",
       "\u001b[36mtim\u001b[39m: \u001b[32mCustomer\u001b[39m = ammonite.$sess.cmd30$Helper$Customer@4eb6b841"
      ]
     },
     "execution_count": 31,
     "metadata": {},
     "output_type": "execute_result"
    }
   ],
   "source": [
    "class Customer(val name: String, val age: Int, val balance: Double)\n",
    "\n",
    "\n",
    "val mike = new Customer(\"Michael\", 30, 100)\n",
    "val tim  = new Customer(\"Tim\", 30, 100)\n"
   ]
  },
  {
   "cell_type": "code",
   "execution_count": 35,
   "metadata": {},
   "outputs": [
    {
     "data": {
      "text/plain": [
       "\u001b[36mres34\u001b[39m: \u001b[32mString\u001b[39m = \u001b[32m\"Tim\"\u001b[39m"
      ]
     },
     "execution_count": 35,
     "metadata": {},
     "output_type": "execute_result"
    }
   ],
   "source": [
    "tim.name"
   ]
  },
  {
   "cell_type": "code",
   "execution_count": 37,
   "metadata": {},
   "outputs": [
    {
     "data": {
      "text/plain": [
       "\u001b[36mres36\u001b[39m: \u001b[32mInt\u001b[39m = \u001b[32m7\u001b[39m"
      ]
     },
     "execution_count": 37,
     "metadata": {},
     "output_type": "execute_result"
    }
   ],
   "source": [
    "\"Michael\".length"
   ]
  },
  {
   "cell_type": "code",
   "execution_count": 38,
   "metadata": {},
   "outputs": [
    {
     "data": {
      "text/plain": [
       "\u001b[36mres37\u001b[39m: \u001b[32mString\u001b[39m = \u001b[32m\"MICHAEL\"\u001b[39m"
      ]
     },
     "execution_count": 38,
     "metadata": {},
     "output_type": "execute_result"
    }
   ],
   "source": [
    "\"Michael\".toUpperCase"
   ]
  },
  {
   "cell_type": "code",
   "execution_count": 39,
   "metadata": {},
   "outputs": [
    {
     "data": {
      "text/plain": [
       "defined \u001b[32mclass\u001b[39m \u001b[36mItem\u001b[39m"
      ]
     },
     "execution_count": 39,
     "metadata": {},
     "output_type": "execute_result"
    }
   ],
   "source": [
    "class Item(val name: String, val price: Double, val expiresM: Int) {\n",
    "    def sell(c: Customer) = if(c.balance >= price) print(\"SALE\") else print(\"!\")\n",
    "}"
   ]
  },
  {
   "cell_type": "code",
   "execution_count": 43,
   "metadata": {},
   "outputs": [
    {
     "name": "stdout",
     "output_type": "stream",
     "text": [
      "SALESALE"
     ]
    },
    {
     "data": {
      "text/plain": [
       "\u001b[36mpork\u001b[39m: \u001b[32mItem\u001b[39m = ammonite.$sess.cmd38$Helper$Item@1e23493e\n",
       "\u001b[36mham\u001b[39m: \u001b[32mItem\u001b[39m = ammonite.$sess.cmd38$Helper$Item@5cbdfb4d"
      ]
     },
     "execution_count": 43,
     "metadata": {},
     "output_type": "execute_result"
    }
   ],
   "source": [
    "val pork: Item = new Item(\"pork\", 1, 9)\n",
    "val ham: Item = new Item(\"hame\", 1, 9)\n",
    "\n",
    "pork.sell(tim)\n",
    "ham.sell(tim)"
   ]
  },
  {
   "cell_type": "markdown",
   "metadata": {},
   "source": [
    "* Syntax\n",
    "    * what do i type?\n",
    "* Semantics\n",
    "    * what does that do? (to the machine)\n",
    "* Intention\n",
    "    * why do i do that?\n",
    "    * model real world objects\n",
    "    * *representing* domain concepts as application concepts\n",
    "        * where it is convenient for there to be a *run-time* instance"
   ]
  },
  {
   "cell_type": "markdown",
   "metadata": {},
   "source": [
    "* \"eveything is an object\" (everytying in the machine)\n",
    "* objects are the only run-time stuff\n",
    "* classes define what objects look like"
   ]
  },
  {
   "cell_type": "markdown",
   "metadata": {},
   "source": [
    "## Exercise\n",
    "\n",
    "* Provide application domain models of...\n",
    "    * application domain = code\n",
    "    * problem domain = meat"
   ]
  },
  {
   "cell_type": "markdown",
   "metadata": {},
   "source": [
    "## `class`\n",
    "* The Supermarket\n",
    "* Staff Members\n",
    "* Stock Orders\n",
    "\n",
    "### `new`\n",
    "* create some supermarkets (mk1, mk2)\n",
    "* create some staff (eg., manager, ...)\n",
    "* create some orders (eg., black pudding)\n",
    "\n",
    "### `def`\n",
    "* add a `describe()` method to each that println()'s the fields of the object\n",
    "    * call describe on each object"
   ]
  },
  {
   "cell_type": "code",
   "execution_count": 1,
   "metadata": {},
   "outputs": [
    {
     "data": {
      "text/plain": [
       "defined \u001b[32mclass\u001b[39m \u001b[36mCustomer\u001b[39m\n",
       "defined \u001b[32mclass\u001b[39m \u001b[36mItem\u001b[39m\n",
       "\u001b[36mpork\u001b[39m: \u001b[32mItem\u001b[39m = ammonite.$sess.cmd0$Helper$Item@5e05fd1f"
      ]
     },
     "execution_count": 1,
     "metadata": {},
     "output_type": "execute_result"
    }
   ],
   "source": [
    "class Customer(val name: String, val age: Int, val balance: Double)\n",
    "\n",
    "class Item(val name: String, val price: Double, val expiresM: Int) {\n",
    "    def sell(c: Customer) = if(c.balance >= price) print(\"SALE\") else print(\"!\")\n",
    "}\n",
    "\n",
    "val pork = new Item(\"Pork\", 1.5, 10)"
   ]
  },
  {
   "cell_type": "code",
   "execution_count": 5,
   "metadata": {},
   "outputs": [
    {
     "name": "stdout",
     "output_type": "stream",
     "text": [
      "(Tesco,(52.030102,-0.7623942))\n",
      "(Michael,the boss!!!!11!ONE!,Tesco)\n",
      "(1,Pork,100.0,2.5)\n"
     ]
    },
    {
     "data": {
      "text/plain": [
       "defined \u001b[32mclass\u001b[39m \u001b[36mSuperMarket\u001b[39m\n",
       "defined \u001b[32mclass\u001b[39m \u001b[36mStaff\u001b[39m\n",
       "defined \u001b[32mclass\u001b[39m \u001b[36mOrder\u001b[39m\n",
       "\u001b[36mtesco\u001b[39m: \u001b[32mSuperMarket\u001b[39m = ammonite.$sess.cmd4$Helper$SuperMarket@58d7bcbd\n",
       "\u001b[36mmanager\u001b[39m: \u001b[32mStaff\u001b[39m = ammonite.$sess.cmd4$Helper$Staff@6faec20c\n",
       "\u001b[36morder\u001b[39m: \u001b[32mOrder\u001b[39m = ammonite.$sess.cmd4$Helper$Order@1ae241a9"
      ]
     },
     "execution_count": 5,
     "metadata": {},
     "output_type": "execute_result"
    }
   ],
   "source": [
    "class SuperMarket(val name: String, val location: (Double, Double)) {\n",
    "    def describe() = println(name, location)\n",
    "}\n",
    "\n",
    "class Staff(val name: String, val role: String, val store: SuperMarket) {\n",
    "    def describe() = println(name, role, store.name)\n",
    "}\n",
    "\n",
    "class Order(val id: Int, val item: Item, val amount: Double, val ppi: Double) {\n",
    "    def describe() = println(id, item.name, amount, ppi)\n",
    "}\n",
    "\n",
    "val tesco = new SuperMarket(\"Tesco\", (52.030102,-0.7623942))\n",
    "val manager = new Staff(\"Michael\", \"the boss!!!!11!ONE!\", tesco)\n",
    "val order = new Order(1, pork, 100, 2.5)\n",
    "\n",
    "tesco.describe()\n",
    "manager.describe()\n",
    "order.describe()"
   ]
  },
  {
   "cell_type": "markdown",
   "metadata": {},
   "source": [
    "## More on `def`"
   ]
  },
  {
   "cell_type": "markdown",
   "metadata": {},
   "source": [
    "* polymorphism\n",
    "* particular process -> general process\n",
    "    * description in the problme domain is general\n",
    "    * we think in generalities\n",
    "    * hide or ignore specifics\n",
    "    \n",
    "\n",
    "\n",
    "* open(s: String) -> .open\n",
    "* add -> +"
   ]
  },
  {
   "cell_type": "code",
   "execution_count": 10,
   "metadata": {},
   "outputs": [
    {
     "data": {
      "text/plain": [
       "\u001b[36mres9\u001b[39m: \u001b[32mInt\u001b[39m = \u001b[32m2\u001b[39m"
      ]
     },
     "execution_count": 10,
     "metadata": {},
     "output_type": "execute_result"
    }
   ],
   "source": [
    "1 + 1"
   ]
  },
  {
   "cell_type": "code",
   "execution_count": 11,
   "metadata": {},
   "outputs": [
    {
     "data": {
      "text/plain": [
       "\u001b[36mres10\u001b[39m: \u001b[32mInt\u001b[39m = \u001b[32m98\u001b[39m"
      ]
     },
     "execution_count": 11,
     "metadata": {},
     "output_type": "execute_result"
    }
   ],
   "source": [
    "'1' + '1'"
   ]
  },
  {
   "cell_type": "markdown",
   "metadata": {},
   "source": [
    "* you can define several methods with the same name\n",
    "* this is an exmaple of polymorphism\n",
    "* `open` is a general term which refers to one of several specific process"
   ]
  },
  {
   "cell_type": "code",
   "execution_count": 8,
   "metadata": {},
   "outputs": [
    {
     "name": "stdout",
     "output_type": "stream",
     "text": [
      "closed\n",
      "Opening!\n"
     ]
    },
    {
     "data": {
      "text/plain": [
       "defined \u001b[32mclass\u001b[39m \u001b[36mHelpDesk\u001b[39m\n",
       "\u001b[36mhd\u001b[39m: \u001b[32mHelpDesk\u001b[39m = ammonite.$sess.cmd7$Helper$HelpDesk@48a36455"
      ]
     },
     "execution_count": 8,
     "metadata": {},
     "output_type": "execute_result"
    }
   ],
   "source": [
    "class HelpDesk(val openingTime: Int) {\n",
    "    def open() = \n",
    "        println(\"Opening!\")\n",
    "    \n",
    "    def open(command: String) = \n",
    "        if(command == \"boss\") println(\"Opening!\") else println(\"closed\")\n",
    "}\n",
    "\n",
    "val hd = new HelpDesk(9)\n",
    "hd.open(\"hello\") // `open` has two implements\n",
    "hd.open() // `open` has two implements"
   ]
  },
  {
   "cell_type": "markdown",
   "metadata": {},
   "source": [
    "## val, var and private, and such"
   ]
  },
  {
   "cell_type": "markdown",
   "metadata": {},
   "source": [
    "* \"encapsulation\" -- placing a boundary around where things can be\n",
    "* java strongly encourages privacy -- thats OK to sovlve change!\n",
    "* better soln: dont change!\n",
    "\n",
    "* encaps. is often bad -- hinders reuse; there's no need\n",
    "\n",
    "* ORMs = object-relation mapping -- ugly!"
   ]
  },
  {
   "cell_type": "code",
   "execution_count": 15,
   "metadata": {},
   "outputs": [
    {
     "data": {
      "text/plain": [
       "defined \u001b[32mclass\u001b[39m \u001b[36mCart\u001b[39m"
      ]
     },
     "execution_count": 15,
     "metadata": {},
     "output_type": "execute_result"
    }
   ],
   "source": [
    "class Cart(items: List[Item]) {  // private, items is only visible in Cart{}\n",
    "    def describe() = println(items.last.name)\n",
    "}"
   ]
  },
  {
   "cell_type": "code",
   "execution_count": 16,
   "metadata": {},
   "outputs": [
    {
     "name": "stdout",
     "output_type": "stream",
     "text": [
      "pork\n"
     ]
    },
    {
     "data": {
      "text/plain": [
       "\u001b[36mmine\u001b[39m: \u001b[32mCart\u001b[39m = ammonite.$sess.cmd14$Helper$Cart@4ab4cbb2"
      ]
     },
     "execution_count": 16,
     "metadata": {},
     "output_type": "execute_result"
    }
   ],
   "source": [
    "val mine = new Cart(List(new Item(\"pork\", 1.5, 10)))\n",
    "mine.describe()"
   ]
  },
  {
   "cell_type": "code",
   "execution_count": 26,
   "metadata": {},
   "outputs": [
    {
     "name": "stderr",
     "output_type": "stream",
     "text": [
      "cmd26.sc:1: value items is not a member of ammonite.$sess.cmd15.wrapper.cmd14.Cart\n",
      "val res26 = mine.items\n",
      "                 ^Compilation Failed"
     ]
    },
    {
     "ename": "",
     "evalue": "",
     "output_type": "error",
     "traceback": [
      "Compilation Failed"
     ]
    }
   ],
   "source": [
    "mine.items"
   ]
  },
  {
   "cell_type": "code",
   "execution_count": 17,
   "metadata": {},
   "outputs": [
    {
     "name": "stdout",
     "output_type": "stream",
     "text": [
      "pork\n"
     ]
    },
    {
     "data": {
      "text/plain": [
       "defined \u001b[32mclass\u001b[39m \u001b[36mBasket\u001b[39m\n",
       "\u001b[36mmy\u001b[39m: \u001b[32mBasket\u001b[39m = ammonite.$sess.cmd16$Helper$Basket@306b650e\n",
       "\u001b[36mres16_3\u001b[39m: \u001b[32mList\u001b[39m[\u001b[32mItem\u001b[39m] = \u001b[33mList\u001b[39m(ammonite.$sess.cmd0$Helper$Item@7c994295)"
      ]
     },
     "execution_count": 17,
     "metadata": {},
     "output_type": "execute_result"
    }
   ],
   "source": [
    "class Basket(val items: List[Item]) {  // private, items is only visible in Cart{}\n",
    "    def describe() = println(items.last.name)\n",
    "}\n",
    "\n",
    "val my = new Basket(List(new Item(\"pork\", 1.5, 10)))\n",
    "my.describe()\n",
    "my.items"
   ]
  },
  {
   "cell_type": "code",
   "execution_count": 18,
   "metadata": {},
   "outputs": [
    {
     "data": {
      "text/plain": [
       "defined \u001b[32mclass\u001b[39m \u001b[36mManager\u001b[39m"
      ]
     },
     "execution_count": 18,
     "metadata": {},
     "output_type": "execute_result"
    }
   ],
   "source": [
    "class Manager {\n",
    "    private val name = \"Michael\"\n",
    "    \n",
    "    def describe() = name\n",
    "}"
   ]
  },
  {
   "cell_type": "markdown",
   "metadata": {},
   "source": [
    "## Constructors"
   ]
  },
  {
   "cell_type": "code",
   "execution_count": 21,
   "metadata": {},
   "outputs": [
    {
     "data": {
      "text/plain": [
       "defined \u001b[32mclass\u001b[39m \u001b[36mPerson\u001b[39m\n",
       "\u001b[36mres20_1\u001b[39m: \u001b[32mString\u001b[39m = \u001b[32m\"GENERAL PERSON\"\u001b[39m\n",
       "\u001b[36mres20_2\u001b[39m: \u001b[32mInt\u001b[39m = \u001b[32m29\u001b[39m\n",
       "\u001b[36mres20_3\u001b[39m: \u001b[32mInt\u001b[39m = \u001b[32m30\u001b[39m\n",
       "\u001b[36mres20_4\u001b[39m: \u001b[32mString\u001b[39m = \u001b[32m\"Samantha\"\u001b[39m"
      ]
     },
     "execution_count": 21,
     "metadata": {},
     "output_type": "execute_result"
    }
   ],
   "source": [
    "class Person(val name: String, val age: Int) {\n",
    "    def this() = this(\"GENERAL PERSON\", 100) // secondary (auxiliary) constructr\n",
    "}\n",
    "\n",
    "new Person().name\n",
    "new Person(\"Michael\", 29).age\n",
    "new Person(\"Michael\", 30).age\n",
    "new Person(\"Samantha\", 29).name"
   ]
  },
  {
   "cell_type": "code",
   "execution_count": 24,
   "metadata": {},
   "outputs": [
    {
     "data": {
      "text/plain": [
       "defined \u001b[32mobject\u001b[39m \u001b[36mPeople\u001b[39m"
      ]
     },
     "execution_count": 24,
     "metadata": {},
     "output_type": "execute_result"
    }
   ],
   "source": [
    "object People {\n",
    "    def makeGeneralPerson() = new Person(\"GP\", 10)\n",
    "    def makePerson(s: String) = new Person(s.split(\" \").last, 10)\n",
    "}"
   ]
  },
  {
   "cell_type": "code",
   "execution_count": 23,
   "metadata": {},
   "outputs": [
    {
     "data": {
      "text/plain": [
       "\u001b[36mres22\u001b[39m: \u001b[32mPerson\u001b[39m = ammonite.$sess.cmd20$Helper$Person@5d5ec12c"
      ]
     },
     "execution_count": 23,
     "metadata": {},
     "output_type": "execute_result"
    }
   ],
   "source": [
    "People.makeGeneralPerson()"
   ]
  },
  {
   "cell_type": "code",
   "execution_count": 26,
   "metadata": {},
   "outputs": [
    {
     "data": {
      "text/plain": [
       "\u001b[36mres25\u001b[39m: \u001b[32mString\u001b[39m = \u001b[32m\"Burgess\"\u001b[39m"
      ]
     },
     "execution_count": 26,
     "metadata": {},
     "output_type": "execute_result"
    }
   ],
   "source": [
    "People.makePerson(\"Micgael Burgess\").name"
   ]
  }
 ],
 "metadata": {
  "kernelspec": {
   "display_name": "Scala 2.12",
   "language": "scala",
   "name": "scala212"
  },
  "language_info": {
   "codemirror_mode": "text/x-scala",
   "file_extension": ".scala",
   "mimetype": "text/x-scala",
   "name": "scala",
   "nbconvert_exporter": "script",
   "version": "2.12.8"
  }
 },
 "nbformat": 4,
 "nbformat_minor": 2
}
