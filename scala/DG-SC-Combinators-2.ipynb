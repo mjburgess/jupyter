{
 "cells": [
  {
   "cell_type": "markdown",
   "metadata": {},
   "source": [
    "# Functions: Review"
   ]
  },
  {
   "cell_type": "markdown",
   "metadata": {},
   "source": [
    "* what are functions?\n",
    "    * objects with apply methods\n",
    "    \n",
    "    \n",
    "* what is the function-literal sytax?\n",
    "    * a type that's clearer than `Fn[In,Out]`\n",
    "    * In => Out\n",
    "    \n",
    "    * a constructor that's clearer than ... new ... def apply .... \n",
    "    * (in: In) => f(in) : Out\n",
    "    \n",
    "* when do we need to use functions?\n",
    "    * eg., with combinators\n",
    "    \n",
    "* what are combinators?\n",
    "    * higher-order functions (methods that take functions as arguments)\n",
    "    * that are used to recombine data\n",
    "    \n",
    "* eg., `map`\n",
    "    * forall `C[_]`,  `O`, `N`\n",
    "    * C[O] -> C[N] via f: O => N\n",
    "    \n",
    "* how does map work?\n",
    "    * specialized to type\n",
    "    \n",
    "    * for sequences -> while loop which makes a new seq\n",
    "    \n",
    "    * for options -> if/else where value->f(value), empty -> empty\n",
    "    \n",
    "    \n",
    "* how does Option allow these two cases?\n",
    "    * option is a trait\n",
    "    * Some is a child, None is a child\n",
    "    \n",
    "    * `: Option[A] = Some(v) | None`"
   ]
  },
  {
   "cell_type": "markdown",
   "metadata": {},
   "source": [
    "# Review: Function-Literal Syntax"
   ]
  },
  {
   "cell_type": "code",
   "execution_count": 2,
   "metadata": {},
   "outputs": [
    {
     "data": {
      "text/plain": [
       "\u001b[36mtotal\u001b[39m: \u001b[32mList\u001b[39m[\u001b[32mDouble\u001b[39m] => \u001b[32mDouble\u001b[39m = ammonite.$sess.cmd1$Helper$$Lambda$2439/1257591098@16bf1d78"
      ]
     },
     "execution_count": 2,
     "metadata": {},
     "output_type": "execute_result"
    }
   ],
   "source": [
    "// LHS: type                                      RHS constructor\n",
    "// : O => N                                new... old => new\n",
    "val total: List[Double] => Double    =     (in: List[Double]) => in.sum"
   ]
  },
  {
   "cell_type": "code",
   "execution_count": 3,
   "metadata": {},
   "outputs": [
    {
     "data": {
      "text/plain": [
       "\u001b[36mtotal\u001b[39m: \u001b[32mList\u001b[39m[\u001b[32mDouble\u001b[39m] => \u001b[32mDouble\u001b[39m = ammonite.$sess.cmd2$Helper$$Lambda$2448/1387490745@7e182653"
      ]
     },
     "execution_count": 3,
     "metadata": {},
     "output_type": "execute_result"
    }
   ],
   "source": [
    "val total: List[Double] => Double =  in => in.sum"
   ]
  },
  {
   "cell_type": "code",
   "execution_count": 4,
   "metadata": {},
   "outputs": [
    {
     "data": {
      "text/plain": [
       "\u001b[36mtotal\u001b[39m: \u001b[32mList\u001b[39m[\u001b[32mDouble\u001b[39m] => \u001b[32mDouble\u001b[39m = ammonite.$sess.cmd3$Helper$$Lambda$2453/1828121830@63d69b23"
      ]
     },
     "execution_count": 4,
     "metadata": {},
     "output_type": "execute_result"
    }
   ],
   "source": [
    "val total: List[Double] => Double =  _.sum"
   ]
  },
  {
   "cell_type": "code",
   "execution_count": 5,
   "metadata": {},
   "outputs": [
    {
     "data": {
      "text/plain": [
       "\u001b[36mdiscount\u001b[39m: (\u001b[32mDouble\u001b[39m, \u001b[32mDouble\u001b[39m) => \u001b[32mDouble\u001b[39m = ammonite.$sess.cmd4$Helper$$Lambda$2469/782633523@149e6071"
      ]
     },
     "execution_count": 5,
     "metadata": {},
     "output_type": "execute_result"
    }
   ],
   "source": [
    "val discount : (Double, Double) => Double = _ * _"
   ]
  },
  {
   "cell_type": "code",
   "execution_count": 6,
   "metadata": {},
   "outputs": [
    {
     "data": {
      "text/plain": [
       "\u001b[36mres5\u001b[39m: \u001b[32mDouble\u001b[39m = \u001b[32m1.0\u001b[39m"
      ]
     },
     "execution_count": 6,
     "metadata": {},
     "output_type": "execute_result"
    }
   ],
   "source": [
    "discount(10, 0.1)"
   ]
  },
  {
   "cell_type": "markdown",
   "metadata": {},
   "source": [
    "# Review: Function Types"
   ]
  },
  {
   "cell_type": "code",
   "execution_count": 7,
   "metadata": {},
   "outputs": [
    {
     "data": {
      "text/plain": [
       "defined \u001b[32mtrait\u001b[39m \u001b[36mX\u001b[39m"
      ]
     },
     "execution_count": 7,
     "metadata": {},
     "output_type": "execute_result"
    }
   ],
   "source": [
    "trait X {\n",
    "    val y: Int\n",
    "}"
   ]
  },
  {
   "cell_type": "code",
   "execution_count": 7,
   "metadata": {},
   "outputs": [
    {
     "name": "stderr",
     "output_type": "stream",
     "text": [
      "cmd7.sc:1: trait X is abstract; cannot be instantiated\n",
      "val res7 = new X\n",
      "           ^Compilation Failed"
     ]
    },
    {
     "ename": "",
     "evalue": "",
     "output_type": "error",
     "traceback": [
      "Compilation Failed"
     ]
    }
   ],
   "source": [
    "new X"
   ]
  },
  {
   "cell_type": "code",
   "execution_count": 8,
   "metadata": {},
   "outputs": [
    {
     "data": {
      "text/plain": [
       "\u001b[36mres7\u001b[39m: \u001b[32mAnyRef\u001b[39m with \u001b[32mX\u001b[39m = ammonite.$sess.cmd7$Helper$$anon$1@68273bca"
      ]
     },
     "execution_count": 8,
     "metadata": {},
     "output_type": "execute_result"
    }
   ],
   "source": [
    "new X { // generate class with this contents\n",
    "    val y = 5\n",
    "}"
   ]
  },
  {
   "cell_type": "code",
   "execution_count": 9,
   "metadata": {},
   "outputs": [
    {
     "data": {
      "text/plain": [
       "defined \u001b[32mtrait\u001b[39m \u001b[36mFn\u001b[39m\n",
       "defined \u001b[32mobject\u001b[39m \u001b[36mUpper\u001b[39m\n",
       "\u001b[36mlen\u001b[39m: \u001b[32mAnyRef\u001b[39m with \u001b[32mFn\u001b[39m[\u001b[32mString\u001b[39m, \u001b[32mInt\u001b[39m] = ammonite.$sess.cmd8$Helper$$anon$1@728226e1\n",
       "\u001b[36mf\u001b[39m: \u001b[32mFn\u001b[39m[\u001b[32mString\u001b[39m, \u001b[32mString\u001b[39m] = ammonite.$sess.cmd8$Helper$Upper$@4861a96d\n",
       "\u001b[36mres8_4\u001b[39m: \u001b[32mInt\u001b[39m = \u001b[32m5\u001b[39m"
      ]
     },
     "execution_count": 9,
     "metadata": {},
     "output_type": "execute_result"
    }
   ],
   "source": [
    "trait Fn[I, O] {\n",
    "    def apply(in: I): O\n",
    "}\n",
    "\n",
    "\n",
    "object Upper extends Fn[String, String] {\n",
    "    def apply(s: String) = s.toUpperCase\n",
    "}\n",
    "\n",
    "//or, just the same...\n",
    "val len = new Fn[String, Int] {\n",
    "    def apply(s: String) = s.length\n",
    "}\n",
    "\n",
    "\n",
    "val f : Fn[String, String] = Upper\n",
    "\n",
    "len(\"Udsda\")"
   ]
  },
  {
   "cell_type": "code",
   "execution_count": 9,
   "metadata": {},
   "outputs": [],
   "source": [
    "// Fn[String, Int]"
   ]
  },
  {
   "cell_type": "code",
   "execution_count": 9,
   "metadata": {},
   "outputs": [],
   "source": [
    "// List[Int]"
   ]
  },
  {
   "cell_type": "code",
   "execution_count": 10,
   "metadata": {},
   "outputs": [
    {
     "data": {
      "text/plain": [
       "\u001b[36mlength\u001b[39m: \u001b[32mString\u001b[39m => \u001b[32mInt\u001b[39m = ammonite.$sess.cmd9$Helper$$Lambda$2503/1905798997@fe96725"
      ]
     },
     "execution_count": 10,
     "metadata": {},
     "output_type": "execute_result"
    }
   ],
   "source": [
    "val length : String => Int    =     (s: String) => s.length"
   ]
  },
  {
   "cell_type": "code",
   "execution_count": 11,
   "metadata": {},
   "outputs": [
    {
     "data": {
      "text/plain": [
       "\u001b[36mres10\u001b[39m: \u001b[32mInt\u001b[39m = \u001b[32m7\u001b[39m"
      ]
     },
     "execution_count": 11,
     "metadata": {},
     "output_type": "execute_result"
    }
   ],
   "source": [
    "length.apply(\"Michael\")"
   ]
  },
  {
   "cell_type": "code",
   "execution_count": 12,
   "metadata": {},
   "outputs": [
    {
     "data": {
      "text/plain": [
       "\u001b[36mres11\u001b[39m: \u001b[32mInt\u001b[39m = \u001b[32m7\u001b[39m"
      ]
     },
     "execution_count": 12,
     "metadata": {},
     "output_type": "execute_result"
    }
   ],
   "source": [
    "length(\"Michaek\")"
   ]
  },
  {
   "cell_type": "markdown",
   "metadata": {},
   "source": [
    "## For-Comphrension"
   ]
  },
  {
   "cell_type": "code",
   "execution_count": 13,
   "metadata": {},
   "outputs": [
    {
     "data": {
      "text/plain": [
       "\u001b[36mres12\u001b[39m: \u001b[32mList\u001b[39m[\u001b[32mInt\u001b[39m] = \u001b[33mList\u001b[39m(\u001b[32m2\u001b[39m, \u001b[32m4\u001b[39m, \u001b[32m6\u001b[39m)"
      ]
     },
     "execution_count": 13,
     "metadata": {},
     "output_type": "execute_result"
    }
   ],
   "source": [
    "for {\n",
    "    e <- List(1, 2, 3)\n",
    "} yield e * 2"
   ]
  },
  {
   "cell_type": "code",
   "execution_count": 14,
   "metadata": {},
   "outputs": [
    {
     "data": {
      "text/plain": [
       "\u001b[36mres13\u001b[39m: \u001b[32mList\u001b[39m[\u001b[32mInt\u001b[39m] = \u001b[33mList\u001b[39m(\u001b[32m7\u001b[39m, \u001b[32m7\u001b[39m)"
      ]
     },
     "execution_count": 14,
     "metadata": {},
     "output_type": "execute_result"
    }
   ],
   "source": [
    "List(\"Michael\", \"Burgess\").map( _.length )"
   ]
  },
  {
   "cell_type": "code",
   "execution_count": 15,
   "metadata": {},
   "outputs": [
    {
     "data": {
      "text/plain": [
       "defined \u001b[32mtrait\u001b[39m \u001b[36mBox\u001b[39m"
      ]
     },
     "execution_count": 15,
     "metadata": {},
     "output_type": "execute_result"
    }
   ],
   "source": [
    "// Functor\n",
    "trait Box[O, N] {\n",
    "    val contents: O\n",
    "    def map[C[_]](c: C[O])(f: O => N): C[N] \n",
    "}\n",
    "\n"
   ]
  },
  {
   "cell_type": "code",
   "execution_count": 16,
   "metadata": {},
   "outputs": [
    {
     "data": {
      "text/plain": [
       "defined \u001b[32mfunction\u001b[39m \u001b[36mtransformSeq\u001b[39m"
      ]
     },
     "execution_count": 16,
     "metadata": {},
     "output_type": "execute_result"
    }
   ],
   "source": [
    "def transformSeq[O, N](input: Seq[O])(f: O => N): Seq[N] =  {\n",
    "    import scala.collection.mutable._\n",
    "    \n",
    "    val output: ArrayBuffer[N] = ArrayBuffer()\n",
    "    \n",
    "    var i = 0\n",
    "    while(i < input.length) {\n",
    "        output.append(f(input(i)))\n",
    "        i += 1\n",
    "    }\n",
    "    \n",
    "    output\n",
    "}"
   ]
  },
  {
   "cell_type": "code",
   "execution_count": 17,
   "metadata": {},
   "outputs": [
    {
     "data": {
      "text/plain": [
       "\u001b[36mage\u001b[39m: \u001b[32mOption\u001b[39m[\u001b[32mInt\u001b[39m] = \u001b[33mSome\u001b[39m(\u001b[32m19\u001b[39m)\n",
       "\u001b[36mplace\u001b[39m: \u001b[32mOption\u001b[39m[\u001b[32mInt\u001b[39m] = \u001b[32mNone\u001b[39m\n",
       "\u001b[36mres16_2\u001b[39m: \u001b[32mOption\u001b[39m[\u001b[32mInt\u001b[39m] = \u001b[33mSome\u001b[39m(\u001b[32m20\u001b[39m)"
      ]
     },
     "execution_count": 17,
     "metadata": {},
     "output_type": "execute_result"
    }
   ],
   "source": [
    "val age: Option[Int] = Some(19)\n",
    "val place: Option[Int] = None\n",
    "\n",
    "age.map(_ + 1)"
   ]
  },
  {
   "cell_type": "code",
   "execution_count": 18,
   "metadata": {},
   "outputs": [
    {
     "data": {
      "text/plain": [
       "\u001b[36mres17\u001b[39m: \u001b[32mOption\u001b[39m[\u001b[32mInt\u001b[39m] = \u001b[32mNone\u001b[39m"
      ]
     },
     "execution_count": 18,
     "metadata": {},
     "output_type": "execute_result"
    }
   ],
   "source": [
    "place.map(_ + 1)"
   ]
  },
  {
   "cell_type": "code",
   "execution_count": 19,
   "metadata": {},
   "outputs": [
    {
     "data": {
      "text/plain": [
       "\u001b[36mcity\u001b[39m: \u001b[32mOption\u001b[39m[\u001b[32mString\u001b[39m] = \u001b[32mNone\u001b[39m"
      ]
     },
     "execution_count": 19,
     "metadata": {},
     "output_type": "execute_result"
    }
   ],
   "source": [
    "val city: Option[String] = None : Option[String]"
   ]
  },
  {
   "cell_type": "code",
   "execution_count": 20,
   "metadata": {},
   "outputs": [
    {
     "data": {
      "text/plain": [
       "defined \u001b[32mtrait\u001b[39m \u001b[36mMaybeString\u001b[39m\n",
       "defined \u001b[32mclass\u001b[39m \u001b[36mJust\u001b[39m\n",
       "defined \u001b[32mobject\u001b[39m \u001b[36mEmptyString\u001b[39m"
      ]
     },
     "execution_count": 20,
     "metadata": {},
     "output_type": "execute_result"
    }
   ],
   "source": [
    "trait MaybeString\n",
    "case class Just(val value: String) extends MaybeString\n",
    "case object EmptyString extends MaybeString"
   ]
  },
  {
   "cell_type": "code",
   "execution_count": 21,
   "metadata": {},
   "outputs": [
    {
     "data": {
      "text/plain": [
       "\u001b[36mcity\u001b[39m: \u001b[32mMaybeString\u001b[39m = EmptyString\n",
       "\u001b[36mname\u001b[39m: \u001b[32mMaybeString\u001b[39m = \u001b[33mJust\u001b[39m(\u001b[32m\"Michae\"\u001b[39m)"
      ]
     },
     "execution_count": 21,
     "metadata": {},
     "output_type": "execute_result"
    }
   ],
   "source": [
    "// : MaybeString = new Some | EmptyString\n",
    "\n",
    "val city: MaybeString = EmptyString\n",
    "val name: MaybeString = new Just(\"Michae\")"
   ]
  },
  {
   "cell_type": "code",
   "execution_count": 22,
   "metadata": {},
   "outputs": [
    {
     "data": {
      "text/plain": [
       "defined \u001b[32mfunction\u001b[39m \u001b[36mtransformMaybe\u001b[39m"
      ]
     },
     "execution_count": 22,
     "metadata": {},
     "output_type": "execute_result"
    }
   ],
   "source": [
    "def transformMaybe(input: MaybeString)(f: String => String): MaybeString =\n",
    "    input match {\n",
    "        case Just(v) => new Just(f(v))\n",
    "        case EmptyString => EmptyString\n",
    "    }"
   ]
  },
  {
   "cell_type": "code",
   "execution_count": 23,
   "metadata": {},
   "outputs": [
    {
     "data": {
      "text/plain": [
       "\u001b[36mres22\u001b[39m: \u001b[32mMaybeString\u001b[39m = EmptyString"
      ]
     },
     "execution_count": 23,
     "metadata": {},
     "output_type": "execute_result"
    }
   ],
   "source": [
    "transformMaybe(city)(_.toUpperCase)"
   ]
  },
  {
   "cell_type": "code",
   "execution_count": 24,
   "metadata": {},
   "outputs": [
    {
     "data": {
      "text/plain": [
       "\u001b[36mres23\u001b[39m: \u001b[32mMaybeString\u001b[39m = \u001b[33mJust\u001b[39m(\u001b[32m\"MICHAE\"\u001b[39m)"
      ]
     },
     "execution_count": 24,
     "metadata": {},
     "output_type": "execute_result"
    }
   ],
   "source": [
    "transformMaybe(name)(_.toUpperCase)"
   ]
  },
  {
   "cell_type": "code",
   "execution_count": 25,
   "metadata": {},
   "outputs": [
    {
     "data": {
      "text/plain": [
       "\u001b[36mres24\u001b[39m: \u001b[32mIndexedSeq\u001b[39m[\u001b[32mInt\u001b[39m] = \u001b[33mVector\u001b[39m(\u001b[32m78\u001b[39m, \u001b[32m106\u001b[39m, \u001b[32m100\u001b[39m, \u001b[32m105\u001b[39m, \u001b[32m98\u001b[39m, \u001b[32m102\u001b[39m, \u001b[32m109\u001b[39m)"
      ]
     },
     "execution_count": 25,
     "metadata": {},
     "output_type": "execute_result"
    }
   ],
   "source": [
    "((\"Michael\" : IndexedSeq[Char]) map { _ + 1} ) : IndexedSeq[Int]"
   ]
  },
  {
   "cell_type": "code",
   "execution_count": 26,
   "metadata": {},
   "outputs": [
    {
     "data": {
      "text/plain": [
       "\u001b[36mres25\u001b[39m: \u001b[32mcollection\u001b[39m.\u001b[32mimmutable\u001b[39m.\u001b[32mIndexedSeq\u001b[39m[\u001b[32mInt\u001b[39m] = \u001b[33mVector\u001b[39m(\n",
       "  \u001b[32m78\u001b[39m,\n",
       "  \u001b[32m106\u001b[39m,\n",
       "  \u001b[32m100\u001b[39m,\n",
       "  \u001b[32m105\u001b[39m,\n",
       "  \u001b[32m98\u001b[39m,\n",
       "  \u001b[32m102\u001b[39m,\n",
       "  \u001b[32m109\u001b[39m\n",
       ")"
      ]
     },
     "execution_count": 26,
     "metadata": {},
     "output_type": "execute_result"
    }
   ],
   "source": [
    "for(c <- \"Michael\") yield c + 1"
   ]
  },
  {
   "cell_type": "code",
   "execution_count": 27,
   "metadata": {},
   "outputs": [
    {
     "data": {
      "text/plain": [
       "\u001b[36mresult\u001b[39m: \u001b[32mSeq\u001b[39m[\u001b[32mInt\u001b[39m] = \u001b[33mArrayBuffer\u001b[39m(\u001b[32m7\u001b[39m, \u001b[32m4\u001b[39m, \u001b[32m7\u001b[39m)"
      ]
     },
     "execution_count": 27,
     "metadata": {},
     "output_type": "execute_result"
    }
   ],
   "source": [
    "val result = transformSeq(Vector(\"Michael\", \"John\", \"Burgess\"))(_.length)"
   ]
  },
  {
   "cell_type": "code",
   "execution_count": 28,
   "metadata": {},
   "outputs": [
    {
     "data": {
      "text/plain": [
       "\u001b[36mres27\u001b[39m: \u001b[32mSeq\u001b[39m[\u001b[32mInt\u001b[39m] = \u001b[33mArrayBuffer\u001b[39m(\u001b[32m2\u001b[39m, \u001b[32m42\u001b[39m, \u001b[32m82\u001b[39m, \u001b[32m122\u001b[39m, \u001b[32m162\u001b[39m)"
      ]
     },
     "execution_count": 28,
     "metadata": {},
     "output_type": "execute_result"
    }
   ],
   "source": [
    "transformSeq(1 to 100 by 20)( _ * 2)"
   ]
  },
  {
   "cell_type": "code",
   "execution_count": 29,
   "metadata": {},
   "outputs": [
    {
     "data": {
      "text/plain": [
       "\u001b[36mres28\u001b[39m: \u001b[32mSeq\u001b[39m[\u001b[32mInt\u001b[39m] = \u001b[33mArrayBuffer\u001b[39m(\u001b[32m1\u001b[39m, \u001b[32m1\u001b[39m)"
      ]
     },
     "execution_count": 29,
     "metadata": {},
     "output_type": "execute_result"
    }
   ],
   "source": [
    "transformSeq(Map(1 -> \"A\", 2 -> \"B\").values.toList)(_.length)"
   ]
  },
  {
   "cell_type": "code",
   "execution_count": null,
   "metadata": {},
   "outputs": [],
   "source": [
    "// def transform[C[_]](input: C[O])(O=>N):C[N]"
   ]
  },
  {
   "cell_type": "markdown",
   "metadata": {},
   "source": [
    "# Combinators"
   ]
  },
  {
   "cell_type": "markdown",
   "metadata": {},
   "source": [
    "* map\n",
    "* flatMap\n",
    "* reduce\n",
    "* foldLeft\n",
    "* forall\n",
    "* exists\n",
    "* filter"
   ]
  },
  {
   "cell_type": "markdown",
   "metadata": {},
   "source": [
    "* map \n",
    "    * `C[O] => C[N] via f: O => N`"
   ]
  },
  {
   "cell_type": "markdown",
   "metadata": {},
   "source": [
    "# Exercise\n",
    "\n",
    "* Use an \n",
    "    * Array of ItemNames, \n",
    "    * Vector of Price, \n",
    "    * A String ProductCode, \n",
    "    * List of Locations, \n",
    "    * Range of ItemIds\n",
    "\n",
    "* using map:\n",
    "    * the first part of the item name (ie., split .head)\n",
    "    * discounted prices (by 20%)\n",
    "    * a numeric product code (+ 0)\n",
    "    * uppercase locations\n",
    "    * item ids shifted by 1000\n"
   ]
  },
  {
   "cell_type": "code",
   "execution_count": 30,
   "metadata": {},
   "outputs": [
    {
     "data": {
      "text/plain": [
       "\u001b[36mres29\u001b[39m: \u001b[32mArray\u001b[39m[\u001b[32mString\u001b[39m] = \u001b[33mArray\u001b[39m(\u001b[32m\"Nice\"\u001b[39m, \u001b[32m\"Crusty\"\u001b[39m)"
      ]
     },
     "execution_count": 30,
     "metadata": {},
     "output_type": "execute_result"
    }
   ],
   "source": [
    "Array(\"Nice Ham\", \"Crusty Bread\").map( i => i.split(\" \")(0) )"
   ]
  },
  {
   "cell_type": "code",
   "execution_count": 31,
   "metadata": {},
   "outputs": [
    {
     "data": {
      "text/plain": [
       "\u001b[36mres30\u001b[39m: \u001b[32mArray\u001b[39m[\u001b[32mString\u001b[39m] = \u001b[33mArray\u001b[39m(\u001b[32m\"Nice\"\u001b[39m, \u001b[32m\"Crusty\"\u001b[39m)"
      ]
     },
     "execution_count": 31,
     "metadata": {},
     "output_type": "execute_result"
    }
   ],
   "source": [
    "Array(\"Nice Ham\", \"Crusty Bread\") map { _.split(\" \").head }"
   ]
  },
  {
   "cell_type": "code",
   "execution_count": 32,
   "metadata": {},
   "outputs": [
    {
     "data": {
      "text/plain": [
       "\u001b[36mres31\u001b[39m: \u001b[32mVector\u001b[39m[\u001b[32mDouble\u001b[39m] = \u001b[33mVector\u001b[39m(\u001b[32m0.2\u001b[39m, \u001b[32m0.4\u001b[39m, \u001b[32m0.6000000000000001\u001b[39m)"
      ]
     },
     "execution_count": 32,
     "metadata": {},
     "output_type": "execute_result"
    }
   ],
   "source": [
    "Vector(1, 2, 3) map { _ * 0.2 }"
   ]
  },
  {
   "cell_type": "code",
   "execution_count": 33,
   "metadata": {},
   "outputs": [
    {
     "data": {
      "text/plain": [
       "\u001b[36mres32\u001b[39m: \u001b[32mcollection\u001b[39m.\u001b[32mimmutable\u001b[39m.\u001b[32mIndexedSeq\u001b[39m[\u001b[32mInt\u001b[39m] = \u001b[33mVector\u001b[39m(\u001b[32m65\u001b[39m, \u001b[32m66\u001b[39m, \u001b[32m67\u001b[39m, \u001b[32m90\u001b[39m, \u001b[32m88\u001b[39m)"
      ]
     },
     "execution_count": 33,
     "metadata": {},
     "output_type": "execute_result"
    }
   ],
   "source": [
    "\"ABCZX\" map { _ + 0 }"
   ]
  },
  {
   "cell_type": "code",
   "execution_count": 34,
   "metadata": {},
   "outputs": [
    {
     "data": {
      "text/plain": [
       "\u001b[36mres33\u001b[39m: \u001b[32mList\u001b[39m[\u001b[32mString\u001b[39m] = \u001b[33mList\u001b[39m(\u001b[32m\"uk\"\u001b[39m, \u001b[32m\"fr\"\u001b[39m)"
      ]
     },
     "execution_count": 34,
     "metadata": {},
     "output_type": "execute_result"
    }
   ],
   "source": [
    "List(\"UK\", \"FR\") map { _.toLowerCase }"
   ]
  },
  {
   "cell_type": "code",
   "execution_count": 35,
   "metadata": {},
   "outputs": [
    {
     "data": {
      "text/plain": [
       "\u001b[36mres34\u001b[39m: \u001b[32mcollection\u001b[39m.\u001b[32mimmutable\u001b[39m.\u001b[32mIndexedSeq\u001b[39m[\u001b[32mInt\u001b[39m] = \u001b[33mVector\u001b[39m(\u001b[32m1001\u001b[39m, \u001b[32m1002\u001b[39m, \u001b[32m1003\u001b[39m)"
      ]
     },
     "execution_count": 35,
     "metadata": {},
     "output_type": "execute_result"
    }
   ],
   "source": [
    "(1 to 3) map { _ + 1000 }"
   ]
  },
  {
   "cell_type": "markdown",
   "metadata": {},
   "source": [
    "# .map as lift"
   ]
  },
  {
   "cell_type": "markdown",
   "metadata": {},
   "source": [
    "* lifting, \"converting the type\""
   ]
  },
  {
   "cell_type": "code",
   "execution_count": 36,
   "metadata": {},
   "outputs": [
    {
     "data": {
      "text/plain": [
       "\u001b[36mlen\u001b[39m: \u001b[32mString\u001b[39m => \u001b[32mInt\u001b[39m = ammonite.$sess.cmd35$Helper$$Lambda$2885/1340415061@6ef8cacc\n",
       "\u001b[36mfn1\u001b[39m: \u001b[32mList\u001b[39m[\u001b[32mString\u001b[39m] => \u001b[32mList\u001b[39m[\u001b[32mInt\u001b[39m] = ammonite.$sess.cmd35$Helper$$Lambda$2886/1823542575@5b0c7f03\n",
       "\u001b[36mfn2\u001b[39m: \u001b[32mOption\u001b[39m[\u001b[32mString\u001b[39m] => \u001b[32mOption\u001b[39m[\u001b[32mInt\u001b[39m] = ammonite.$sess.cmd35$Helper$$Lambda$2887/1529271503@182edc5"
      ]
     },
     "execution_count": 36,
     "metadata": {},
     "output_type": "execute_result"
    }
   ],
   "source": [
    "val len: String => Int =  _.length\n",
    "\n",
    "val fn1: List[String] => List[Int] = _ map len\n",
    "val fn2: Option[String] => Option[Int] = _ map len\n",
    "\n"
   ]
  },
  {
   "cell_type": "markdown",
   "metadata": {},
   "source": [
    "## FlatMap\n",
    "\n",
    "* `map: C[O] => C[C[N]] via f: O => C[N]`\n",
    "* `flatMap: C[O] => C[N] via f: O => C[N]`"
   ]
  },
  {
   "cell_type": "code",
   "execution_count": 37,
   "metadata": {},
   "outputs": [
    {
     "data": {
      "text/plain": [
       "\u001b[36mres36\u001b[39m: \u001b[32mArray\u001b[39m[\u001b[32mArray\u001b[39m[\u001b[32mString\u001b[39m]] = \u001b[33mArray\u001b[39m(\n",
       "  \u001b[33mArray\u001b[39m(\u001b[32m\"Nice\"\u001b[39m, \u001b[32m\"Ham\"\u001b[39m),\n",
       "  \u001b[33mArray\u001b[39m(\u001b[32m\"Cheesey\"\u001b[39m, \u001b[32m\"Bread\"\u001b[39m)\n",
       ")"
      ]
     },
     "execution_count": 37,
     "metadata": {},
     "output_type": "execute_result"
    }
   ],
   "source": [
    "Array(\"Nice Ham\", \"Cheesey Bread\").map { \n",
    "    (_.split(\" \")) // : String => Array[String] \n",
    "}"
   ]
  },
  {
   "cell_type": "code",
   "execution_count": 38,
   "metadata": {},
   "outputs": [
    {
     "data": {
      "text/plain": [
       "\u001b[36mres37\u001b[39m: \u001b[32mArray\u001b[39m[\u001b[32mString\u001b[39m] = \u001b[33mArray\u001b[39m(\u001b[32m\"Nice\"\u001b[39m, \u001b[32m\"Ham\"\u001b[39m, \u001b[32m\"Cheesey\"\u001b[39m, \u001b[32m\"Bread\"\u001b[39m)"
      ]
     },
     "execution_count": 38,
     "metadata": {},
     "output_type": "execute_result"
    }
   ],
   "source": [
    "Array(\"Nice Ham\", \"Cheesey Bread\").flatMap { _.split(\" \") }"
   ]
  },
  {
   "cell_type": "code",
   "execution_count": 39,
   "metadata": {},
   "outputs": [
    {
     "data": {
      "text/plain": [
       "\u001b[36mdir\u001b[39m: \u001b[32mMap\u001b[39m[\u001b[32mString\u001b[39m, \u001b[32mString\u001b[39m] = \u001b[33mMap\u001b[39m(\u001b[32m\"London\"\u001b[39m -> \u001b[32m\"UK\"\u001b[39m)"
      ]
     },
     "execution_count": 39,
     "metadata": {},
     "output_type": "execute_result"
    }
   ],
   "source": [
    "val dir = Map(\n",
    "    \"London\" -> \"UK\"\n",
    ")\n"
   ]
  },
  {
   "cell_type": "code",
   "execution_count": 39,
   "metadata": {},
   "outputs": [],
   "source": [
    "// def readFile(f: String): String <- horrible lie!\n",
    "// def readFile(f: String): Option[String] <- true"
   ]
  },
  {
   "cell_type": "code",
   "execution_count": 40,
   "metadata": {},
   "outputs": [
    {
     "data": {
      "text/plain": [
       "\u001b[36mres39\u001b[39m: \u001b[32mOption\u001b[39m[\u001b[32mInt\u001b[39m] = \u001b[33mSome\u001b[39m(\u001b[32m3\u001b[39m)"
      ]
     },
     "execution_count": 40,
     "metadata": {},
     "output_type": "execute_result"
    }
   ],
   "source": [
    "List(1, 2, 3).lift(2)"
   ]
  },
  {
   "cell_type": "code",
   "execution_count": 41,
   "metadata": {},
   "outputs": [
    {
     "data": {
      "text/plain": [
       "\u001b[36mres40\u001b[39m: \u001b[32mOption\u001b[39m[\u001b[32mString\u001b[39m] = \u001b[32mNone\u001b[39m"
      ]
     },
     "execution_count": 41,
     "metadata": {},
     "output_type": "execute_result"
    }
   ],
   "source": [
    "dir.get(\"MSD\")"
   ]
  },
  {
   "cell_type": "code",
   "execution_count": 42,
   "metadata": {},
   "outputs": [
    {
     "data": {
      "text/plain": [
       "\u001b[36mlookup\u001b[39m: \u001b[32mString\u001b[39m => \u001b[32mOption\u001b[39m[\u001b[32mString\u001b[39m] = ammonite.$sess.cmd41$Helper$$Lambda$2929/1578919172@7db58a6e"
      ]
     },
     "execution_count": 42,
     "metadata": {},
     "output_type": "execute_result"
    }
   ],
   "source": [
    "val lookup: String => Option[String] = dir.get(_)"
   ]
  },
  {
   "cell_type": "code",
   "execution_count": 43,
   "metadata": {},
   "outputs": [
    {
     "data": {
      "text/plain": [
       "\u001b[36mname\u001b[39m: \u001b[32mOption\u001b[39m[\u001b[32mString\u001b[39m] = \u001b[33mSome\u001b[39m(\u001b[32m\"Michael\"\u001b[39m)\n",
       "\u001b[36myourCity\u001b[39m: \u001b[32mOption\u001b[39m[\u001b[32mString\u001b[39m] = \u001b[33mSome\u001b[39m(\u001b[32m\"London\"\u001b[39m)\n",
       "\u001b[36mmyCity\u001b[39m: \u001b[32mOption\u001b[39m[\u001b[32mString\u001b[39m] = \u001b[32mNone\u001b[39m\n",
       "\u001b[36mres42_3\u001b[39m: \u001b[32mOption\u001b[39m[\u001b[32mString\u001b[39m] = \u001b[33mSome\u001b[39m(\u001b[32m\"UK\"\u001b[39m)"
      ]
     },
     "execution_count": 43,
     "metadata": {},
     "output_type": "execute_result"
    }
   ],
   "source": [
    "val name: Option[String] = Some(\"Michael\")\n",
    "val yourCity: Option[String] = Some(\"London\")\n",
    "val myCity: Option[String] = None\n",
    "\n",
    "yourCity.flatMap(lookup)"
   ]
  },
  {
   "cell_type": "code",
   "execution_count": 44,
   "metadata": {},
   "outputs": [
    {
     "data": {
      "text/plain": [
       "\u001b[36mres43\u001b[39m: \u001b[32mOption\u001b[39m[\u001b[32mString\u001b[39m] = \u001b[33mSome\u001b[39m(\u001b[32m\"UK\"\u001b[39m)"
      ]
     },
     "execution_count": 44,
     "metadata": {},
     "output_type": "execute_result"
    }
   ],
   "source": [
    "for {\n",
    "    city <- yourCity\n",
    "    country <- lookup(city)\n",
    "} yield country"
   ]
  },
  {
   "cell_type": "markdown",
   "metadata": {},
   "source": [
    "## Exericse\n",
    "\n",
    "* with flatMap:\n",
    "    * take a vector of \"supermarket-name location\" strings to just locations\n",
    "    * do the same with a for-comprehension\n",
    "\n",
    "* with map\n",
    "    * take an option of a name and uppercase the name\n",
    "* with flatmap\n",
    "    * take an option of a name and look it up in a Map"
   ]
  },
  {
   "cell_type": "code",
   "execution_count": 45,
   "metadata": {},
   "outputs": [
    {
     "data": {
      "text/plain": [
       "\u001b[36mres44\u001b[39m: \u001b[32mVector\u001b[39m[\u001b[32mString\u001b[39m] = \u001b[33mVector\u001b[39m(\u001b[32m\"MK\"\u001b[39m, \u001b[32m\"NH\"\u001b[39m)"
      ]
     },
     "execution_count": 45,
     "metadata": {},
     "output_type": "execute_result"
    }
   ],
   "source": [
    "Vector(\"MetroSM MK\", \"ExpressSM NH\").flatMap( _.split(\" \").tail )"
   ]
  },
  {
   "cell_type": "code",
   "execution_count": 46,
   "metadata": {},
   "outputs": [
    {
     "data": {
      "text/plain": [
       "\u001b[36mres45\u001b[39m: \u001b[32mVector\u001b[39m[\u001b[32mString\u001b[39m] = \u001b[33mVector\u001b[39m(\u001b[32m\"MK\"\u001b[39m, \u001b[32m\"NH\"\u001b[39m)"
      ]
     },
     "execution_count": 46,
     "metadata": {},
     "output_type": "execute_result"
    }
   ],
   "source": [
    "for {\n",
    "    s <- Vector(\"MetroSM MK\", \"ExpressSM NH\")\n",
    "    p <- s.split(\" \").tail\n",
    "} yield p"
   ]
  },
  {
   "cell_type": "code",
   "execution_count": 47,
   "metadata": {},
   "outputs": [
    {
     "data": {
      "text/plain": [
       "\u001b[36mres46\u001b[39m: \u001b[32mOption\u001b[39m[\u001b[32mString\u001b[39m] = \u001b[33mSome\u001b[39m(\u001b[32m\"MICHAEL\"\u001b[39m)"
      ]
     },
     "execution_count": 47,
     "metadata": {},
     "output_type": "execute_result"
    }
   ],
   "source": [
    "name.map(_.toUpperCase)"
   ]
  },
  {
   "cell_type": "code",
   "execution_count": 48,
   "metadata": {},
   "outputs": [
    {
     "data": {
      "text/plain": [
       "\u001b[36mres47\u001b[39m: \u001b[32mOption\u001b[39m[\u001b[32mString\u001b[39m] = \u001b[33mSome\u001b[39m(\u001b[32m\"UK\"\u001b[39m)"
      ]
     },
     "execution_count": 48,
     "metadata": {},
     "output_type": "execute_result"
    }
   ],
   "source": [
    "name.flatMap { \n",
    "    Map(\"Michael\" -> \"UK\").get(_)\n",
    "}"
   ]
  },
  {
   "cell_type": "markdown",
   "metadata": {},
   "source": [
    "# Fold & Reduce\n",
    "\n",
    "* foldLeft `C[O] => N  via f: (N, O) => N`"
   ]
  },
  {
   "cell_type": "code",
   "execution_count": 49,
   "metadata": {},
   "outputs": [
    {
     "data": {
      "text/html": [
       "<div class=\"jp-RenderedText\">\n",
       "<pre><code><span style=\"color: rgb(0, 187, 187)\"><span class=\"ansi-cyan-fg\">prices</span></span>: <span style=\"color: rgb(0, 187, 0)\"><span class=\"ansi-green-fg\">Array</span></span>[<span style=\"color: rgb(0, 187, 0)\"><span class=\"ansi-green-fg\">Int</span></span>] = <span style=\"color: yellow\"><span class=\"ansi-yellow-fg\">Array</span></span>(<span style=\"color: rgb(0, 187, 0)\"><span class=\"ansi-green-fg\">1</span></span>, <span style=\"color: rgb(0, 187, 0)\"><span class=\"ansi-green-fg\">2</span></span>, <span style=\"color: rgb(0, 187, 0)\"><span class=\"ansi-green-fg\">3</span></span>)\n",
       "<span style=\"color: rgb(0, 187, 187)\"><span class=\"ansi-cyan-fg\">total</span></span>: <span style=\"color: rgb(0, 187, 0)\"><span class=\"ansi-green-fg\">Double</span></span> = <span style=\"color: rgb(0, 187, 0)\"><span class=\"ansi-green-fg\">12.0</span></span>\n",
       "<span style=\"color: rgb(0, 187, 187)\"><span class=\"ansi-cyan-fg\">i</span></span>: <span style=\"color: rgb(0, 187, 0)\"><span class=\"ansi-green-fg\">Int</span></span> = <span style=\"color: rgb(0, 187, 0)\"><span class=\"ansi-green-fg\">3</span></span>\n",
       "<span style=\"color: rgb(0, 187, 187)\"><span class=\"ansi-cyan-fg\">res48_4</span></span>: <span style=\"color: rgb(0, 187, 0)\"><span class=\"ansi-green-fg\">Double</span></span> = <span style=\"color: rgb(0, 187, 0)\"><span class=\"ansi-green-fg\">12.0</span></span></code></pre>\n",
       "</div>"
      ],
      "text/plain": [
       "\u001b[36mprices\u001b[39m: \u001b[32mArray\u001b[39m[\u001b[32mInt\u001b[39m] = \u001b[33mArray\u001b[39m(\u001b[32m1\u001b[39m, \u001b[32m2\u001b[39m, \u001b[32m3\u001b[39m)\n",
       "\u001b[36mtotal\u001b[39m: \u001b[32mDouble\u001b[39m = \u001b[32m12.0\u001b[39m\n",
       "\u001b[36mi\u001b[39m: \u001b[32mInt\u001b[39m = \u001b[32m3\u001b[39m\n",
       "\u001b[36mres48_4\u001b[39m: \u001b[32mDouble\u001b[39m = \u001b[32m12.0\u001b[39m"
      ]
     },
     "metadata": {},
     "output_type": "display_data"
    }
   ],
   "source": [
    "val prices = Array(1, 2, 3)   : Array[Int]\n",
    "\n",
    "var total = 0.0 : Double\n",
    "\n",
    "var i = 0\n",
    "while(i < prices.length ) {\n",
    "    total = (total : Double) + (prices(i) * 2 : Int)\n",
    "    i += 1\n",
    "}\n",
    "\n",
    "total : Double"
   ]
  },
  {
   "cell_type": "code",
   "execution_count": 50,
   "metadata": {},
   "outputs": [
    {
     "data": {
      "text/plain": [
       "\u001b[36mres49\u001b[39m: \u001b[32mDouble\u001b[39m = \u001b[32m12.0\u001b[39m"
      ]
     },
     "execution_count": 50,
     "metadata": {},
     "output_type": "execute_result"
    }
   ],
   "source": [
    "prices.foldLeft(0.0) { \n",
    "    (total: Double, price: Int) => total + price * 2 \n",
    "}"
   ]
  },
  {
   "cell_type": "code",
   "execution_count": 51,
   "metadata": {},
   "outputs": [
    {
     "data": {
      "text/plain": [
       "\u001b[36mres50\u001b[39m: \u001b[32mDouble\u001b[39m = \u001b[32m12.0\u001b[39m"
      ]
     },
     "execution_count": 51,
     "metadata": {},
     "output_type": "execute_result"
    }
   ],
   "source": [
    "prices.foldLeft(0.0) { _ + _ * 2}"
   ]
  },
  {
   "cell_type": "code",
   "execution_count": 52,
   "metadata": {},
   "outputs": [
    {
     "data": {
      "text/plain": [
       "defined \u001b[32mclass\u001b[39m \u001b[36mItem\u001b[39m"
      ]
     },
     "execution_count": 52,
     "metadata": {},
     "output_type": "execute_result"
    }
   ],
   "source": [
    "case class Item(val name: String, val price: Double)"
   ]
  },
  {
   "cell_type": "code",
   "execution_count": 53,
   "metadata": {},
   "outputs": [
    {
     "data": {
      "text/plain": [
       "\u001b[36mcart\u001b[39m: \u001b[32mVector\u001b[39m[\u001b[32mItem\u001b[39m] = \u001b[33mVector\u001b[39m(\n",
       "  \u001b[33mItem\u001b[39m(\u001b[32m\"Cherries\"\u001b[39m, \u001b[32m3.5\u001b[39m),\n",
       "  \u001b[33mItem\u001b[39m(\u001b[32m\"Ice\"\u001b[39m, \u001b[32m2.35\u001b[39m),\n",
       "  \u001b[33mItem\u001b[39m(\u001b[32m\"Rose\"\u001b[39m, \u001b[32m8.5\u001b[39m)\n",
       ")"
      ]
     },
     "execution_count": 53,
     "metadata": {},
     "output_type": "execute_result"
    }
   ],
   "source": [
    "val cart = Vector(\n",
    "    Item(\"Cherries\", 3.50), \n",
    "    Item(\"Ice\", 2.35),\n",
    "    Item(\"Rose\", 8.50), \n",
    ")"
   ]
  },
  {
   "cell_type": "code",
   "execution_count": 54,
   "metadata": {},
   "outputs": [
    {
     "data": {
      "text/plain": [
       "\u001b[36mres53\u001b[39m: \u001b[32mDouble\u001b[39m = \u001b[32m14.35\u001b[39m"
      ]
     },
     "execution_count": 54,
     "metadata": {},
     "output_type": "execute_result"
    }
   ],
   "source": [
    "//   SELECT                 GROUPBY-SUM()\n",
    "//   PROJECTION             AGGREGATION\n",
    "cart.map(_.price).foldLeft(0.0) { _ + _}"
   ]
  },
  {
   "cell_type": "code",
   "execution_count": 55,
   "metadata": {},
   "outputs": [
    {
     "name": "stdout",
     "output_type": "stream",
     "text": [
      "14.35\n"
     ]
    }
   ],
   "source": [
    "println(\n",
    "    cart.foldLeft(0.0) { _ + _.price }\n",
    ")"
   ]
  },
  {
   "cell_type": "code",
   "execution_count": 56,
   "metadata": {},
   "outputs": [
    {
     "data": {
      "text/plain": [
       "\u001b[36mres55\u001b[39m: \u001b[32mInt\u001b[39m = \u001b[32m6\u001b[39m"
      ]
     },
     "execution_count": 56,
     "metadata": {},
     "output_type": "execute_result"
    }
   ],
   "source": [
    "prices.reduce { _ + _ }"
   ]
  },
  {
   "cell_type": "code",
   "execution_count": 57,
   "metadata": {},
   "outputs": [
    {
     "data": {
      "text/plain": [
       "\u001b[36mres56\u001b[39m: \u001b[32mBoolean\u001b[39m = false"
      ]
     },
     "execution_count": 57,
     "metadata": {},
     "output_type": "execute_result"
    }
   ],
   "source": [
    "prices.foldLeft(true) { _ && _ < 2 }"
   ]
  },
  {
   "cell_type": "code",
   "execution_count": 57,
   "metadata": {},
   "outputs": [],
   "source": [
    "// prices.reduce { _ && _ < 2}"
   ]
  },
  {
   "cell_type": "markdown",
   "metadata": {},
   "source": [
    "$\\forall$, $\\exists$"
   ]
  },
  {
   "cell_type": "code",
   "execution_count": 58,
   "metadata": {},
   "outputs": [
    {
     "data": {
      "text/plain": [
       "\u001b[36mres57\u001b[39m: \u001b[32mBoolean\u001b[39m = false"
      ]
     },
     "execution_count": 58,
     "metadata": {},
     "output_type": "execute_result"
    }
   ],
   "source": [
    "prices.forall( _ < 2) // aer *all* the prices < 2"
   ]
  },
  {
   "cell_type": "code",
   "execution_count": 59,
   "metadata": {},
   "outputs": [
    {
     "data": {
      "text/plain": [
       "\u001b[36mres58\u001b[39m: \u001b[32mBoolean\u001b[39m = true"
      ]
     },
     "execution_count": 59,
     "metadata": {},
     "output_type": "execute_result"
    }
   ],
   "source": [
    "prices.foldLeft(false) { _ || _ < 2 }"
   ]
  },
  {
   "cell_type": "code",
   "execution_count": 60,
   "metadata": {},
   "outputs": [
    {
     "data": {
      "text/plain": [
       "\u001b[36mres59\u001b[39m: \u001b[32mBoolean\u001b[39m = true"
      ]
     },
     "execution_count": 60,
     "metadata": {},
     "output_type": "execute_result"
    }
   ],
   "source": [
    "prices.exists( _ < 2) // is *any* value < 2; does a value < 2 exist?"
   ]
  },
  {
   "cell_type": "markdown",
   "metadata": {},
   "source": [
    "# Filter"
   ]
  },
  {
   "cell_type": "code",
   "execution_count": 61,
   "metadata": {},
   "outputs": [
    {
     "data": {
      "text/plain": [
       "\u001b[36mlocations\u001b[39m: \u001b[32mVector\u001b[39m[\u001b[32mString\u001b[39m] = \u001b[33mVector\u001b[39m(\u001b[32m\"UK\"\u001b[39m, \u001b[32m\"FR\"\u001b[39m, \u001b[32m\"DE\"\u001b[39m, \u001b[32m\"US\"\u001b[39m)"
      ]
     },
     "execution_count": 61,
     "metadata": {},
     "output_type": "execute_result"
    }
   ],
   "source": [
    "val locations = Vector(\"UK\", \"FR\", \"DE\", \"US\")"
   ]
  },
  {
   "cell_type": "code",
   "execution_count": 62,
   "metadata": {},
   "outputs": [
    {
     "data": {
      "text/plain": [
       "\u001b[36mres61\u001b[39m: \u001b[32mVector\u001b[39m[\u001b[32mString\u001b[39m] = \u001b[33mVector\u001b[39m(\u001b[32m\"UK\"\u001b[39m, \u001b[32m\"US\"\u001b[39m)"
      ]
     },
     "execution_count": 62,
     "metadata": {},
     "output_type": "execute_result"
    }
   ],
   "source": [
    "locations.filter( _(0) == 'U' )"
   ]
  },
  {
   "cell_type": "code",
   "execution_count": 63,
   "metadata": {},
   "outputs": [
    {
     "data": {
      "text/plain": [
       "\u001b[36mres62\u001b[39m: \u001b[32mVector\u001b[39m[\u001b[32mString\u001b[39m] = \u001b[33mVector\u001b[39m(\u001b[32m\"UK\"\u001b[39m, \u001b[32m\"US\"\u001b[39m)"
      ]
     },
     "execution_count": 63,
     "metadata": {},
     "output_type": "execute_result"
    }
   ],
   "source": [
    "locations.filter( _.head == 'U' )"
   ]
  },
  {
   "cell_type": "code",
   "execution_count": 64,
   "metadata": {},
   "outputs": [
    {
     "data": {
      "text/plain": [
       "\u001b[36mres63\u001b[39m: \u001b[32mVector\u001b[39m[\u001b[32mString\u001b[39m] = \u001b[33mVector\u001b[39m(\u001b[32m\"FR\"\u001b[39m, \u001b[32m\"DE\"\u001b[39m)"
      ]
     },
     "execution_count": 64,
     "metadata": {},
     "output_type": "execute_result"
    }
   ],
   "source": [
    "locations.filter( _.head != 'U' )"
   ]
  },
  {
   "cell_type": "code",
   "execution_count": 65,
   "metadata": {},
   "outputs": [
    {
     "data": {
      "text/plain": [
       "\u001b[36mres64\u001b[39m: \u001b[32mArray\u001b[39m[\u001b[32mInt\u001b[39m] = \u001b[33mArray\u001b[39m(\u001b[32m1\u001b[39m)"
      ]
     },
     "execution_count": 65,
     "metadata": {},
     "output_type": "execute_result"
    }
   ],
   "source": [
    "prices.filter( _ < 2)"
   ]
  },
  {
   "cell_type": "markdown",
   "metadata": {},
   "source": [
    "# Combing Combinators"
   ]
  },
  {
   "cell_type": "code",
   "execution_count": 66,
   "metadata": {},
   "outputs": [
    {
     "data": {
      "text/plain": [
       "\u001b[36mres65\u001b[39m: \u001b[32mVector\u001b[39m[\u001b[32mItem\u001b[39m] = \u001b[33mVector\u001b[39m(\n",
       "  \u001b[33mItem\u001b[39m(\u001b[32m\"Cherries\"\u001b[39m, \u001b[32m3.5\u001b[39m),\n",
       "  \u001b[33mItem\u001b[39m(\u001b[32m\"Ice\"\u001b[39m, \u001b[32m2.35\u001b[39m),\n",
       "  \u001b[33mItem\u001b[39m(\u001b[32m\"Rose\"\u001b[39m, \u001b[32m8.5\u001b[39m)\n",
       ")"
      ]
     },
     "execution_count": 66,
     "metadata": {},
     "output_type": "execute_result"
    }
   ],
   "source": [
    "cart"
   ]
  },
  {
   "cell_type": "code",
   "execution_count": 67,
   "metadata": {},
   "outputs": [
    {
     "data": {
      "text/plain": [
       "\u001b[36mres66\u001b[39m: \u001b[32mDouble\u001b[39m = \u001b[32m12.0\u001b[39m"
      ]
     },
     "execution_count": 67,
     "metadata": {},
     "output_type": "execute_result"
    }
   ],
   "source": [
    "// SELECT            WHERE            SUM\n",
    "cart map { _.price } filter { _ > 3} reduce { _ + _ }"
   ]
  },
  {
   "cell_type": "code",
   "execution_count": 68,
   "metadata": {},
   "outputs": [
    {
     "data": {
      "text/plain": [
       "\u001b[36mres67\u001b[39m: \u001b[32mDouble\u001b[39m = \u001b[32m12.0\u001b[39m"
      ]
     },
     "execution_count": 68,
     "metadata": {},
     "output_type": "execute_result"
    }
   ],
   "source": [
    "(for {\n",
    "    item <- cart\n",
    "    if item.price > 3\n",
    "} yield item.price).sum"
   ]
  },
  {
   "cell_type": "code",
   "execution_count": 69,
   "metadata": {},
   "outputs": [
    {
     "data": {
      "text/plain": [
       "defined \u001b[32mtrait\u001b[39m \u001b[36mItem\u001b[39m\n",
       "defined \u001b[32mclass\u001b[39m \u001b[36mToy\u001b[39m\n",
       "defined \u001b[32mclass\u001b[39m \u001b[36mFood\u001b[39m\n",
       "defined \u001b[32mclass\u001b[39m \u001b[36mCamera\u001b[39m\n",
       "\u001b[36mitems\u001b[39m: \u001b[32mVector\u001b[39m[\u001b[32mProduct\u001b[39m with \u001b[32mSerializable\u001b[39m with \u001b[32mItem\u001b[39m] = \u001b[33mVector\u001b[39m(\n",
       "  \u001b[33mToy\u001b[39m(\u001b[32m\"bauble\"\u001b[39m),\n",
       "  \u001b[33mToy\u001b[39m(\u001b[32m\"spinning top\"\u001b[39m),\n",
       "  \u001b[33mCamera\u001b[39m(\u001b[32m\"Sony A7S\"\u001b[39m),\n",
       "  \u001b[33mFood\u001b[39m(\u001b[32m\"Diet Dr Pepper\"\u001b[39m),\n",
       "  \u001b[33mFood\u001b[39m(\u001b[32m\"Pig\"\u001b[39m)\n",
       ")\n",
       "\u001b[36mres68_5\u001b[39m: \u001b[32mVector\u001b[39m[\u001b[32mDouble\u001b[39m] = \u001b[33mVector\u001b[39m(\u001b[32m10.0\u001b[39m, \u001b[32m10.0\u001b[39m, \u001b[32m100.0\u001b[39m, \u001b[32m20.0\u001b[39m, \u001b[32m20.0\u001b[39m)\n",
       "\u001b[36mres68_6\u001b[39m: \u001b[32mVector\u001b[39m[\u001b[32mString\u001b[39m] = \u001b[33mVector\u001b[39m(\n",
       "  \u001b[32m\"bauble\"\u001b[39m,\n",
       "  \u001b[32m\"spinning top\"\u001b[39m,\n",
       "  \u001b[32m\"Sony A7S\"\u001b[39m,\n",
       "  \u001b[32m\"Diet Dr Pepper\"\u001b[39m,\n",
       "  \u001b[32m\"Pig\"\u001b[39m\n",
       ")\n",
       "\u001b[36mres68_7\u001b[39m: \u001b[32mDouble\u001b[39m = \u001b[32m140.0\u001b[39m\n",
       "\u001b[36mres68_8\u001b[39m: \u001b[32mBoolean\u001b[39m = true"
      ]
     },
     "execution_count": 69,
     "metadata": {},
     "output_type": "execute_result"
    }
   ],
   "source": [
    "trait Item {\n",
    "    val name: String\n",
    "    def price(): Double\n",
    "}\n",
    "\n",
    "case class Toy(val name: String) extends Item {\n",
    "    def price() = 10\n",
    "}\n",
    "\n",
    "case class Food(val name: String) extends Item {\n",
    "    def price() = 20\n",
    "}\n",
    "\n",
    "case class Camera(val name: String) extends Item {\n",
    "    def price() = 100\n",
    "}\n",
    "\n",
    "val items = Vector(\n",
    "        Toy(\"bauble\"), \n",
    "        Toy(\"spinning top\"), \n",
    "        Camera(\"Sony A7S\"), \n",
    "        Food(\"Diet Dr Pepper\"), \n",
    "        Food(\"Pig\")\n",
    ")\n",
    "\n",
    "items.map { _.price }\n",
    "items.filter { _.price > 5 } map { _.name }\n",
    "items.filter { _.name.length > 5 } map { _.price } reduce { _ + _ }\n",
    "items.exists { _.price > 5}\n",
    "\n",
    "/** queries\n",
    "    * select all prices\n",
    "    * select all names where price > 5\n",
    "    * select total price where name longer than 5 chars\n",
    "    * are there any expensive items? (> 5)\n",
    "        */"
   ]
  },
  {
   "cell_type": "markdown",
   "metadata": {},
   "source": [
    "# Exericse\n",
    "\n",
    "### Part 1\n",
    "* case classes to describe:\n",
    "    * Toy\n",
    "    * Food\n",
    "    * Camera\n",
    "* all should be Items\n",
    "    * ie., trait Item\n",
    "    * with def price(): Double\n",
    "    * with val name: String\n",
    "    \n",
    "* a vector of a few of Toy/Food/Camera \n",
    "\n",
    "### Part 2\n",
    "* queries\n",
    "    * select all prices\n",
    "    * select all names where price > 5\n",
    "    * select total price where name longer than 5 chars\n",
    "    * are there any expensive items? (> 5)\n",
    "        \n",
    "        \n",
    "        \n",
    "### EXTRA\n",
    "    * define a function called def convert(i: Item): Vector[Item]\n",
    "    * returns items:\n",
    "        * with a US name, and US price\n",
    "        * US name = uppercase and !\n",
    "        \n",
    "        * with EU name and price\n",
    "        * HINT: i match { case Toy() => Vector(Toy(), Toy()), ...}\n",
    "    * select converted items \n",
    "        * hint: flatMap convert\n",
    "        \n",
    "    "
   ]
  },
  {
   "cell_type": "code",
   "execution_count": null,
   "metadata": {},
   "outputs": [],
   "source": []
  }
 ],
 "metadata": {
  "kernelspec": {
   "display_name": "Scala 2.12",
   "language": "scala",
   "name": "scala212"
  },
  "language_info": {
   "codemirror_mode": "text/x-scala",
   "file_extension": ".scala",
   "mimetype": "text/x-scala",
   "name": "scala",
   "nbconvert_exporter": "script",
   "version": "2.12.8"
  }
 },
 "nbformat": 4,
 "nbformat_minor": 2
}
