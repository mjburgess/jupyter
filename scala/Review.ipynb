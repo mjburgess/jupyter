{
 "cells": [
  {
   "cell_type": "markdown",
   "metadata": {},
   "source": [
    "# Scala: Part 2"
   ]
  },
  {
   "cell_type": "markdown",
   "metadata": {},
   "source": [
    "Michael Burgess"
   ]
  },
  {
   "cell_type": "markdown",
   "metadata": {},
   "source": [
    "### Outline\n",
    "* 9.30am to 4/4.30pm\n",
    "* c. 11am, c. 1pm, c. 2.30pm\n",
    "* Friday 9.30am to 3pm\n",
    "\n",
    "#### Wednesday\n",
    "* Review\n",
    "* Object-Orientation\n",
    "* Traits\n",
    "* Implicits\n",
    "    * Typeclasses\n",
    "\n",
    "#### Thursday\n",
    "* Pure Functional Programming Review\n",
    "* Combinators\n",
    "* Spark\n",
    "* Project Review\n",
    "\n",
    "#### Friday\n",
    "* Applications\n",
    "* Collections"
   ]
  },
  {
   "cell_type": "markdown",
   "metadata": {},
   "source": [
    "# Review"
   ]
  },
  {
   "cell_type": "markdown",
   "metadata": {},
   "source": [
    "* Day 1\n",
    "    * procedural\n",
    "    * object-oriented\n",
    "    * functional\n",
    "    \n",
    "    * imperative vs declarative\n",
    "    * java vs. sql\n",
    "    * `;;;;;;`   vs. `I WANT THIS`\n",
    "    \n",
    "    * test-driven development\n",
    "        * tests firsts\n",
    "        * develop until tests pass\n",
    "        \n",
    "* Day 2/3\n",
    "    * Fundamentals\n",
    "        * Types\n",
    "        * val/var\n",
    "        * Objects\n",
    "    * Methods\n",
    "        * def\n",
    "    * Transformation\n",
    "        * if-else\n",
    "        * for-comprehension\n",
    "        * match-case\n",
    "    * Functional Programming\n",
    "        * function-literal syntax\n",
    "        * pure functional programming (old -> new)\n",
    "            * no side effects\n",
    "            * i/o, device access, etc. absent\n",
    "            * pure calculation\n",
    "    * Intro to Spark\n",
    "        * distributed computation\n",
    "        * dataframes\n",
    "            * tabular data structure\n",
    "            * distributed across n-machines\n",
    "        * spark sql\n",
    "            * sql-like quering syntax for data frames\n",
    "            \n",
    "    * Intro to Combinators\n",
    "        * Thinkings in terms of types\n",
    "            * map : (C[O] -> C[N]) via f : O -> N"
   ]
  },
  {
   "cell_type": "code",
   "execution_count": 2,
   "metadata": {},
   "outputs": [
    {
     "data": {
      "text/plain": [
       "\u001b[36mres1\u001b[39m: \u001b[32mInt\u001b[39m = \u001b[32m10\u001b[39m"
      ]
     },
     "execution_count": 2,
     "metadata": {},
     "output_type": "execute_result"
    }
   ],
   "source": [
    "((i: Int) => i + 1)(9)"
   ]
  },
  {
   "cell_type": "markdown",
   "metadata": {},
   "source": [
    "## Problem Domain"
   ]
  },
  {
   "cell_type": "markdown",
   "metadata": {},
   "source": [
    "* Supermarket\n",
    " \n",
    "* Role:\n",
    "    * Contractor for Single-Project\n",
    "    * Scala Data Engineer\n",
    "\n",
    "* Problem:\n",
    "    * bkg. At supermarkets MK-1, MK-2 there is \"a lot\" of product wastage\n",
    "    * Minimize product wastage\n",
    "    \n",
    "* Relevant:\n",
    "    * What does 'wasted' means?\n",
    "        * past sell-by date\n",
    "        * any damaged goods\n",
    "        * any goods with sign. markdown (c. >50%)\n",
    "        \n",
    "    * What products are being wasted?\n",
    "    * How much money is being lost?\n",
    "    * What volumes are being ordered?\n",
    "    * How does demand change?\n",
    "    * When are things most/least wasted?\n",
    "        * daily (am/pm)\n",
    "        * weekly (mid/end)\n",
    "        * monthly (early/late)\n",
    "        * annual (summer/winter)\n",
    "        \n",
    "* Do:\n",
    "    * Model the domain (problem)\n",
    "    * Report on domain\n",
    "    * Process data\n",
    "    * Report on data"
   ]
  },
  {
   "cell_type": "markdown",
   "metadata": {},
   "source": [
    "* apples\n",
    "* ham\n",
    "* bread\n",
    "* milk"
   ]
  }
 ],
 "metadata": {
  "kernelspec": {
   "display_name": "Scala 2.12",
   "language": "scala",
   "name": "scala212"
  },
  "language_info": {
   "codemirror_mode": "text/x-scala",
   "file_extension": ".scala",
   "mimetype": "text/x-scala",
   "name": "scala",
   "nbconvert_exporter": "script",
   "version": "2.12.8"
  }
 },
 "nbformat": 4,
 "nbformat_minor": 2
}
