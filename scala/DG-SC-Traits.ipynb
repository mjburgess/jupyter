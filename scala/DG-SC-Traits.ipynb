{
 "cells": [
  {
   "cell_type": "markdown",
   "metadata": {},
   "source": [
    "# Traits"
   ]
  },
  {
   "cell_type": "markdown",
   "metadata": {},
   "source": [
    "* traital types are OR types\n",
    "\n",
    "``` : Discountable = Toy | Food```"
   ]
  },
  {
   "cell_type": "markdown",
   "metadata": {},
   "source": [
    "* single inheritance of classes\n",
    "* multiple inheritnace of traits"
   ]
  },
  {
   "cell_type": "code",
   "execution_count": 37,
   "metadata": {},
   "outputs": [
    {
     "data": {
      "text/plain": [
       "defined \u001b[32mtrait\u001b[39m \u001b[36mDiscountable\u001b[39m\n",
       "defined \u001b[32mtrait\u001b[39m \u001b[36mLocatable\u001b[39m\n",
       "defined \u001b[32mtrait\u001b[39m \u001b[36mPerishable\u001b[39m"
      ]
     },
     "execution_count": 37,
     "metadata": {},
     "output_type": "execute_result"
    }
   ],
   "source": [
    "// layers / features\n",
    "trait Discountable {\n",
    "    val defaultDiscount = 10\n",
    "    def discount() = println(s\"MARKING DOWN by $defaultDiscount %\")\n",
    "}\n",
    "\n",
    "trait Locatable {\n",
    "    def locate() = println(\"i'm here\")\n",
    "}\n",
    "\n",
    "trait Perishable {\n",
    "    def perish() = println(\"fading fast!\")\n",
    "}\n",
    "//          extends CLASS|TRAIT  with TRAIT \n"
   ]
  },
  {
   "cell_type": "code",
   "execution_count": 29,
   "metadata": {},
   "outputs": [
    {
     "data": {
      "text/plain": [
       "defined \u001b[32mclass\u001b[39m \u001b[36mFood\u001b[39m\n",
       "defined \u001b[32mclass\u001b[39m \u001b[36mToy\u001b[39m"
      ]
     },
     "execution_count": 29,
     "metadata": {},
     "output_type": "execute_result"
    }
   ],
   "source": [
    "class Food extends Discountable with Perishable\n",
    "\n",
    "class Toy extends Discountable with Locatable {\n",
    "    def fun() = println(\"...\")\n",
    "}"
   ]
  },
  {
   "cell_type": "code",
   "execution_count": 33,
   "metadata": {},
   "outputs": [
    {
     "data": {
      "text/plain": [
       "\u001b[36mt\u001b[39m: \u001b[32mToy\u001b[39m = ammonite.$sess.cmd28$Helper$Toy@594c92ca"
      ]
     },
     "execution_count": 33,
     "metadata": {},
     "output_type": "execute_result"
    }
   ],
   "source": [
    "val t = new Toy "
   ]
  },
  {
   "cell_type": "code",
   "execution_count": 34,
   "metadata": {},
   "outputs": [
    {
     "name": "stdout",
     "output_type": "stream",
     "text": [
      "...\n"
     ]
    }
   ],
   "source": [
    "t.fun"
   ]
  },
  {
   "cell_type": "code",
   "execution_count": 25,
   "metadata": {},
   "outputs": [
    {
     "data": {
      "text/plain": [
       "\u001b[36md\u001b[39m: \u001b[32mDiscountable\u001b[39m = ammonite.$sess.cmd20$Helper$Toy@5585a4d7"
      ]
     },
     "execution_count": 25,
     "metadata": {},
     "output_type": "execute_result"
    }
   ],
   "source": [
    "val d: Discountable = new Toy // | new Food | ..."
   ]
  },
  {
   "cell_type": "code",
   "execution_count": 28,
   "metadata": {},
   "outputs": [
    {
     "name": "stdout",
     "output_type": "stream",
     "text": [
      "MARKING DOWN by 10 %\n"
     ]
    }
   ],
   "source": [
    "d.discount()"
   ]
  },
  {
   "cell_type": "code",
   "execution_count": 22,
   "metadata": {},
   "outputs": [
    {
     "data": {
      "text/plain": [
       "\u001b[36msales\u001b[39m: \u001b[32mList\u001b[39m[\u001b[32mDiscountable\u001b[39m] = \u001b[33mList\u001b[39m(\n",
       "  ammonite.$sess.cmd20$Helper$Food@399ec661,\n",
       "  ammonite.$sess.cmd20$Helper$Toy@47e69cd0\n",
       ")"
      ]
     },
     "execution_count": 22,
     "metadata": {},
     "output_type": "execute_result"
    }
   ],
   "source": [
    "val sales: List[Discountable] = List(new Food, new Toy)"
   ]
  },
  {
   "cell_type": "code",
   "execution_count": 35,
   "metadata": {},
   "outputs": [
    {
     "name": "stdout",
     "output_type": "stream",
     "text": [
      "MARKING DOWN by 10 %\n",
      "MARKING DOWN by 10 %\n"
     ]
    },
    {
     "data": {
      "text/plain": [
       "defined \u001b[32mfunction\u001b[39m \u001b[36mpurchase\u001b[39m"
      ]
     },
     "execution_count": 35,
     "metadata": {},
     "output_type": "execute_result"
    }
   ],
   "source": [
    "def purchase(d: Discountable) = d.discount()\n",
    "\n",
    "purchase(new Toy)\n",
    "purchase(new Food)"
   ]
  },
  {
   "cell_type": "code",
   "execution_count": 20,
   "metadata": {},
   "outputs": [
    {
     "data": {
      "text/plain": [
       "defined \u001b[32mclass\u001b[39m \u001b[36mItem\u001b[39m"
      ]
     },
     "execution_count": 20,
     "metadata": {},
     "output_type": "execute_result"
    }
   ],
   "source": [
    "class Item extends Locatable with Discountable with Perishable"
   ]
  },
  {
   "cell_type": "code",
   "execution_count": 17,
   "metadata": {},
   "outputs": [
    {
     "data": {
      "text/plain": [
       "\u001b[36mmine\u001b[39m: \u001b[32mItem\u001b[39m = ammonite.$sess.cmd15$Helper$Item@783c2f88"
      ]
     },
     "execution_count": 17,
     "metadata": {},
     "output_type": "execute_result"
    }
   ],
   "source": [
    "val mine = new Item"
   ]
  },
  {
   "cell_type": "code",
   "execution_count": 18,
   "metadata": {},
   "outputs": [
    {
     "name": "stdout",
     "output_type": "stream",
     "text": [
      "MARKING DOWN by 10\n"
     ]
    }
   ],
   "source": [
    "mine.discount()"
   ]
  },
  {
   "cell_type": "code",
   "execution_count": 14,
   "metadata": {},
   "outputs": [
    {
     "name": "stdout",
     "output_type": "stream",
     "text": [
      "i'm here\n"
     ]
    }
   ],
   "source": [
    "mine.locate()"
   ]
  },
  {
   "cell_type": "code",
   "execution_count": 15,
   "metadata": {},
   "outputs": [
    {
     "name": "stdout",
     "output_type": "stream",
     "text": [
      "fading fast!\n"
     ]
    }
   ],
   "source": [
    "mine.perish()"
   ]
  },
  {
   "cell_type": "markdown",
   "metadata": {},
   "source": [
    "### Compare with Abstracts..."
   ]
  },
  {
   "cell_type": "code",
   "execution_count": 2,
   "metadata": {},
   "outputs": [
    {
     "data": {
      "text/plain": [
       "defined \u001b[32mclass\u001b[39m \u001b[36mPayment\u001b[39m\n",
       "defined \u001b[32mclass\u001b[39m \u001b[36mCardPayment\u001b[39m\n",
       "defined \u001b[32mclass\u001b[39m \u001b[36mCashPayment\u001b[39m"
      ]
     },
     "execution_count": 2,
     "metadata": {},
     "output_type": "execute_result"
    }
   ],
   "source": [
    "abstract class Payment(val amount: Double)\n",
    "\n",
    "class CardPayment(a: Double) extends Payment(a)\n",
    "class CashPayment(a: Double) extends Payment(a)"
   ]
  },
  {
   "cell_type": "code",
   "execution_count": 3,
   "metadata": {},
   "outputs": [
    {
     "data": {
      "text/plain": [
       "\u001b[36mres2\u001b[39m: \u001b[32mList\u001b[39m[\u001b[32mPayment\u001b[39m] = \u001b[33mList\u001b[39m(\n",
       "  ammonite.$sess.cmd1$Helper$CardPayment@2720075,\n",
       "  ammonite.$sess.cmd1$Helper$CashPayment@26d9f359\n",
       ")"
      ]
     },
     "execution_count": 3,
     "metadata": {},
     "output_type": "execute_result"
    }
   ],
   "source": [
    "List(new CardPayment(10), new CashPayment(5))"
   ]
  },
  {
   "cell_type": "markdown",
   "metadata": {},
   "source": [
    "## Review: Polymorphism\n",
    "* context selection\n",
    "* code-general - machine-specific\n",
    "* unparticular\n",
    "* polymorphic terms : multiply interpretable terms"
   ]
  },
  {
   "cell_type": "markdown",
   "metadata": {},
   "source": [
    "* polymorphic -- when the implement is selected without you caring/seeing/etc."
   ]
  },
  {
   "cell_type": "code",
   "execution_count": 1,
   "metadata": {},
   "outputs": [
    {
     "data": {
      "text/plain": [
       "\u001b[36mres0\u001b[39m: \u001b[32mList\u001b[39m[\u001b[32mInt\u001b[39m] = \u001b[33mList\u001b[39m(\u001b[32m1\u001b[39m)"
      ]
     },
     "execution_count": 1,
     "metadata": {},
     "output_type": "execute_result"
    }
   ],
   "source": [
    "List(1)"
   ]
  },
  {
   "cell_type": "code",
   "execution_count": 2,
   "metadata": {},
   "outputs": [
    {
     "data": {
      "text/plain": [
       "\u001b[36mres1\u001b[39m: \u001b[32mList\u001b[39m[\u001b[32mString\u001b[39m] = \u001b[33mList\u001b[39m(\u001b[32m\"1\"\u001b[39m)"
      ]
     },
     "execution_count": 2,
     "metadata": {},
     "output_type": "execute_result"
    }
   ],
   "source": [
    "List(\"1\")"
   ]
  },
  {
   "cell_type": "markdown",
   "metadata": {},
   "source": [
    "* \"Not really polymorphic\" -- in the sense that you can see each implementation"
   ]
  },
  {
   "cell_type": "code",
   "execution_count": 3,
   "metadata": {},
   "outputs": [
    {
     "data": {
      "text/plain": [
       "\u001b[36mres2\u001b[39m: \u001b[32mList\u001b[39m[\u001b[32mInt\u001b[39m] = \u001b[33mList\u001b[39m()"
      ]
     },
     "execution_count": 3,
     "metadata": {},
     "output_type": "execute_result"
    }
   ],
   "source": [
    "List[Int]()"
   ]
  },
  {
   "cell_type": "code",
   "execution_count": 4,
   "metadata": {},
   "outputs": [
    {
     "data": {
      "text/plain": [
       "\u001b[36mres3\u001b[39m: \u001b[32mList\u001b[39m[\u001b[32mString\u001b[39m] = \u001b[33mList\u001b[39m()"
      ]
     },
     "execution_count": 4,
     "metadata": {},
     "output_type": "execute_result"
    }
   ],
   "source": [
    "List[String]()"
   ]
  },
  {
   "cell_type": "markdown",
   "metadata": {},
   "source": [
    "## Review: Traits"
   ]
  },
  {
   "cell_type": "code",
   "execution_count": 5,
   "metadata": {},
   "outputs": [
    {
     "data": {
      "text/plain": [
       "defined \u001b[32mtrait\u001b[39m \u001b[36mSpeakable\u001b[39m\n",
       "defined \u001b[32mtrait\u001b[39m \u001b[36mWalkable\u001b[39m\n",
       "defined \u001b[32mtrait\u001b[39m \u001b[36mEatable\u001b[39m\n",
       "defined \u001b[32mclass\u001b[39m \u001b[36mPerson\u001b[39m\n",
       "defined \u001b[32mclass\u001b[39m \u001b[36mDog\u001b[39m\n",
       "defined \u001b[32mclass\u001b[39m \u001b[36mHifi\u001b[39m"
      ]
     },
     "execution_count": 5,
     "metadata": {},
     "output_type": "execute_result"
    }
   ],
   "source": [
    "trait Speakable {\n",
    "    def speak() = println(\"hi\")\n",
    "}\n",
    "\n",
    "trait Walkable {\n",
    "    def walk() = println(\"...\")\n",
    "}\n",
    "\n",
    "trait Eatable {\n",
    "    def eat() = println(\"yumm\")\n",
    "}\n",
    "\n",
    "class Person extends Speakable with Walkable with Eatable\n",
    "class Dog extends Walkable with Eatable\n",
    "class Hifi extends Speakable\n"
   ]
  },
  {
   "cell_type": "code",
   "execution_count": 11,
   "metadata": {},
   "outputs": [
    {
     "data": {
      "text/plain": [
       "defined \u001b[32mclass\u001b[39m \u001b[36mAnimal\u001b[39m\n",
       "defined \u001b[32mclass\u001b[39m \u001b[36mMammal\u001b[39m\n",
       "defined \u001b[32mclass\u001b[39m \u001b[36mBird\u001b[39m\n",
       "\u001b[36manimals\u001b[39m: \u001b[32mList\u001b[39m[\u001b[32mAnimal\u001b[39m] = \u001b[33mList\u001b[39m(\n",
       "  ammonite.$sess.cmd10$Helper$Mammal@20b754a3,\n",
       "  ammonite.$sess.cmd10$Helper$Bird@48db7c98\n",
       ")"
      ]
     },
     "execution_count": 11,
     "metadata": {},
     "output_type": "execute_result"
    }
   ],
   "source": [
    "class Animal\n",
    "class Mammal extends Animal\n",
    "class Bird extends Animal\n",
    "\n",
    "// : Animal = Animal | Mammal | Bird\n",
    "val animals = List(new Mammal, new Bird)\n"
   ]
  },
  {
   "cell_type": "code",
   "execution_count": 6,
   "metadata": {},
   "outputs": [
    {
     "data": {
      "text/plain": [
       "\u001b[36mspeakers\u001b[39m: \u001b[32mList\u001b[39m[\u001b[32mSpeakable\u001b[39m] = \u001b[33mList\u001b[39m(\n",
       "  ammonite.$sess.cmd4$Helper$Person@31341811,\n",
       "  ammonite.$sess.cmd4$Helper$Hifi@2c37a8af\n",
       ")\n",
       "\u001b[36meaters\u001b[39m: \u001b[32mList\u001b[39m[\u001b[32mWalkable\u001b[39m with \u001b[32mEatable\u001b[39m] = \u001b[33mList\u001b[39m(\n",
       "  ammonite.$sess.cmd4$Helper$Person@269c31b4,\n",
       "  ammonite.$sess.cmd4$Helper$Dog@350a2254\n",
       ")"
      ]
     },
     "execution_count": 6,
     "metadata": {},
     "output_type": "execute_result"
    }
   ],
   "source": [
    "// OR rule,  : Speakable = new Person | new Hifi\n",
    "\n",
    "val speakers = List(new Person, new Hifi)\n",
    "val eaters = List(new Person, new Dog)"
   ]
  },
  {
   "cell_type": "code",
   "execution_count": 8,
   "metadata": {},
   "outputs": [
    {
     "name": "stdout",
     "output_type": "stream",
     "text": [
      "hi\n",
      "hi\n",
      "yumm\n",
      "yumm\n"
     ]
    }
   ],
   "source": [
    "for(s <- speakers) s.speak()\n",
    "\n",
    "for(e <- eaters) e.eat()"
   ]
  },
  {
   "cell_type": "markdown",
   "metadata": {},
   "source": [
    "## Exercise \n",
    "\n",
    "* a Customer (`class`) has:\n",
    "    * purchase(item)\n",
    "    * total()\n",
    "    * speak()\n",
    "    \n",
    "*  Staff has:\n",
    "    * speak()\n",
    "    * purchase(item)\n",
    "\n",
    "* two classes, three traits\n",
    "\n",
    "* list of speakers, list of purchers\n",
    "    * have every person `purchase()` an item\n",
    "    * have every person `speak`\n",
    "\n",
    "* EXTRA:\n",
    "    * staff and customer have a parent class with a ArrayBuffer() of items\n",
    "    * purchase() .append to this ArrayBuffer()"
   ]
  },
  {
   "cell_type": "markdown",
   "metadata": {},
   "source": [
    "# Part 2: Traits as Interfaces"
   ]
  },
  {
   "cell_type": "markdown",
   "metadata": {},
   "source": [
    "* interface = mere definition without implementation\n",
    "* describes the API\n",
    "* API = application programming *interface*\n",
    "* terms without their meanings\n",
    "\n",
    "\n",
    "* \"alebgra\""
   ]
  },
  {
   "cell_type": "code",
   "execution_count": 27,
   "metadata": {},
   "outputs": [
    {
     "data": {
      "text/plain": [
       "defined \u001b[32mfunction\u001b[39m \u001b[36mprocess\u001b[39m\n",
       "\u001b[36mres26_1\u001b[39m: \u001b[32mInt\u001b[39m = \u001b[32m55\u001b[39m\n",
       "\u001b[36mres26_2\u001b[39m: \u001b[32mInt\u001b[39m = \u001b[32m3\u001b[39m\n",
       "\u001b[36mres26_3\u001b[39m: \u001b[32mInt\u001b[39m = \u001b[32m9\u001b[39m"
      ]
     },
     "execution_count": 27,
     "metadata": {},
     "output_type": "execute_result"
    }
   ],
   "source": [
    "/*\n",
    "trait Seq[A] {\n",
    "    def next(): A\n",
    "    def sum(): A\n",
    "}\n",
    "\n",
    "class Array extends Seq[A] {\n",
    "\n",
    "}\n",
    "*/\n",
    "\n",
    "\n",
    "def process(a: Seq[Int]) = a.sum\n",
    "\n",
    "process(1 to 10)\n",
    "process(Array(0, 1, 2))\n",
    "process(Vector(1, 8))"
   ]
  },
  {
   "cell_type": "code",
   "execution_count": 22,
   "metadata": {},
   "outputs": [
    {
     "data": {
      "text/plain": [
       "defined \u001b[32mtrait\u001b[39m \u001b[36mSql\u001b[39m"
      ]
     },
     "execution_count": 22,
     "metadata": {},
     "output_type": "execute_result"
    }
   ],
   "source": [
    "//eg.\n",
    "trait Sql[T] {\n",
    "    def select(db: T): T\n",
    "    def insert(db: T): T\n",
    "}"
   ]
  },
  {
   "cell_type": "code",
   "execution_count": 20,
   "metadata": {},
   "outputs": [
    {
     "data": {
      "text/plain": [
       "defined \u001b[32mtrait\u001b[39m \u001b[36mPlus\u001b[39m"
      ]
     },
     "execution_count": 20,
     "metadata": {},
     "output_type": "execute_result"
    }
   ],
   "source": [
    "// Functional programming this is called \"Monoid\"\n",
    "// a monoid is any type that has general addition, and an empty\n",
    "trait Plus[A] {\n",
    "    val empty: A\n",
    "    def add(l: A, r: A): A\n",
    "}"
   ]
  },
  {
   "cell_type": "markdown",
   "metadata": {},
   "source": [
    "* Monoid = +\n",
    "* Functor = map\n",
    "* Monad = map, flatMap\n",
    "\n",
    "* Side point: for-comprehsions are just \"monad syntax\""
   ]
  },
  {
   "cell_type": "code",
   "execution_count": 15,
   "metadata": {},
   "outputs": [
    {
     "data": {
      "text/plain": [
       "defined \u001b[32mclass\u001b[39m \u001b[36mMyString\u001b[39m\n",
       "defined \u001b[32mclass\u001b[39m \u001b[36mMyBool\u001b[39m\n",
       "\u001b[36ms\u001b[39m: \u001b[32mMyString\u001b[39m = ammonite.$sess.cmd14$Helper$MyString@70172455\n",
       "\u001b[36mb\u001b[39m: \u001b[32mMyBool\u001b[39m = ammonite.$sess.cmd14$Helper$MyBool@7212c7a9"
      ]
     },
     "execution_count": 15,
     "metadata": {},
     "output_type": "execute_result"
    }
   ],
   "source": [
    "class MyString extends Plus[String] {\n",
    "    val empty = \"\"\n",
    "    def add(l: String, r: String) = s\"$l$r\"\n",
    "}\n",
    "\n",
    "class MyBool extends Plus[Boolean] {\n",
    "    val empty = true\n",
    "    def add(l: Boolean, r: Boolean) = l && r\n",
    "}\n",
    "\n",
    "val s = new MyString\n",
    "val b = new MyBool"
   ]
  },
  {
   "cell_type": "code",
   "execution_count": 16,
   "metadata": {},
   "outputs": [
    {
     "data": {
      "text/plain": [
       "\u001b[36mres15\u001b[39m: \u001b[32mString\u001b[39m = \u001b[32m\"Anything\"\u001b[39m"
      ]
     },
     "execution_count": 16,
     "metadata": {},
     "output_type": "execute_result"
    }
   ],
   "source": [
    "s.add(s.empty, \"Anything\")"
   ]
  },
  {
   "cell_type": "code",
   "execution_count": 18,
   "metadata": {},
   "outputs": [
    {
     "data": {
      "text/plain": [
       "\u001b[36mres17\u001b[39m: \u001b[32mBoolean\u001b[39m = false"
      ]
     },
     "execution_count": 18,
     "metadata": {},
     "output_type": "execute_result"
    }
   ],
   "source": [
    "b.add(b.empty, false)"
   ]
  },
  {
   "cell_type": "code",
   "execution_count": 7,
   "metadata": {},
   "outputs": [
    {
     "data": {
      "text/plain": [
       "defined \u001b[32mtrait\u001b[39m \u001b[36mAdder\u001b[39m\n",
       "defined \u001b[32mclass\u001b[39m \u001b[36mItem\u001b[39m"
      ]
     },
     "execution_count": 7,
     "metadata": {},
     "output_type": "execute_result"
    }
   ],
   "source": [
    "trait Adder {\n",
    "    def add(l: String, r: String): Unit /* abstract */\n",
    "}\n",
    "\n",
    "class Item extends Adder {\n",
    "    def add(nameA: String, nameB: String) = \n",
    "        println(s\"purchasng $nameA $nameB\")\n",
    "}"
   ]
  },
  {
   "cell_type": "code",
   "execution_count": 4,
   "metadata": {},
   "outputs": [
    {
     "name": "stdout",
     "output_type": "stream",
     "text": [
      "purchasng pork ham\n"
     ]
    }
   ],
   "source": [
    "(new Item()).add(\"pork\", \"ham\")"
   ]
  },
  {
   "cell_type": "code",
   "execution_count": 5,
   "metadata": {},
   "outputs": [
    {
     "name": "stdout",
     "output_type": "stream",
     "text": [
      "teaching Michael John\n"
     ]
    },
    {
     "data": {
      "text/plain": [
       "defined \u001b[32mclass\u001b[39m \u001b[36mClassroom\u001b[39m"
      ]
     },
     "execution_count": 5,
     "metadata": {},
     "output_type": "execute_result"
    }
   ],
   "source": [
    "class Classroom extends Adder {\n",
    "    def add(personA: String, personB: String) = \n",
    "        println(s\"teaching $personA $personB\")\n",
    "}\n",
    "\n",
    "(new Classroom()).add(\"Michael\", \"John\")"
   ]
  },
  {
   "cell_type": "code",
   "execution_count": 28,
   "metadata": {},
   "outputs": [],
   "source": [
    "// interface Speaker {\n",
    "//    public void speak()  \n",
    "//} "
   ]
  },
  {
   "cell_type": "code",
   "execution_count": 28,
   "metadata": {},
   "outputs": [
    {
     "name": "stdout",
     "output_type": "stream",
     "text": [
      "Hi\n",
      "Hi\n"
     ]
    },
    {
     "data": {
      "text/plain": [
       "defined \u001b[32mtrait\u001b[39m \u001b[36mSpeaker\u001b[39m\n",
       "defined \u001b[32mclass\u001b[39m \u001b[36mPerson\u001b[39m"
      ]
     },
     "execution_count": 28,
     "metadata": {},
     "output_type": "execute_result"
    }
   ],
   "source": [
    "trait Speaker {\n",
    "    def speak(): Unit\n",
    "    def shout() = {\n",
    "        speak()\n",
    "        speak()\n",
    "    }\n",
    "}\n",
    "\n",
    "class Person extends Speaker {\n",
    "    def speak()  = println(\"Hi\")\n",
    "}\n",
    "\n",
    "(new Person).shout()"
   ]
  },
  {
   "cell_type": "markdown",
   "metadata": {},
   "source": [
    "## Exercise\n",
    "### Supermarket Report Writing Exercise\n",
    "\n",
    "* There are:\n",
    "    * HTML Reports\n",
    "    * Text Reports\n",
    "    \n",
    "* HTML reports `show()` by println ```\"<p>REPORT</p>\"```\n",
    "* Text reports `show()` by println ```\"REPORT\"```\n",
    "\n",
    "\n",
    "\n",
    "* Define:\n",
    "    * A trait which provides an abstract `show()`\n",
    "    * Two classes for each kind of report which implement show\n",
    "    * A List of reports\n",
    "    \n",
    "* `.show()` all your reports"
   ]
  },
  {
   "cell_type": "code",
   "execution_count": null,
   "metadata": {},
   "outputs": [],
   "source": []
  }
 ],
 "metadata": {
  "kernelspec": {
   "display_name": "Scala 2.12",
   "language": "scala",
   "name": "scala212"
  },
  "language_info": {
   "codemirror_mode": "text/x-scala",
   "file_extension": ".scala",
   "mimetype": "text/x-scala",
   "name": "scala",
   "nbconvert_exporter": "script",
   "version": "2.12.8"
  }
 },
 "nbformat": 4,
 "nbformat_minor": 2
}
