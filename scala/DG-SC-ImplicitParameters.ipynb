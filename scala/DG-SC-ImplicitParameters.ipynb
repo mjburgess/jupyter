{
 "cells": [
  {
   "cell_type": "markdown",
   "metadata": {},
   "source": [
    "# Implicit Parameters"
   ]
  },
  {
   "cell_type": "markdown",
   "metadata": {},
   "source": [
    "### Review: Function Calling Syntax"
   ]
  },
  {
   "cell_type": "code",
   "execution_count": 6,
   "metadata": {},
   "outputs": [
    {
     "data": {
      "text/plain": [
       "defined \u001b[32mfunction\u001b[39m \u001b[36mf\u001b[39m"
      ]
     },
     "execution_count": 6,
     "metadata": {},
     "output_type": "execute_result"
    }
   ],
   "source": [
    "def f(x: Int, y: Int) = x + y"
   ]
  },
  {
   "cell_type": "code",
   "execution_count": 7,
   "metadata": {},
   "outputs": [
    {
     "data": {
      "text/plain": [
       "defined \u001b[32mfunction\u001b[39m \u001b[36mg\u001b[39m"
      ]
     },
     "execution_count": 7,
     "metadata": {},
     "output_type": "execute_result"
    }
   ],
   "source": [
    "def g(x: Int)(y: Int) = x + y"
   ]
  },
  {
   "cell_type": "code",
   "execution_count": 8,
   "metadata": {},
   "outputs": [
    {
     "data": {
      "text/plain": [
       "\u001b[36mres7\u001b[39m: \u001b[32mInt\u001b[39m = \u001b[32m4\u001b[39m"
      ]
     },
     "execution_count": 8,
     "metadata": {},
     "output_type": "execute_result"
    }
   ],
   "source": [
    "g(1)(3)"
   ]
  },
  {
   "cell_type": "code",
   "execution_count": 12,
   "metadata": {},
   "outputs": [
    {
     "data": {
      "text/plain": [
       "\u001b[36mres11\u001b[39m: \u001b[32mInt\u001b[39m = \u001b[32m4\u001b[39m"
      ]
     },
     "execution_count": 12,
     "metadata": {},
     "output_type": "execute_result"
    }
   ],
   "source": [
    "f(3, 1)"
   ]
  },
  {
   "cell_type": "code",
   "execution_count": 14,
   "metadata": {},
   "outputs": [
    {
     "data": {
      "text/plain": [
       "defined \u001b[32mfunction\u001b[39m \u001b[36mprocess\u001b[39m\n",
       "\u001b[36mres13_1\u001b[39m: \u001b[32mInt\u001b[39m = \u001b[32m21\u001b[39m"
      ]
     },
     "execution_count": 14,
     "metadata": {},
     "output_type": "execute_result"
    }
   ],
   "source": [
    "def process(i: Int)(f: Int => Int) = f(i * 2)\n",
    "\n",
    "process(10) {  \n",
    "    (i: Int) => i + 1 \n",
    "}"
   ]
  },
  {
   "cell_type": "markdown",
   "metadata": {},
   "source": [
    "# Implicit Parameters"
   ]
  },
  {
   "cell_type": "code",
   "execution_count": 1,
   "metadata": {},
   "outputs": [
    {
     "data": {
      "text/plain": [
       "\u001b[36manyName\u001b[39m: \u001b[32mString\u001b[39m = \u001b[32m\"LOG: \"\u001b[39m"
      ]
     },
     "execution_count": 1,
     "metadata": {},
     "output_type": "execute_result"
    }
   ],
   "source": [
    "implicit val anyName: String = \"LOG: \""
   ]
  },
  {
   "cell_type": "code",
   "execution_count": 2,
   "metadata": {},
   "outputs": [
    {
     "data": {
      "text/plain": [
       "defined \u001b[32mfunction\u001b[39m \u001b[36mshow\u001b[39m"
      ]
     },
     "execution_count": 2,
     "metadata": {},
     "output_type": "execute_result"
    }
   ],
   "source": [
    "def show(msg: String)(implicit p: String) = println(p + msg)"
   ]
  },
  {
   "cell_type": "code",
   "execution_count": 15,
   "metadata": {},
   "outputs": [
    {
     "name": "stdout",
     "output_type": "stream",
     "text": [
      "ERROR: Hi\n"
     ]
    }
   ],
   "source": [
    "show(\"Hi\")(\"ERROR: \")"
   ]
  },
  {
   "cell_type": "code",
   "execution_count": 16,
   "metadata": {},
   "outputs": [
    {
     "name": "stdout",
     "output_type": "stream",
     "text": [
      "LOG: Hi\n"
     ]
    }
   ],
   "source": [
    "show(\"Hi\")"
   ]
  },
  {
   "cell_type": "code",
   "execution_count": 17,
   "metadata": {},
   "outputs": [
    {
     "name": "stdout",
     "output_type": "stream",
     "text": [
      "LOG: Hi\n"
     ]
    }
   ],
   "source": [
    "show(\"Hi\")(anyName)"
   ]
  },
  {
   "cell_type": "markdown",
   "metadata": {},
   "source": [
    "## Use of Implicit Parameters"
   ]
  },
  {
   "cell_type": "markdown",
   "metadata": {},
   "source": [
    "* implicit parameter:\n",
    "    * general api depedency/configuration\n",
    "    * query() has a \"context\" of running\n",
    "    * \"context\" is the connection"
   ]
  },
  {
   "cell_type": "code",
   "execution_count": 33,
   "metadata": {},
   "outputs": [
    {
     "name": "stdout",
     "output_type": "stream",
     "text": [
      "(SELECT * FROM users,(UK,123))\n"
     ]
    },
    {
     "data": {
      "text/plain": [
       "defined \u001b[32mfunction\u001b[39m \u001b[36mqueryTable\u001b[39m"
      ]
     },
     "execution_count": 33,
     "metadata": {},
     "output_type": "execute_result"
    }
   ],
   "source": [
    "def queryTable(sql: String)(conn: (String, Int)) = \n",
    "    println(sql, conn)\n",
    "\n",
    "queryTable(\"SELECT * FROM users\")((\"UK\", 123))"
   ]
  },
  {
   "cell_type": "code",
   "execution_count": 34,
   "metadata": {},
   "outputs": [
    {
     "name": "stdout",
     "output_type": "stream",
     "text": [
      "(SELECT * FROM users,(UK,123))\n"
     ]
    },
    {
     "data": {
      "text/plain": [
       "defined \u001b[32mfunction\u001b[39m \u001b[36mqueryTable\u001b[39m\n",
       "\u001b[36mconn\u001b[39m: (\u001b[32mString\u001b[39m, \u001b[32mInt\u001b[39m) = (\u001b[32m\"UK\"\u001b[39m, \u001b[32m123\u001b[39m)"
      ]
     },
     "execution_count": 34,
     "metadata": {},
     "output_type": "execute_result"
    }
   ],
   "source": [
    "def queryTable(sql: String)(conn: (String, Int)) = \n",
    "    println(sql, conn)\n",
    "\n",
    "val conn = (\"UK\", 123)\n",
    "\n",
    "queryTable(\"SELECT * FROM users\")(conn)"
   ]
  },
  {
   "cell_type": "code",
   "execution_count": 35,
   "metadata": {},
   "outputs": [
    {
     "name": "stdout",
     "output_type": "stream",
     "text": [
      "(SELECT * FROM users,(UK,123))\n"
     ]
    },
    {
     "data": {
      "text/plain": [
       "defined \u001b[32mfunction\u001b[39m \u001b[36mqueryTable\u001b[39m\n",
       "\u001b[36mconn\u001b[39m: (\u001b[32mString\u001b[39m, \u001b[32mInt\u001b[39m) = (\u001b[32m\"UK\"\u001b[39m, \u001b[32m123\u001b[39m)"
      ]
     },
     "execution_count": 35,
     "metadata": {},
     "output_type": "execute_result"
    }
   ],
   "source": [
    "def queryTable(sql: String)(implicit conn: (String, Int)) = \n",
    "    println(sql, conn)\n",
    "\n",
    "implicit val conn = (\"UK\", 123)\n",
    "queryTable(\"SELECT * FROM users\")(conn)"
   ]
  },
  {
   "cell_type": "code",
   "execution_count": 37,
   "metadata": {},
   "outputs": [
    {
     "name": "stdout",
     "output_type": "stream",
     "text": [
      "(SELECT * FROM users,(UK,123))\n"
     ]
    },
    {
     "data": {
      "text/plain": [
       "defined \u001b[32mfunction\u001b[39m \u001b[36mqueryTable\u001b[39m\n",
       "\u001b[36mconn\u001b[39m: (\u001b[32mString\u001b[39m, \u001b[32mInt\u001b[39m) = (\u001b[32m\"UK\"\u001b[39m, \u001b[32m123\u001b[39m)"
      ]
     },
     "execution_count": 37,
     "metadata": {},
     "output_type": "execute_result"
    }
   ],
   "source": [
    "def queryTable(sql: String)(implicit conn: (String, Int)) = \n",
    "    println(sql, conn)\n",
    "\n",
    "implicit val conn: (String, Int) = (\"UK\", 123)\n",
    "\n",
    "queryTable(\"SELECT * FROM users\")"
   ]
  },
  {
   "cell_type": "code",
   "execution_count": 22,
   "metadata": {},
   "outputs": [
    {
     "data": {
      "text/plain": [
       "\u001b[36mconn\u001b[39m: (\u001b[32mString\u001b[39m, \u001b[32mInt\u001b[39m) = (\u001b[32m\"UK\"\u001b[39m, \u001b[32m1234\u001b[39m)\n",
       "defined \u001b[32mfunction\u001b[39m \u001b[36mquery\u001b[39m"
      ]
     },
     "execution_count": 22,
     "metadata": {},
     "output_type": "execute_result"
    }
   ],
   "source": [
    "implicit val conn: (String, Int) = (\"UK\", 1234)\n",
    "\n",
    "def query(sql: String)(implicit h: (String, Int)) = {\n",
    "    println(s\"quering $sql @$h\")\n",
    "}"
   ]
  },
  {
   "cell_type": "code",
   "execution_count": 23,
   "metadata": {},
   "outputs": [
    {
     "name": "stdout",
     "output_type": "stream",
     "text": [
      "quering SELCT * FROM users @(UK,1234)\n",
      "quering SELCT * FROM people @(UK,1234)\n",
      "quering SELCT * FROM forums @(UK,1234)\n",
      "quering SELCT * FROM blogs @(UK,1234)\n"
     ]
    }
   ],
   "source": [
    "query(\"SELCT * FROM users\")\n",
    "query(\"SELCT * FROM people\")\n",
    "query(\"SELCT * FROM forums\")\n",
    "query(\"SELCT * FROM blogs\")"
   ]
  },
  {
   "cell_type": "markdown",
   "metadata": {},
   "source": [
    "## Exercise: Implicit Parameters\n",
    "\n",
    "* define:\n",
    "    * select()\n",
    "    * insert()\n",
    "    * delete()\n",
    "    \n",
    "* that take a sql: String, and an implicit dbname : String\n",
    "    * each should simulate the relevant query, println()\n",
    "    \n",
    "* run the following queries:\n",
    "    ```\n",
    "    \"SELECT * FROM users\"\n",
    "    \"INSERT INTO users (1, 2)\"\n",
    "    \"DElETE FROM users\"\n",
    "    ```\n",
    "* and show they all run on the same db"
   ]
  },
  {
   "cell_type": "code",
   "execution_count": 1,
   "metadata": {},
   "outputs": [
    {
     "name": "stdout",
     "output_type": "stream",
     "text": [
      "(selecting,SELECT * FROM users,ukmk)\n",
      "(inserting,INSERT INTO users,ukmk)\n",
      "(deleting,DELETE FROM users,ukmk)\n"
     ]
    },
    {
     "data": {
      "text/plain": [
       "\u001b[36mdb\u001b[39m: \u001b[32mString\u001b[39m = \u001b[32m\"ukmk\"\u001b[39m\n",
       "defined \u001b[32mfunction\u001b[39m \u001b[36mselect\u001b[39m\n",
       "defined \u001b[32mfunction\u001b[39m \u001b[36minsert\u001b[39m\n",
       "defined \u001b[32mfunction\u001b[39m \u001b[36mdelete\u001b[39m"
      ]
     },
     "execution_count": 1,
     "metadata": {},
     "output_type": "execute_result"
    }
   ],
   "source": [
    "implicit val db: String = \"ukmk\"\n",
    "\n",
    "def select(sql: String)(implicit dbname: String) = \n",
    "    println(\"selecting\", sql, dbname)\n",
    "\n",
    "def insert(sql: String)(implicit dbname: String) = \n",
    "    println(\"inserting\", sql, dbname)\n",
    "\n",
    "def delete(sql: String)(implicit dbname: String) = \n",
    "    println(\"deleting\", sql, dbname)\n",
    "\n",
    "\n",
    "select(\"SELECT * FROM users\")\n",
    "insert(\"INSERT INTO users\")\n",
    "delete(\"DELETE FROM users\")"
   ]
  },
  {
   "cell_type": "markdown",
   "metadata": {},
   "source": [
    "## Exercise\n"
   ]
  },
  {
   "cell_type": "code",
   "execution_count": 23,
   "metadata": {},
   "outputs": [
    {
     "name": "stdout",
     "output_type": "stream",
     "text": [
      "(selecting,SELECT * FROM users,UK)\n",
      "(inserting,INSERT INTO users,UK)\n",
      "(deleting,DELETE FROM users,UK)\n"
     ]
    },
    {
     "data": {
      "text/plain": [
       "defined \u001b[32mtrait\u001b[39m \u001b[36mDbConfig\u001b[39m\n",
       "defined \u001b[32mobject\u001b[39m \u001b[36mconf\u001b[39m\n",
       "defined \u001b[32mfunction\u001b[39m \u001b[36mselect\u001b[39m\n",
       "defined \u001b[32mfunction\u001b[39m \u001b[36minsert\u001b[39m\n",
       "defined \u001b[32mfunction\u001b[39m \u001b[36mdelete\u001b[39m"
      ]
     },
     "execution_count": 23,
     "metadata": {},
     "output_type": "execute_result"
    }
   ],
   "source": [
    "/* class, case class, trait, abstract class */\n",
    "trait DbConfig {\n",
    "    val host: String\n",
    "    val pw: Int\n",
    "}\n",
    "\n",
    "/* class Config extends DbConfig; conf = new Config */\n",
    "\n",
    "implicit object conf extends DbConfig {\n",
    "    val host = \"UK\"\n",
    "    val pw = 1234\n",
    "}\n",
    "\n",
    "\n",
    "def select(sql: String)(implicit d: DbConfig) = \n",
    "    println(\"selecting\", sql, d.host)\n",
    "\n",
    "def insert(sql: String)(implicit d: DbConfig) = \n",
    "    println(\"inserting\", sql, d.host)\n",
    "\n",
    "def delete(sql: String)(implicit d: DbConfig) = \n",
    "    println(\"deleting\", sql, d.host)\n",
    "\n",
    "\n",
    "select(\"SELECT * FROM users\")\n",
    "insert(\"INSERT INTO users\")\n",
    "delete(\"DELETE FROM users\")"
   ]
  },
  {
   "cell_type": "markdown",
   "metadata": {},
   "source": [
    "## Exercise"
   ]
  },
  {
   "cell_type": "markdown",
   "metadata": {},
   "source": [
    "* modify select(), delete(), insert() to take an `implicit` DbConfig\n",
    "* DbConfig has a:\n",
    "    - db name\n",
    "    - usr name\n",
    "    - pwd\n",
    "* provide an implicit object with UK-based configuration\n",
    "\n",
    "* HINT: see example below"
   ]
  },
  {
   "cell_type": "code",
   "execution_count": 4,
   "metadata": {},
   "outputs": [
    {
     "name": "stdout",
     "output_type": "stream",
     "text": [
      "sxfUK\n"
     ]
    },
    {
     "data": {
      "text/plain": [
       "defined \u001b[32mtrait\u001b[39m \u001b[36mDbName\u001b[39m\n",
       "defined \u001b[32mobject\u001b[39m \u001b[36mdbname\u001b[39m\n",
       "defined \u001b[32mfunction\u001b[39m \u001b[36mquery\u001b[39m"
      ]
     },
     "execution_count": 4,
     "metadata": {},
     "output_type": "execute_result"
    }
   ],
   "source": [
    "trait DbName {\n",
    "    val name: String\n",
    "}\n",
    "\n",
    "implicit object dbname extends DbName {\n",
    "    val name = \"UK\"\n",
    "}\n",
    "\n",
    "def query(s: String)(implicit n: DbName) = println(s + n.name)\n",
    "query(\"sxf\")"
   ]
  },
  {
   "cell_type": "code",
   "execution_count": 30,
   "metadata": {},
   "outputs": [
    {
     "data": {
      "text/plain": [
       "defined \u001b[32mtrait\u001b[39m \u001b[36mData\u001b[39m\n",
       "defined \u001b[32mtrait\u001b[39m \u001b[36mUser\u001b[39m\n",
       "defined \u001b[32mobject\u001b[39m \u001b[36mUkUser\u001b[39m\n",
       "defined \u001b[32mtrait\u001b[39m \u001b[36mHost\u001b[39m\n",
       "defined \u001b[32mobject\u001b[39m \u001b[36mUkHost\u001b[39m"
      ]
     },
     "execution_count": 30,
     "metadata": {},
     "output_type": "execute_result"
    }
   ],
   "source": [
    "//implicit val value: String = \"Michael\"\n",
    "\n",
    "\n",
    "trait Data[A] {\n",
    "    val value: String\n",
    "}\n",
    "\n",
    "trait User\n",
    "\n",
    "// implicit val UkHost = new ...generatedclass ...\n",
    "implicit object UkUser extends Data[User] {\n",
    "    val value = \"Michael\"\n",
    "}\n",
    "\n",
    "\n",
    "trait Host\n",
    "// implicit val UkHost...\n",
    "implicit object UkHost extends Data[Host] {\n",
    "    val value = \"UK\"\n",
    "}\n",
    "\n"
   ]
  },
  {
   "cell_type": "code",
   "execution_count": 27,
   "metadata": {},
   "outputs": [
    {
     "data": {
      "text/plain": [
       "defined \u001b[32mfunction\u001b[39m \u001b[36mselect\u001b[39m"
      ]
     },
     "execution_count": 27,
     "metadata": {},
     "output_type": "execute_result"
    }
   ],
   "source": [
    "def select(s: String)(implicit h: Data[Host], u: Data[User]) = \n",
    "    println(s, h.value, u.value)"
   ]
  },
  {
   "cell_type": "code",
   "execution_count": 28,
   "metadata": {},
   "outputs": [
    {
     "name": "stdout",
     "output_type": "stream",
     "text": [
      "(Hi,UK,Michael)\n"
     ]
    }
   ],
   "source": [
    "select(\"Hi\")"
   ]
  },
  {
   "cell_type": "markdown",
   "metadata": {},
   "source": [
    "## Multiple Implicits & Scoping"
   ]
  },
  {
   "cell_type": "markdown",
   "metadata": {},
   "source": [
    "* application vs. framework\n",
    "* solving the problems vs. solving the problems of applicaiton developers\n",
    "\n",
    "\n",
    "\n",
    "* app developer, client = biz\n",
    "* framework developer, client = application\n",
    "* technical architect, client = framework developer\n",
    "* external libr. designer, client = TA/FD/AD\n",
    "* language design, client = FW | APP | EDU"
   ]
  },
  {
   "cell_type": "code",
   "execution_count": 1,
   "metadata": {},
   "outputs": [
    {
     "data": {
      "text/plain": [
       "defined \u001b[32mtrait\u001b[39m \u001b[36mConfig\u001b[39m\n",
       "defined \u001b[32mfunction\u001b[39m \u001b[36mquery\u001b[39m"
      ]
     },
     "execution_count": 1,
     "metadata": {},
     "output_type": "execute_result"
    }
   ],
   "source": [
    "// framework developer provides `query` and a type to configure `query`\n",
    "trait Config {\n",
    "    val name: String\n",
    "}\n",
    "\n",
    "def query(s: String)(implicit n: Config) = println(s + n.name)"
   ]
  },
  {
   "cell_type": "code",
   "execution_count": 2,
   "metadata": {},
   "outputs": [
    {
     "data": {
      "text/plain": [
       "defined \u001b[32mobject\u001b[39m \u001b[36mConfigs\u001b[39m"
      ]
     },
     "execution_count": 2,
     "metadata": {},
     "output_type": "execute_result"
    }
   ],
   "source": [
    "// lead application developer\n",
    "object Configs {\n",
    "    implicit object confUK extends Config {\n",
    "        val name = \"UK\"\n",
    "    }\n",
    "\n",
    "    implicit object confFR extends Config {\n",
    "        val name = \"FR\"\n",
    "    }\n",
    "}"
   ]
  },
  {
   "cell_type": "code",
   "execution_count": 4,
   "metadata": {},
   "outputs": [
    {
     "name": "stdout",
     "output_type": "stream",
     "text": [
      "SQL UK\n"
     ]
    },
    {
     "data": {
      "text/plain": [
       "\u001b[32mimport \u001b[39m\u001b[36mConfigs.confUK\n",
       "\u001b[39m"
      ]
     },
     "execution_count": 4,
     "metadata": {},
     "output_type": "execute_result"
    }
   ],
   "source": [
    "//app developer\n",
    "import Configs.confUK\n",
    "query(\"SQL \")"
   ]
  },
  {
   "cell_type": "markdown",
   "metadata": {},
   "source": [
    "## Exercise: Select an Import\n",
    "\n",
    "* Define multiple DbConfigs, wrap in ConfigContext object\n",
    "* Import one of them"
   ]
  }
 ],
 "metadata": {
  "kernelspec": {
   "display_name": "Scala 2.12",
   "language": "scala",
   "name": "scala212"
  },
  "language_info": {
   "codemirror_mode": "text/x-scala",
   "file_extension": ".scala",
   "mimetype": "text/x-scala",
   "name": "scala",
   "nbconvert_exporter": "script",
   "version": "2.12.8"
  }
 },
 "nbformat": 4,
 "nbformat_minor": 2
}
