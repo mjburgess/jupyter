{
 "cells": [
  {
   "cell_type": "markdown",
   "metadata": {},
   "source": [
    "# Scala: Conceptual Introduction\n",
    "### Test-Driven Development"
   ]
  },
  {
   "cell_type": "code",
   "execution_count": 26,
   "metadata": {},
   "outputs": [
    {
     "data": {
      "text/plain": [
       "defined \u001b[32mtrait\u001b[39m \u001b[36mPassword\u001b[39m\n",
       "defined \u001b[32mclass\u001b[39m \u001b[36mBioPass\u001b[39m\n",
       "defined \u001b[32mclass\u001b[39m \u001b[36mIntPass\u001b[39m\n",
       "defined \u001b[32mclass\u001b[39m \u001b[36mBlahPass\u001b[39m"
      ]
     },
     "execution_count": 26,
     "metadata": {},
     "output_type": "execute_result"
    }
   ],
   "source": [
    "trait Password\n",
    "class BioPass extends Password\n",
    "class IntPass extends Password\n",
    "class BlahPass extends Password"
   ]
  },
  {
   "cell_type": "code",
   "execution_count": 27,
   "metadata": {},
   "outputs": [
    {
     "data": {
      "text/plain": [
       "defined \u001b[32mfunction\u001b[39m \u001b[36maccess\u001b[39m"
      ]
     },
     "execution_count": 27,
     "metadata": {},
     "output_type": "execute_result"
    }
   ],
   "source": [
    "def access(p: Password) = ???"
   ]
  },
  {
   "cell_type": "code",
   "execution_count": 24,
   "metadata": {},
   "outputs": [
    {
     "data": {
      "text/plain": [
       "defined \u001b[32mclass\u001b[39m \u001b[36mMessage\u001b[39m"
      ]
     },
     "execution_count": 24,
     "metadata": {},
     "output_type": "execute_result"
    }
   ],
   "source": [
    "class Message(val message: String, val prefix: String) {\n",
    "    def getMessage() = \"something valid\"\n",
    "}"
   ]
  },
  {
   "cell_type": "code",
   "execution_count": 25,
   "metadata": {},
   "outputs": [
    {
     "data": {
      "text/plain": [
       "defined \u001b[32mfunction\u001b[39m \u001b[36msay\u001b[39m"
      ]
     },
     "execution_count": 25,
     "metadata": {},
     "output_type": "execute_result"
    }
   ],
   "source": [
    "def say(m: Message) = print(m.getMessage())"
   ]
  },
  {
   "cell_type": "code",
   "execution_count": 23,
   "metadata": {},
   "outputs": [
    {
     "data": {
      "text/plain": [
       "defined \u001b[32mfunction\u001b[39m \u001b[36msay\u001b[39m"
      ]
     },
     "execution_count": 23,
     "metadata": {},
     "output_type": "execute_result"
    }
   ],
   "source": [
    "def say(m: String, p: String) = ???"
   ]
  },
  {
   "cell_type": "code",
   "execution_count": 23,
   "metadata": {},
   "outputs": [
    {
     "name": "stderr",
     "output_type": "stream",
     "text": [
      "cmd23.sc:1: type mismatch;\n",
      " found   : Int(1)\n",
      " required: String\n",
      "val res23 = say(1, 2)\n",
      "                ^cmd23.sc:1: type mismatch;\n",
      " found   : Int(2)\n",
      " required: String\n",
      "val res23 = say(1, 2)\n",
      "                   ^Compilation Failed"
     ]
    },
    {
     "ename": "",
     "evalue": "",
     "output_type": "error",
     "traceback": [
      "Compilation Failed"
     ]
    }
   ],
   "source": [
    "say(1, 2)"
   ]
  },
  {
   "cell_type": "markdown",
   "metadata": {},
   "source": [
    "# Prelude: Errors"
   ]
  },
  {
   "cell_type": "markdown",
   "metadata": {},
   "source": [
    "* compile time error \n",
    "* run time \n",
    "    * object"
   ]
  },
  {
   "cell_type": "code",
   "execution_count": 27,
   "metadata": {},
   "outputs": [],
   "source": [
    "// val age: Int = \"Micheal\" // ERROR: compile"
   ]
  },
  {
   "cell_type": "code",
   "execution_count": 22,
   "metadata": {},
   "outputs": [
    {
     "data": {
      "text/plain": [
       "\u001b[36mx\u001b[39m: \u001b[32mInt\u001b[39m = \u001b[32m10\u001b[39m\n",
       "\u001b[36my\u001b[39m: \u001b[32mInt\u001b[39m = \u001b[32m0\u001b[39m"
      ]
     },
     "execution_count": 22,
     "metadata": {},
     "output_type": "execute_result"
    }
   ],
   "source": [
    "val x = 10\n",
    "val y = 0"
   ]
  },
  {
   "cell_type": "code",
   "execution_count": 34,
   "metadata": {},
   "outputs": [
    {
     "name": "stdout",
     "output_type": "stream",
     "text": [
      "oops!\n",
      "hi\n"
     ]
    },
    {
     "data": {
      "text/plain": [
       "\u001b[36mdata\u001b[39m: \u001b[32mArray\u001b[39m[\u001b[32mInt\u001b[39m] = \u001b[33mArray\u001b[39m(\u001b[32m0\u001b[39m)\n",
       "\u001b[36mres33_1\u001b[39m: \u001b[32mAnyVal\u001b[39m = ()"
      ]
     },
     "execution_count": 34,
     "metadata": {},
     "output_type": "execute_result"
    }
   ],
   "source": [
    "val data = Array(0)\n",
    "try {\n",
    "    data(10)\n",
    "    x/y\n",
    "} catch {\n",
    "    case e: ArithmeticException => println(e)\n",
    "    case _ => println(\"oops!\")\n",
    "}\n",
    "\n",
    "println(\"hi\")"
   ]
  },
  {
   "cell_type": "code",
   "execution_count": 30,
   "metadata": {},
   "outputs": [
    {
     "ename": "",
     "evalue": "",
     "output_type": "error",
     "traceback": [
      "\u001b[31mjava.lang.ArithmeticException: / by zero\u001b[39m\n  ammonite.$sess.cmd29$Helper.<init>(\u001b[32mcmd29.sc\u001b[39m:\u001b[32m1\u001b[39m)\n  ammonite.$sess.cmd29$.<init>(\u001b[32mcmd29.sc\u001b[39m:\u001b[32m7\u001b[39m)\n  ammonite.$sess.cmd29$.<clinit>(\u001b[32mcmd29.sc\u001b[39m:\u001b[32m-1\u001b[39m)"
     ]
    }
   ],
   "source": [
    "10/0"
   ]
  },
  {
   "cell_type": "code",
   "execution_count": 39,
   "metadata": {},
   "outputs": [
    {
     "ename": "",
     "evalue": "",
     "output_type": "error",
     "traceback": [
      "\u001b[31mjava.lang.AssertionError: assertion failed: Data too short\u001b[39m\n  scala.Predef$.assert(\u001b[32mPredef.scala\u001b[39m:\u001b[32m223\u001b[39m)\n  ammonite.$sess.cmd38$Helper.<init>(\u001b[32mcmd38.sc\u001b[39m:\u001b[32m2\u001b[39m)\n  ammonite.$sess.cmd38$.<init>(\u001b[32mcmd38.sc\u001b[39m:\u001b[32m7\u001b[39m)\n  ammonite.$sess.cmd38$.<clinit>(\u001b[32mcmd38.sc\u001b[39m:\u001b[32m-1\u001b[39m)"
     ]
    }
   ],
   "source": [
    "val data = Array(1)\n",
    "assert(data.length > 1, \"Data too short\")"
   ]
  },
  {
   "cell_type": "code",
   "execution_count": 40,
   "metadata": {},
   "outputs": [
    {
     "name": "stdout",
     "output_type": "stream",
     "text": [
      "java.lang.AssertionError: assertion failed: Data too short\n"
     ]
    },
    {
     "data": {
      "text/plain": [
       "\u001b[36mdata\u001b[39m: \u001b[32mArray\u001b[39m[\u001b[32mInt\u001b[39m] = \u001b[33mArray\u001b[39m(\u001b[32m1\u001b[39m)"
      ]
     },
     "execution_count": 40,
     "metadata": {},
     "output_type": "execute_result"
    }
   ],
   "source": [
    "val data = Array(1)\n",
    "\n",
    "try {    \n",
    "    assert(data.length > 1, \"Data too short\")\n",
    "} catch {\n",
    "    case e: AssertionError => println(e)\n",
    "}"
   ]
  },
  {
   "cell_type": "markdown",
   "metadata": {},
   "source": [
    "* Hospital\n",
    "    * Doctor\n",
    "        * ID\n",
    "        * Speciality\n",
    "        * Role\n",
    "        - cure\n",
    "        \n",
    "    * Nurse"
   ]
  },
  {
   "cell_type": "code",
   "execution_count": 43,
   "metadata": {},
   "outputs": [
    {
     "data": {
      "text/plain": [
       "defined \u001b[32mclass\u001b[39m \u001b[36mDoctor\u001b[39m\n",
       "\u001b[36mdr\u001b[39m: \u001b[32mDoctor\u001b[39m = ammonite.$sess.cmd42$Helper$Doctor@69e9252d"
      ]
     },
     "execution_count": 43,
     "metadata": {},
     "output_type": "execute_result"
    }
   ],
   "source": [
    "class Doctor(val id: Int, val speciality: String, val role: String) {\n",
    "    def cure(person: String) = if(person == \"Michael\") \"Impossible!\" else \"Sure!\"\n",
    "}\n",
    "\n",
    "\n",
    "val dr: Doctor = new Doctor(1, \"Internal\", \"Consultant\")\n",
    "\n",
    "assert(dr.id == 1, \"ID broken\")\n",
    "assert(dr.speciality == \"Internal\", \"speciality broken\")\n",
    "assert(dr.role == \"Consultant\", \"role broken\")\n",
    "assert(dr.cure(\"Michael\") == \"Impossible!\", \"cure broken\")"
   ]
  },
  {
   "cell_type": "code",
   "execution_count": null,
   "metadata": {},
   "outputs": [],
   "source": [
    "dr.cure(\"Georege\")"
   ]
  },
  {
   "cell_type": "markdown",
   "metadata": {},
   "source": [
    "1. write assertions\n",
    "2. write minimal to compile \n",
    "3. write minial until all tests pass"
   ]
  }
 ],
 "metadata": {
  "kernelspec": {
   "display_name": "Scala 2.12",
   "language": "scala",
   "name": "scala212"
  },
  "language_info": {
   "codemirror_mode": "text/x-scala",
   "file_extension": ".scala",
   "mimetype": "text/x-scala",
   "name": "scala",
   "nbconvert_exporter": "script",
   "version": "2.12.8"
  }
 },
 "nbformat": 4,
 "nbformat_minor": 2
}
