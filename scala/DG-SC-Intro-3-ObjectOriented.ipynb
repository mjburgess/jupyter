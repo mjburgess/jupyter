{
 "cells": [
  {
   "cell_type": "code",
   "execution_count": 69,
   "metadata": {},
   "outputs": [
    {
     "data": {
      "text/plain": [
       "defined \u001b[32mclass\u001b[39m \u001b[36mPerson\u001b[39m\n",
       "defined \u001b[32mclass\u001b[39m \u001b[36mWorker\u001b[39m\n",
       "\u001b[36mme\u001b[39m: \u001b[32mPerson\u001b[39m = ammonite.$sess.cmd68$Helper$Person@68e9c214\n",
       "\u001b[36myou\u001b[39m: \u001b[32mWorker\u001b[39m = ammonite.$sess.cmd68$Helper$Worker@24b69c76"
      ]
     },
     "execution_count": 69,
     "metadata": {},
     "output_type": "execute_result"
    }
   ],
   "source": [
    "class Person(val name: String) {\n",
    "    def describe() = println(name)\n",
    "}\n",
    "\n",
    "//                         is a (kind of)\n",
    "class Worker(val id: Int) extends Person(\"WORKER\") {\n",
    "    def shout() = println(\"I NEED A BREAK!\")\n",
    "    \n",
    "    override def describe() = println(id)\n",
    "}\n",
    "\n",
    "val me = new Person(\"Michael\")\n",
    "val you = new Worker(1)"
   ]
  },
  {
   "cell_type": "code",
   "execution_count": 68,
   "metadata": {},
   "outputs": [
    {
     "name": "stdout",
     "output_type": "stream",
     "text": [
      "Michael\n",
      "1\n"
     ]
    },
    {
     "data": {
      "text/plain": [
       "\u001b[36mpeople\u001b[39m: \u001b[32mArray\u001b[39m[\u001b[32mPerson\u001b[39m] = \u001b[33mArray\u001b[39m(\n",
       "  ammonite.$sess.cmd66$Helper$Person@83fb224,\n",
       "  ammonite.$sess.cmd66$Helper$Worker@1b18ee85\n",
       ")"
      ]
     },
     "execution_count": 68,
     "metadata": {},
     "output_type": "execute_result"
    }
   ],
   "source": [
    "                                                                                                                                                                            val people = Array(me, you)\n",
    "\n",
    "for(p <- people) p.describe()"
   ]
  },
  {
   "cell_type": "code",
   "execution_count": 65,
   "metadata": {},
   "outputs": [
    {
     "name": "stdout",
     "output_type": "stream",
     "text": [
      "Michael\n",
      "1\n",
      "I NEED A BREAK!\n"
     ]
    }
   ],
   "source": [
    "me.describe()\n",
    "// me.shout()\n",
    "you.describe()\n",
    "you.shout()"
   ]
  },
  {
   "cell_type": "code",
   "execution_count": null,
   "metadata": {},
   "outputs": [],
   "source": []
  },
  {
   "cell_type": "code",
   "execution_count": 30,
   "metadata": {},
   "outputs": [
    {
     "data": {
      "text/plain": [
       "\u001b[36mres29\u001b[39m: \u001b[32mString\u001b[39m = \u001b[32m\"MICHAEL\"\u001b[39m"
      ]
     },
     "execution_count": 30,
     "metadata": {},
     "output_type": "execute_result"
    }
   ],
   "source": [
    "\"Michael\".toUpperCase()"
   ]
  },
  {
   "cell_type": "code",
   "execution_count": 16,
   "metadata": {},
   "outputs": [
    {
     "data": {
      "text/plain": [
       "\u001b[36mres15\u001b[39m: \u001b[32mString\u001b[39m = \u001b[32m\"\"\u001b[39m"
      ]
     },
     "execution_count": 16,
     "metadata": {},
     "output_type": "execute_result"
    }
   ],
   "source": [
    "new String()"
   ]
  },
  {
   "cell_type": "markdown",
   "metadata": {},
   "source": [
    "1. add a `describe` to Book which does two things (HINT: `= {   }` )\n",
    "    1. calls `author.describe()`\n",
    "    2. `println`'s the title (HINT `$title`)\n",
    "2. call `describe` on `scalaBook`"
   ]
  },
  {
   "cell_type": "code",
   "execution_count": 49,
   "metadata": {},
   "outputs": [
    {
     "name": "stdout",
     "output_type": "stream",
     "text": [
      "The author, Michael is 30\n",
      "The Title: Programming Scala\n"
     ]
    },
    {
     "data": {
      "text/plain": [
       "defined \u001b[32mclass\u001b[39m \u001b[36mPerson\u001b[39m\n",
       "defined \u001b[32mclass\u001b[39m \u001b[36mBook\u001b[39m\n",
       "\u001b[36mme\u001b[39m: \u001b[32mPerson\u001b[39m = ammonite.$sess.cmd48$Helper$Person@523b58c3\n",
       "\u001b[36myou\u001b[39m: \u001b[32mPerson\u001b[39m = ammonite.$sess.cmd48$Helper$Person@56be4fa7\n",
       "\u001b[36mscalaBook\u001b[39m: \u001b[32mBook\u001b[39m = ammonite.$sess.cmd48$Helper$Book@41dc469e"
      ]
     },
     "execution_count": 49,
     "metadata": {},
     "output_type": "execute_result"
    }
   ],
   "source": [
    "class Person(val name: String, val age: Int) {\n",
    "    def describe() = println(s\"$name is $age\")\n",
    "}\n",
    "class Book(val author: Person, val title: String) {\n",
    "    def describe() = {\n",
    "        print(\"The author, \")\n",
    "        author.describe()\n",
    "        println(s\"The Title: $title\")\n",
    "    }\n",
    "}\n",
    "\n",
    "val me = new Person(\"Michael\", 30)\n",
    "val you = new Person(\"Rufina\", 31)\n",
    "\n",
    "val scalaBook = new Book(me, \"Programming Scala\")\n",
    "scalaBook.describe()"
   ]
  },
  {
   "cell_type": "code",
   "execution_count": 43,
   "metadata": {},
   "outputs": [
    {
     "name": "stdout",
     "output_type": "stream",
     "text": [
      "Michael is 30\n"
     ]
    }
   ],
   "source": [
    "scalaBook.author.describe()"
   ]
  },
  {
   "cell_type": "code",
   "execution_count": 33,
   "metadata": {},
   "outputs": [
    {
     "data": {
      "text/plain": [
       "\u001b[36mres32\u001b[39m: \u001b[32mInt\u001b[39m = \u001b[32m31\u001b[39m"
      ]
     },
     "execution_count": 33,
     "metadata": {},
     "output_type": "execute_result"
    }
   ],
   "source": [
    "you.age"
   ]
  },
  {
   "cell_type": "code",
   "execution_count": 11,
   "metadata": {},
   "outputs": [
    {
     "data": {
      "text/plain": [
       "\u001b[36mres10\u001b[39m: \u001b[32mString\u001b[39m = \u001b[32m\"Michael\"\u001b[39m"
      ]
     },
     "execution_count": 11,
     "metadata": {},
     "output_type": "execute_result"
    }
   ],
   "source": [
    "me.name"
   ]
  },
  {
   "cell_type": "code",
   "execution_count": 12,
   "metadata": {},
   "outputs": [
    {
     "data": {
      "text/plain": [
       "\u001b[36mres11\u001b[39m: \u001b[32mString\u001b[39m = \u001b[32m\"Rufina\"\u001b[39m"
      ]
     },
     "execution_count": 12,
     "metadata": {},
     "output_type": "execute_result"
    }
   ],
   "source": [
    "you.name"
   ]
  },
  {
   "cell_type": "code",
   "execution_count": 28,
   "metadata": {},
   "outputs": [
    {
     "data": {
      "text/plain": [
       "defined \u001b[32mclass\u001b[39m \u001b[36mWorld\u001b[39m"
      ]
     },
     "execution_count": 28,
     "metadata": {},
     "output_type": "execute_result"
    }
   ],
   "source": [
    "class World(val locations: Array[String]) {\n",
    "    def showLocations() = for(l <- locations) println(l)\n",
    "    def descLocation(i: Int) = {\n",
    "        val cities = Map(\"UK\" -> \"London\", \"FR\" -> \"Paris\")\n",
    "    \n",
    "        println(cities(locations(i)))\n",
    "    }\n",
    "}"
   ]
  },
  {
   "cell_type": "code",
   "execution_count": 29,
   "metadata": {},
   "outputs": [
    {
     "name": "stdout",
     "output_type": "stream",
     "text": [
      "UK\n",
      "FR\n",
      "\n",
      "London\n"
     ]
    },
    {
     "data": {
      "text/plain": [
       "\u001b[36mearth\u001b[39m: \u001b[32mWorld\u001b[39m = ammonite.$sess.cmd27$Helper$World@5439b554"
      ]
     },
     "execution_count": 29,
     "metadata": {},
     "output_type": "execute_result"
    }
   ],
   "source": [
    "val earth = new World(Array(\"UK\", \"FR\"))\n",
    "earth.showLocations()\n",
    "println()\n",
    "earth.descLocation(0)"
   ]
  },
  {
   "cell_type": "code",
   "execution_count": 27,
   "metadata": {},
   "outputs": [
    {
     "data": {
      "text/plain": [
       "\u001b[36mres26\u001b[39m: \u001b[32mArray\u001b[39m[\u001b[32mString\u001b[39m] = \u001b[33mArray\u001b[39m(\u001b[32m\"UK\"\u001b[39m, \u001b[32m\"FR\"\u001b[39m)"
      ]
     },
     "execution_count": 27,
     "metadata": {},
     "output_type": "execute_result"
    }
   ],
   "source": [
    "earth.locations"
   ]
  },
  {
   "cell_type": "code",
   "execution_count": 26,
   "metadata": {},
   "outputs": [
    {
     "name": "stdout",
     "output_type": "stream",
     "text": [
      "Paris\n"
     ]
    }
   ],
   "source": [
    "earth.descLocation(1)"
   ]
  },
  {
   "cell_type": "code",
   "execution_count": 8,
   "metadata": {},
   "outputs": [
    {
     "data": {
      "text/plain": [
       "defined \u001b[32mfunction\u001b[39m \u001b[36mcalcPriceGBP\u001b[39m\n",
       "defined \u001b[32mfunction\u001b[39m \u001b[36mshowLocations\u001b[39m\n",
       "defined \u001b[32mfunction\u001b[39m \u001b[36mpickLocation\u001b[39m\n",
       "defined \u001b[32mfunction\u001b[39m \u001b[36mdescLocation\u001b[39m"
      ]
     },
     "execution_count": 8,
     "metadata": {},
     "output_type": "execute_result"
    }
   ],
   "source": [
    "def calcPriceGBP(usd: Double) = usd * 1.2\n",
    "\n",
    "def showLocations(locs: Array[String]) = \n",
    "    for(l <- locs) println(l)\n",
    "\n",
    "def pickLocation(locs: Array[String], num: Int) = \n",
    "    locs(num)\n",
    "\n",
    "def descLocation(location: String) = {\n",
    "    val cities = Map(\"UK\" -> \"London\", \"FR\" -> \"Paris\")\n",
    "    \n",
    "    println(cities(location))\n",
    "}"
   ]
  },
  {
   "cell_type": "code",
   "execution_count": 6,
   "metadata": {},
   "outputs": [
    {
     "name": "stdout",
     "output_type": "stream",
     "text": [
      "UK\n",
      "FR\n",
      "London\n"
     ]
    },
    {
     "data": {
      "text/plain": [
       "\u001b[36mlocations\u001b[39m: \u001b[32mArray\u001b[39m[\u001b[32mString\u001b[39m] = \u001b[33mArray\u001b[39m(\u001b[32m\"UK\"\u001b[39m, \u001b[32m\"FR\"\u001b[39m)"
      ]
     },
     "execution_count": 6,
     "metadata": {},
     "output_type": "execute_result"
    }
   ],
   "source": [
    "val locations = Array(\"UK\", \"FR\")\n",
    "\n",
    "showLocations(locations)\n",
    "descLocation(pickLocation(locations, 0))"
   ]
  }
 ],
 "metadata": {
  "kernelspec": {
   "display_name": "Scala 2.12",
   "language": "scala",
   "name": "scala212"
  },
  "language_info": {
   "codemirror_mode": "text/x-scala",
   "file_extension": ".scala",
   "mimetype": "text/x-scala",
   "name": "scala",
   "nbconvert_exporter": "script",
   "version": "2.12.8"
  }
 },
 "nbformat": 4,
 "nbformat_minor": 2
}
