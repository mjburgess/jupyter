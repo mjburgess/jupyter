{
 "cells": [
  {
   "cell_type": "code",
   "execution_count": 2,
   "metadata": {},
   "outputs": [
    {
     "data": {
      "text/plain": [
       "\u001b[32mimport \u001b[39m\u001b[36m$file.$      \n",
       "\u001b[39m\n",
       "\u001b[32mimport \u001b[39m\u001b[36mQaSpark._\u001b[39m"
      ]
     },
     "execution_count": 2,
     "metadata": {},
     "output_type": "execute_result"
    }
   ],
   "source": [
    "import $file.QaSpark\n",
    "import QaSpark._"
   ]
  },
  {
   "cell_type": "markdown",
   "metadata": {},
   "source": [
    "## NY Taxi"
   ]
  },
  {
   "cell_type": "code",
   "execution_count": 3,
   "metadata": {},
   "outputs": [
    {
     "data": {
      "text/html": [
       "<div class=\"jp-RenderedText\">\n",
       "<pre><code><span style=\"color: rgb(0, 187, 187)\"><span class=\"ansi-cyan-fg\">nyt</span></span>: <span style=\"color: rgb(0, 187, 0)\"><span class=\"ansi-green-fg\">org</span></span>.<span style=\"color: rgb(0, 187, 0)\"><span class=\"ansi-green-fg\">apache</span></span>.<span style=\"color: rgb(0, 187, 0)\"><span class=\"ansi-green-fg\">spark</span></span>.<span style=\"color: rgb(0, 187, 0)\"><span class=\"ansi-green-fg\">sql</span></span>.<span style=\"color: rgb(0, 187, 0)\"><span class=\"ansi-green-fg\">package</span></span>.<span style=\"color: rgb(0, 187, 0)\"><span class=\"ansi-green-fg\">DataFrame</span></span> = <style>@keyframes fadein { from { opacity: 0; } to { opacity: 1; } }</style><span style=\"animation: fadein 2s;\">[ID: string, Vendor: int ... 7 more fields]</span></code></pre>\n",
       "</div>"
      ],
      "text/plain": [
       "\u001b[36mnyt\u001b[39m: \u001b[32morg\u001b[39m.\u001b[32mapache\u001b[39m.\u001b[32mspark\u001b[39m.\u001b[32msql\u001b[39m.\u001b[32mpackage\u001b[39m.\u001b[32mDataFrame\u001b[39m = [ID: string, Vendor: int ... 7 more fields]"
      ]
     },
     "metadata": {},
     "output_type": "display_data"
    }
   ],
   "source": [
    "var nyt = spark\n",
    "    .read\n",
    "    .option(\"inferSchema\", \"true\")\n",
    "    .option(\"header\", \"true\")\n",
    "    .csv(\"ny-taxi/test.csv\")"
   ]
  },
  {
   "cell_type": "code",
   "execution_count": 4,
   "metadata": {},
   "outputs": [
    {
     "data": {
      "text/plain": [
       "\u001b[36mres3\u001b[39m: \u001b[32mLong\u001b[39m = \u001b[32m702L\u001b[39m"
      ]
     },
     "execution_count": 4,
     "metadata": {},
     "output_type": "execute_result"
    }
   ],
   "source": [
    "nyt.count()"
   ]
  },
  {
   "cell_type": "code",
   "execution_count": 5,
   "metadata": {},
   "outputs": [
    {
     "data": {
      "text/plain": [
       "\u001b[36mres4\u001b[39m: \u001b[32mArray\u001b[39m[\u001b[32mString\u001b[39m] = \u001b[33mArray\u001b[39m(\n",
       "  \u001b[32m\"id\"\u001b[39m,\n",
       "  \u001b[32m\"vendor_id\"\u001b[39m,\n",
       "  \u001b[32m\"pickup_datetime\"\u001b[39m,\n",
       "  \u001b[32m\"passenger_count\"\u001b[39m,\n",
       "  \u001b[32m\"pickup_longitude\"\u001b[39m,\n",
       "  \u001b[32m\"pickup_latitude\"\u001b[39m,\n",
       "  \u001b[32m\"dropoff_longitude\"\u001b[39m,\n",
       "  \u001b[32m\"dropoff_latitude\"\u001b[39m,\n",
       "  \u001b[32m\"store_and_fwd_flag\"\u001b[39m\n",
       ")"
      ]
     },
     "execution_count": 5,
     "metadata": {},
     "output_type": "execute_result"
    }
   ],
   "source": [
    "nyt.columns"
   ]
  },
  {
   "cell_type": "code",
   "execution_count": 6,
   "metadata": {},
   "outputs": [
    {
     "data": {
      "text/plain": [
       "\u001b[36mres5\u001b[39m: \u001b[32morg\u001b[39m.\u001b[32mapache\u001b[39m.\u001b[32mspark\u001b[39m.\u001b[32msql\u001b[39m.\u001b[32mtypes\u001b[39m.\u001b[32mStructType\u001b[39m = \u001b[33mStructType\u001b[39m(\n",
       "  \u001b[33mStructField\u001b[39m(\u001b[32m\"id\"\u001b[39m, StringType, true, {}),\n",
       "  \u001b[33mStructField\u001b[39m(\u001b[32m\"vendor_id\"\u001b[39m, IntegerType, true, {}),\n",
       "  \u001b[33mStructField\u001b[39m(\u001b[32m\"pickup_datetime\"\u001b[39m, StringType, true, {}),\n",
       "  \u001b[33mStructField\u001b[39m(\u001b[32m\"passenger_count\"\u001b[39m, IntegerType, true, {}),\n",
       "  \u001b[33mStructField\u001b[39m(\u001b[32m\"pickup_longitude\"\u001b[39m, DoubleType, true, {}),\n",
       "  \u001b[33mStructField\u001b[39m(\u001b[32m\"pickup_latitude\"\u001b[39m, DoubleType, true, {}),\n",
       "  \u001b[33mStructField\u001b[39m(\u001b[32m\"dropoff_longitude\"\u001b[39m, DoubleType, true, {}),\n",
       "  \u001b[33mStructField\u001b[39m(\u001b[32m\"dropoff_latitude\"\u001b[39m, DoubleType, true, {}),\n",
       "  \u001b[33mStructField\u001b[39m(\u001b[32m\"store_and_fwd_flag\"\u001b[39m, StringType, true, {})\n",
       ")"
      ]
     },
     "execution_count": 6,
     "metadata": {},
     "output_type": "execute_result"
    }
   ],
   "source": [
    "nyt.schema"
   ]
  },
  {
   "cell_type": "markdown",
   "metadata": {},
   "source": [
    "For shorter demonstration output, trimming column names:"
   ]
  },
  {
   "cell_type": "code",
   "execution_count": 7,
   "metadata": {},
   "outputs": [],
   "source": [
    "nyt = nyt.selectExpr(\n",
    "    \"id as ID\",  \n",
    "    \"vendor_id as Vendor\",\n",
    "    \"pickup_datetime as UpTime\",\n",
    "    \"passenger_count as Passengers\",\n",
    "    \"pickup_longitude as UpLong\",\n",
    "    \"pickup_latitude as UpLat\",\n",
    "    \"dropoff_longitude as DropLong\",\n",
    "    \"dropoff_latitude as DropLat\",\n",
    "    \"store_and_fwd_flag as IsLive\"\n",
    ")"
   ]
  },
  {
   "cell_type": "markdown",
   "metadata": {},
   "source": [
    "## Type Safety with Datasets"
   ]
  },
  {
   "cell_type": "code",
   "execution_count": 8,
   "metadata": {},
   "outputs": [
    {
     "data": {
      "text/plain": [
       "\u001b[32mimport \u001b[39m\u001b[36mspark.implicits._\n",
       "\n",
       "\u001b[39m\n",
       "defined \u001b[32mclass\u001b[39m \u001b[36mTrip\u001b[39m\n",
       "\u001b[36mds\u001b[39m: \u001b[32morg\u001b[39m.\u001b[32mapache\u001b[39m.\u001b[32mspark\u001b[39m.\u001b[32msql\u001b[39m.\u001b[32mDataset\u001b[39m[\u001b[32mTrip\u001b[39m] = [ID: string, Vendor: int ... 7 more fields]"
      ]
     },
     "execution_count": 8,
     "metadata": {},
     "output_type": "execute_result"
    }
   ],
   "source": [
    "Qa.setScope(this)\n",
    "\n",
    "import spark.implicits._\n",
    "\n",
    "case class Trip(\n",
    "    ID : String, \n",
    "    Vendor : Int ,\n",
    "    UpTime : String, \n",
    "    Passengers : Int, \n",
    "    UpLong : Double, \n",
    "    UpLat : Double, \n",
    "    DropLong : Double, \n",
    "    DropLat : Double, \n",
    "    IsLive : String\n",
    ")\n",
    "\n",
    "\n",
    "\n",
    "\n",
    "\n",
    "val ds = nyt.as[Trip]"
   ]
  },
  {
   "cell_type": "code",
   "execution_count": 9,
   "metadata": {},
   "outputs": [
    {
     "data": {
      "text/plain": [
       "\u001b[36mres8\u001b[39m: \u001b[32mArray\u001b[39m[\u001b[32morg\u001b[39m.\u001b[32mapache\u001b[39m.\u001b[32mspark\u001b[39m.\u001b[32msql\u001b[39m.\u001b[32mRow\u001b[39m] = \u001b[33mArray\u001b[39m(\n",
       "  [id3004672,1,30/06/2016 23:59,1,-73.98812866,40.73202896,-73.99017334,40.75667953,N],\n",
       "  [id3505355,1,30/06/2016 23:59,1,-73.96420288,40.67999268,-73.95980835,40.65540314,N],\n",
       "  [id1217141,1,30/06/2016 23:59,1,-73.99743652,40.73758316,-73.98616028,40.72952271,N],\n",
       "  [id2150126,2,30/06/2016 23:59,1,-73.95606995,40.77190018,-73.98642731,40.73046875,N],\n",
       "  [id1598245,1,30/06/2016 23:59,1,-73.97021484,40.76147461,-73.9615097,40.75588989,N]\n",
       ")"
      ]
     },
     "execution_count": 9,
     "metadata": {},
     "output_type": "execute_result"
    }
   ],
   "source": [
    "nyt.take(5)"
   ]
  },
  {
   "cell_type": "code",
   "execution_count": 10,
   "metadata": {},
   "outputs": [
    {
     "data": {
      "text/plain": [
       "\u001b[36mres9\u001b[39m: \u001b[32mArray\u001b[39m[\u001b[32mTrip\u001b[39m] = \u001b[33mArray\u001b[39m(\n",
       "  \u001b[33mTrip\u001b[39m(\n",
       "    \u001b[32m\"id3004672\"\u001b[39m,\n",
       "    \u001b[32m1\u001b[39m,\n",
       "    \u001b[32m\"30/06/2016 23:59\"\u001b[39m,\n",
       "    \u001b[32m1\u001b[39m,\n",
       "    \u001b[32m-73.98812866\u001b[39m,\n",
       "    \u001b[32m40.73202896\u001b[39m,\n",
       "    \u001b[32m-73.99017334\u001b[39m,\n",
       "    \u001b[32m40.75667953\u001b[39m,\n",
       "    \u001b[32m\"N\"\u001b[39m\n",
       "  ),\n",
       "  \u001b[33mTrip\u001b[39m(\n",
       "    \u001b[32m\"id3505355\"\u001b[39m,\n",
       "    \u001b[32m1\u001b[39m,\n",
       "    \u001b[32m\"30/06/2016 23:59\"\u001b[39m,\n",
       "    \u001b[32m1\u001b[39m,\n",
       "    \u001b[32m-73.96420288\u001b[39m,\n",
       "    \u001b[32m40.67999268\u001b[39m,\n",
       "    \u001b[32m-73.95980835\u001b[39m,\n",
       "    \u001b[32m40.65540314\u001b[39m,\n",
       "    \u001b[32m\"N\"\u001b[39m\n",
       "  )\n",
       ")"
      ]
     },
     "execution_count": 10,
     "metadata": {},
     "output_type": "execute_result"
    }
   ],
   "source": [
    "ds.take(2)"
   ]
  },
  {
   "cell_type": "code",
   "execution_count": 11,
   "metadata": {},
   "outputs": [
    {
     "data": {
      "text/plain": [
       "\u001b[36mres10\u001b[39m: \u001b[32morg\u001b[39m.\u001b[32mapache\u001b[39m.\u001b[32mspark\u001b[39m.\u001b[32msql\u001b[39m.\u001b[32mpackage\u001b[39m.\u001b[32mDataFrame\u001b[39m = [ID: string, Vendor: int ... 7 more fields]"
      ]
     },
     "execution_count": 11,
     "metadata": {},
     "output_type": "execute_result"
    }
   ],
   "source": [
    "nyt"
   ]
  },
  {
   "cell_type": "code",
   "execution_count": 12,
   "metadata": {
    "scrolled": true
   },
   "outputs": [
    {
     "data": {
      "text/html": [
       "\n",
       "            <table>\n",
       "            <thead style=\"font-weight: bold\"><td>ID</td><td>Vendor</td><td>UpTime</td><td>Passengers</td><td>UpLong</td><td>UpLat</td><td>DropLong</td><td>DropLat</td><td>IsLive</td></thead>\n",
       "            <tbody><tr><td>id3004672</td><td>1</td><td>30/06/2016</td><td>1</td><td>-73.988128</td><td>40.7320289</td><td>-73.990173</td><td>40.7566795</td><td>N</td></tr><tr><td>id3505355</td><td>1</td><td>30/06/2016</td><td>1</td><td>-73.964202</td><td>40.6799926</td><td>-73.959808</td><td>40.6554031</td><td>N</td></tr><tr><td>id1217141</td><td>1</td><td>30/06/2016</td><td>1</td><td>-73.997436</td><td>40.7375831</td><td>-73.986160</td><td>40.7295227</td><td>N</td></tr><tr><td>id2150126</td><td>2</td><td>30/06/2016</td><td>1</td><td>-73.956069</td><td>40.7719001</td><td>-73.986427</td><td>40.7304687</td><td>N</td></tr><tr><td>id1598245</td><td>1</td><td>30/06/2016</td><td>1</td><td>-73.970214</td><td>40.7614746</td><td>-73.961509</td><td>40.7558898</td><td>N</td></tr></tbody>\n",
       "            </table>\n",
       "        "
      ]
     },
     "metadata": {},
     "output_type": "display_data"
    }
   ],
   "source": [
    "Qa.show(nyt)"
   ]
  },
  {
   "cell_type": "code",
   "execution_count": 13,
   "metadata": {},
   "outputs": [
    {
     "name": "stdout",
     "output_type": "stream",
     "text": [
      "+---------+------+----------+----------+----------+----------+----------+----------+------+\n",
      "|       ID|Vendor|    UpTime|Passengers|    UpLong|     UpLat|  DropLong|   DropLat|IsLive|\n",
      "+---------+------+----------+----------+----------+----------+----------+----------+------+\n",
      "|id3004672|     1|30/06/2...|         1|-73.988...|40.7320...|-73.990...|40.7566...|     N|\n",
      "|id3505355|     1|30/06/2...|         1|-73.964...|40.6799...|-73.959...|40.6554...|     N|\n",
      "|id1217141|     1|30/06/2...|         1|-73.997...|40.7375...|-73.986...|40.7295...|     N|\n",
      "+---------+------+----------+----------+----------+----------+----------+----------+------+\n",
      "only showing top 3 rows\n",
      "\n"
     ]
    }
   ],
   "source": [
    "nyt.show(3, 10)"
   ]
  },
  {
   "cell_type": "code",
   "execution_count": 14,
   "metadata": {},
   "outputs": [
    {
     "name": "stdout",
     "output_type": "stream",
     "text": [
      "+-----+\n",
      "|value|\n",
      "+-----+\n",
      "|    1|\n",
      "|    2|\n",
      "|    1|\n",
      "|    2|\n",
      "|    2|\n",
      "+-----+\n",
      "only showing top 5 rows\n",
      "\n"
     ]
    }
   ],
   "source": [
    "ds\n",
    " .filter(row => row.Passengers > 1)\n",
    " .map(r => r.Vendor)\n",
    " .show(5)"
   ]
  },
  {
   "cell_type": "code",
   "execution_count": 15,
   "metadata": {},
   "outputs": [
    {
     "name": "stdout",
     "output_type": "stream",
     "text": [
      "+----------+----------------+\n",
      "|passengers|            time|\n",
      "+----------+----------------+\n",
      "|       2.0|30/06/2016 23:59|\n",
      "|       2.0|30/06/2016 23:58|\n",
      "|       4.0|30/06/2016 23:58|\n",
      "|       5.0|30/06/2016 23:55|\n",
      "|       5.0|23/01/2016 21:15|\n",
      "+----------+----------------+\n",
      "only showing top 5 rows\n",
      "\n"
     ]
    },
    {
     "data": {
      "text/plain": [
       "defined \u001b[32mclass\u001b[39m \u001b[36mTripSummary\u001b[39m"
      ]
     },
     "execution_count": 15,
     "metadata": {},
     "output_type": "execute_result"
    }
   ],
   "source": [
    "Qa.setScope(this)\n",
    "\n",
    "case class TripSummary(passengers: Double, time: String)\n",
    "\n",
    "ds\n",
    " .filter(row => row.Passengers > 1)\n",
    " .map(r => TripSummary(r.Passengers, r.UpTime)) \n",
    " .show(5)"
   ]
  },
  {
   "cell_type": "markdown",
   "metadata": {},
   "source": [
    "## Structured Streaming"
   ]
  },
  {
   "cell_type": "markdown",
   "metadata": {},
   "source": [
    "* createOrReplaceTempView -- a view to run sql over"
   ]
  },
  {
   "cell_type": "code",
   "execution_count": 16,
   "metadata": {},
   "outputs": [],
   "source": [
    "nyt.createOrReplaceTempView(\"taxi\")"
   ]
  },
  {
   "cell_type": "code",
   "execution_count": 17,
   "metadata": {},
   "outputs": [
    {
     "name": "stdout",
     "output_type": "stream",
     "text": [
      "+--------------------+---------------+\n",
      "|              window|sum(Passengers)|\n",
      "+--------------------+---------------+\n",
      "|[2016-03-18 00:00...|           6506|\n",
      "|[2016-06-04 00:00...|           6292|\n",
      "|[2016-05-28 00:00...|           5183|\n",
      "|[2016-05-22 00:00...|           6031|\n",
      "|[2016-02-24 00:00...|           5886|\n",
      "+--------------------+---------------+\n",
      "only showing top 5 rows\n",
      "\n"
     ]
    },
    {
     "data": {
      "text/html": [
       "<div class=\"jp-RenderedText\">\n",
       "<pre><code><span style=\"color: rgb(0, 187, 0)\"><span class=\"ansi-green-fg\">import </span></span><span style=\"color: rgb(0, 187, 187)\"><span class=\"ansi-cyan-fg\">org.apache.spark.sql.functions.{window, column, desc, col}\n",
       "\n",
       "</span></span>\n",
       "<span style=\"color: rgb(0, 187, 187)\"><span class=\"ansi-cyan-fg\">nytDays</span></span>: <span style=\"color: rgb(0, 187, 0)\"><span class=\"ansi-green-fg\">org</span></span>.<span style=\"color: rgb(0, 187, 0)\"><span class=\"ansi-green-fg\">apache</span></span>.<span style=\"color: rgb(0, 187, 0)\"><span class=\"ansi-green-fg\">spark</span></span>.<span style=\"color: rgb(0, 187, 0)\"><span class=\"ansi-green-fg\">sql</span></span>.<span style=\"color: rgb(0, 187, 0)\"><span class=\"ansi-green-fg\">package</span></span>.<span style=\"color: rgb(0, 187, 0)\"><span class=\"ansi-green-fg\">DataFrame</span></span> = [ID: string, Vendor: int ... 7 more fields]</code></pre>\n",
       "</div>"
      ],
      "text/plain": [
       "\u001b[32mimport \u001b[39m\u001b[36morg.apache.spark.sql.functions.{window, column, desc, col}\n",
       "\n",
       "\u001b[39m\n",
       "\u001b[36mnytDays\u001b[39m: \u001b[32morg\u001b[39m.\u001b[32mapache\u001b[39m.\u001b[32mspark\u001b[39m.\u001b[32msql\u001b[39m.\u001b[32mpackage\u001b[39m.\u001b[32mDataFrame\u001b[39m = [ID: string, Vendor: int ... 7 more fields]"
      ]
     },
     "metadata": {},
     "output_type": "display_data"
    }
   ],
   "source": [
    "import org.apache.spark.sql.functions.{window, column, desc, col}\n",
    "\n",
    "var nytDays = spark\n",
    "  .read\n",
    "  .schema(nyt.schema)\n",
    "  .option(\"header\", \"false\")\n",
    "  .csv(\"ny-taxi/2016.*.csv\")\n",
    "\n",
    "nytDays\n",
    "  .select(\"Passengers\",\"UpTime\")\n",
    "  .groupBy(window(col(\"UpTime\"), \"1 day\"))\n",
    "  .sum(\"Passengers\")\n",
    "  .show(5)\n"
   ]
  },
  {
   "cell_type": "code",
   "execution_count": 18,
   "metadata": {},
   "outputs": [
    {
     "data": {
      "text/plain": [
       "\u001b[36mnytStream\u001b[39m: \u001b[32morg\u001b[39m.\u001b[32mapache\u001b[39m.\u001b[32mspark\u001b[39m.\u001b[32msql\u001b[39m.\u001b[32mpackage\u001b[39m.\u001b[32mDataFrame\u001b[39m = [ID: string, Vendor: int ... 7 more fields]"
      ]
     },
     "execution_count": 18,
     "metadata": {},
     "output_type": "execute_result"
    }
   ],
   "source": [
    "spark.conf.set(\"spark.sql.shuffle.partitions\", \"5\")\n",
    "\n",
    "val nytStream = spark.readStream\n",
    " .schema(nyt.schema)\n",
    " .option(\"maxFilesPerTrigger\", 1)\n",
    " .option(\"header\", \"false\")\n",
    " .csv(\"ny-taxi/2016.*.csv\")"
   ]
  },
  {
   "cell_type": "code",
   "execution_count": 19,
   "metadata": {},
   "outputs": [
    {
     "data": {
      "text/plain": [
       "\u001b[36mres18\u001b[39m: \u001b[32mBoolean\u001b[39m = true"
      ]
     },
     "execution_count": 19,
     "metadata": {},
     "output_type": "execute_result"
    }
   ],
   "source": [
    "nytStream.isStreaming"
   ]
  },
  {
   "cell_type": "code",
   "execution_count": 20,
   "metadata": {},
   "outputs": [
    {
     "data": {
      "text/plain": [
       "\u001b[36mpassengersPerDay\u001b[39m: \u001b[32morg\u001b[39m.\u001b[32mapache\u001b[39m.\u001b[32mspark\u001b[39m.\u001b[32msql\u001b[39m.\u001b[32mpackage\u001b[39m.\u001b[32mDataFrame\u001b[39m = [window: struct<start: timestamp, end: timestamp>, sum(Passengers): bigint]"
      ]
     },
     "execution_count": 20,
     "metadata": {},
     "output_type": "execute_result"
    }
   ],
   "source": [
    "val passengersPerDay = nytStream\n",
    "  .select(\"Passengers\",\"UpTime\")\n",
    "  .groupBy(window($\"UpTime\", \"1 day\"))\n",
    "  .sum(\"Passengers\")"
   ]
  },
  {
   "cell_type": "code",
   "execution_count": 21,
   "metadata": {},
   "outputs": [
    {
     "data": {
      "text/plain": [
       "\u001b[36mres20\u001b[39m: \u001b[32morg\u001b[39m.\u001b[32mapache\u001b[39m.\u001b[32mspark\u001b[39m.\u001b[32msql\u001b[39m.\u001b[32mstreaming\u001b[39m.\u001b[32mStreamingQuery\u001b[39m = org.apache.spark.sql.execution.streaming.StreamingQueryWrapper@270baabc"
      ]
     },
     "execution_count": 21,
     "metadata": {},
     "output_type": "execute_result"
    }
   ],
   "source": [
    "passengersPerDay.writeStream\n",
    " .format(\"memory\")\n",
    " .queryName(\"per_day\")\n",
    " .outputMode(\"complete\")\n",
    " .start()"
   ]
  },
  {
   "cell_type": "code",
   "execution_count": 33,
   "metadata": {},
   "outputs": [
    {
     "name": "stdout",
     "output_type": "stream",
     "text": [
      "+--------------------+---------------+\n",
      "|              window|sum(Passengers)|\n",
      "+--------------------+---------------+\n",
      "|[2016-06-19 00:00...|           4965|\n",
      "|[2016-05-31 00:00...|           5200|\n",
      "|[2016-04-03 00:00...|           6253|\n",
      "|[2016-04-27 00:00...|           5346|\n",
      "|[2016-06-21 00:00...|           5573|\n",
      "+--------------------+---------------+\n",
      "only showing top 5 rows\n",
      "\n"
     ]
    }
   ],
   "source": [
    "spark.sql(\"SELECT * FROM per_day\").show(5)"
   ]
  },
  {
   "cell_type": "markdown",
   "metadata": {},
   "source": [
    "## Machine Learning"
   ]
  },
  {
   "cell_type": "code",
   "execution_count": 23,
   "metadata": {},
   "outputs": [
    {
     "data": {
      "text/plain": [
       "\u001b[32mimport \u001b[39m\u001b[36morg.apache.spark.sql.functions.date_format\n",
       "\n",
       "\u001b[39m\n",
       "\u001b[36mdf\u001b[39m: \u001b[32morg\u001b[39m.\u001b[32mapache\u001b[39m.\u001b[32mspark\u001b[39m.\u001b[32msql\u001b[39m.\u001b[32mDataset\u001b[39m[\u001b[32morg\u001b[39m.\u001b[32mapache\u001b[39m.\u001b[32mspark\u001b[39m.\u001b[32msql\u001b[39m.\u001b[32mRow\u001b[39m] = [ID: string, Vendor: int ... 8 more fields]\n",
       "\u001b[36mxTrain\u001b[39m: \u001b[32morg\u001b[39m.\u001b[32mapache\u001b[39m.\u001b[32mspark\u001b[39m.\u001b[32msql\u001b[39m.\u001b[32mDataset\u001b[39m[\u001b[32morg\u001b[39m.\u001b[32mapache\u001b[39m.\u001b[32mspark\u001b[39m.\u001b[32msql\u001b[39m.\u001b[32mRow\u001b[39m] = [ID: string, Vendor: int ... 8 more fields]\n",
       "\u001b[36mxTest\u001b[39m: \u001b[32morg\u001b[39m.\u001b[32mapache\u001b[39m.\u001b[32mspark\u001b[39m.\u001b[32msql\u001b[39m.\u001b[32mDataset\u001b[39m[\u001b[32morg\u001b[39m.\u001b[32mapache\u001b[39m.\u001b[32mspark\u001b[39m.\u001b[32msql\u001b[39m.\u001b[32mRow\u001b[39m] = [ID: string, Vendor: int ... 8 more fields]"
      ]
     },
     "execution_count": 23,
     "metadata": {},
     "output_type": "execute_result"
    }
   ],
   "source": [
    "import org.apache.spark.sql.functions.date_format\n",
    "\n",
    "val df = nytDays\n",
    "  .na.fill(0)\n",
    "  .withColumn(\"Weekday\", date_format($\"UpTime\", \"EEEE\"))\n",
    "  .coalesce(5)\n",
    "\n",
    "val xTrain = df.where(\"UpTime <= '2016-01-31'\")\n",
    "val xTest = df.where(\"UpTime > '2016-01-31'\")"
   ]
  },
  {
   "cell_type": "code",
   "execution_count": 24,
   "metadata": {},
   "outputs": [
    {
     "data": {
      "text/html": [
       "\n",
       "            <table>\n",
       "            <thead style=\"font-weight: bold\"><td>ID</td><td>Vendor</td><td>UpTime</td><td>Passengers</td><td>UpLong</td><td>UpLat</td><td>DropLong</td><td>DropLat</td><td>IsLive</td><td>Weekday</td></thead>\n",
       "            <tbody><tr><td>id3660645</td><td>1</td><td>2016-04-09</td><td>1</td><td>-73.995094</td><td>40.7437744</td><td>-73.973571</td><td>40.7379722</td><td>N</td><td>Saturday</td></tr><tr><td>id2378926</td><td>2</td><td>2016-04-09</td><td>1</td><td>-73.974571</td><td>40.7565612</td><td>-73.925743</td><td>40.7642593</td><td>N</td><td>Saturday</td></tr><tr><td>id3198822</td><td>1</td><td>2016-04-09</td><td>3</td><td>-73.993690</td><td>40.7361259</td><td>-74.014625</td><td>40.7097930</td><td>N</td><td>Saturday</td></tr><tr><td>id2065219</td><td>2</td><td>2016-04-09</td><td>1</td><td>-73.974853</td><td>40.7566757</td><td>-73.990585</td><td>40.7286567</td><td>N</td><td>Saturday</td></tr><tr><td>id0805827</td><td>2</td><td>2016-04-09</td><td>1</td><td>-73.971664</td><td>40.7503852</td><td>-73.988059</td><td>40.7187461</td><td>N</td><td>Saturday</td></tr></tbody>\n",
       "            </table>\n",
       "        "
      ]
     },
     "metadata": {},
     "output_type": "display_data"
    }
   ],
   "source": [
    "Qa.show(df)"
   ]
  },
  {
   "cell_type": "code",
   "execution_count": 25,
   "metadata": {},
   "outputs": [
    {
     "name": "stdout",
     "output_type": "stream",
     "text": [
      "(94441,530693)\n",
      "17\n"
     ]
    },
    {
     "data": {
      "text/plain": [
       "\u001b[36mcount\u001b[39m: (\u001b[32mLong\u001b[39m, \u001b[32mLong\u001b[39m) = (\u001b[32m94441L\u001b[39m, \u001b[32m530693L\u001b[39m)"
      ]
     },
     "execution_count": 25,
     "metadata": {},
     "output_type": "execute_result"
    }
   ],
   "source": [
    "val count = (xTrain.count(), xTest.count())\n",
    "\n",
    "println(count)\n",
    "println(100 * count._1 / count._2)"
   ]
  },
  {
   "cell_type": "code",
   "execution_count": 26,
   "metadata": {},
   "outputs": [
    {
     "data": {
      "text/plain": [
       "\u001b[32mimport \u001b[39m\u001b[36morg.apache.spark.ml.feature.StringIndexer\n",
       "\u001b[39m\n",
       "\u001b[32mimport \u001b[39m\u001b[36morg.apache.spark.ml.feature.OneHotEncoder\n",
       "\u001b[39m\n",
       "\u001b[32mimport \u001b[39m\u001b[36morg.apache.spark.ml.feature.VectorAssembler\n",
       "\u001b[39m\n",
       "\u001b[32mimport \u001b[39m\u001b[36morg.apache.spark.ml.Pipeline\n",
       "\n",
       "\u001b[39m\n",
       "\u001b[36mfeatures\u001b[39m: \u001b[32mArray\u001b[39m[\u001b[32mString\u001b[39m] = \u001b[33mArray\u001b[39m(\u001b[32m\"Passengers\"\u001b[39m, \u001b[32m\"UpLong\"\u001b[39m, \u001b[32m\"UpLat\"\u001b[39m, \u001b[32m\"eWeekday\"\u001b[39m)\n",
       "\u001b[36mpipline\u001b[39m: \u001b[32morg\u001b[39m.\u001b[32mapache\u001b[39m.\u001b[32mspark\u001b[39m.\u001b[32mml\u001b[39m.\u001b[32mPipelineModel\u001b[39m = pipeline_cc5908a78dd2"
      ]
     },
     "execution_count": 26,
     "metadata": {},
     "output_type": "execute_result"
    }
   ],
   "source": [
    "import org.apache.spark.ml.feature.StringIndexer\n",
    "import org.apache.spark.ml.feature.OneHotEncoder\n",
    "import org.apache.spark.ml.feature.VectorAssembler\n",
    "import org.apache.spark.ml.Pipeline\n",
    "\n",
    "val features = Array(\"Passengers\", \"UpLong\", \"UpLat\",  \"eWeekday\")\n",
    "\n",
    "val pipline = new Pipeline().setStages(Array(\n",
    "     new StringIndexer()\n",
    "        .setInputCol(\"Weekday\")\n",
    "        .setOutputCol(\"iWeekday\")\n",
    "    , new OneHotEncoder()\n",
    "        .setInputCol(\"iWeekday\")\n",
    "        .setOutputCol(\"eWeekday\")\n",
    "    , new VectorAssembler()\n",
    "        .setInputCols(features)\n",
    "        .setOutputCol(\"features\")\n",
    ")).fit(xTrain)"
   ]
  },
  {
   "cell_type": "code",
   "execution_count": 27,
   "metadata": {},
   "outputs": [
    {
     "data": {
      "text/plain": [
       "\u001b[36mxTrainFeatures\u001b[39m: \u001b[32morg\u001b[39m.\u001b[32mapache\u001b[39m.\u001b[32mspark\u001b[39m.\u001b[32msql\u001b[39m.\u001b[32mpackage\u001b[39m.\u001b[32mDataFrame\u001b[39m = [ID: string, Vendor: int ... 11 more fields]\n",
       "\u001b[36mxTestFeatures\u001b[39m: \u001b[32morg\u001b[39m.\u001b[32mapache\u001b[39m.\u001b[32mspark\u001b[39m.\u001b[32msql\u001b[39m.\u001b[32mpackage\u001b[39m.\u001b[32mDataFrame\u001b[39m = [ID: string, Vendor: int ... 11 more fields]\n",
       "\u001b[36mres26_2\u001b[39m: \u001b[32morg\u001b[39m.\u001b[32mapache\u001b[39m.\u001b[32mspark\u001b[39m.\u001b[32msql\u001b[39m.\u001b[32mpackage\u001b[39m.\u001b[32mDataFrame\u001b[39m = [ID: string, Vendor: int ... 11 more fields]"
      ]
     },
     "execution_count": 27,
     "metadata": {},
     "output_type": "execute_result"
    }
   ],
   "source": [
    "val xTrainFeatures = pipline.transform(xTrain)\n",
    "val xTestFeatures = pipline.transform(xTest)\n",
    "\n",
    "xTrainFeatures.cache()"
   ]
  },
  {
   "cell_type": "code",
   "execution_count": 28,
   "metadata": {},
   "outputs": [
    {
     "name": "stderr",
     "output_type": "stream",
     "text": [
      "19/07/25 13:08:26 WARN BLAS: Failed to load implementation from: com.github.fommil.netlib.NativeSystemBLAS\n",
      "19/07/25 13:08:26 WARN BLAS: Failed to load implementation from: com.github.fommil.netlib.NativeRefBLAS\n"
     ]
    },
    {
     "data": {
      "text/plain": [
       "\u001b[32mimport \u001b[39m\u001b[36morg.apache.spark.ml.clustering.KMeans\n",
       "\n",
       "\u001b[39m\n",
       "\u001b[36mclusters\u001b[39m: \u001b[32morg\u001b[39m.\u001b[32mapache\u001b[39m.\u001b[32mspark\u001b[39m.\u001b[32mml\u001b[39m.\u001b[32mclustering\u001b[39m.\u001b[32mKMeansModel\u001b[39m = kmeans_98f2759cf2ce"
      ]
     },
     "execution_count": 28,
     "metadata": {},
     "output_type": "execute_result"
    }
   ],
   "source": [
    "import org.apache.spark.ml.clustering.KMeans\n",
    "\n",
    "val clusters = new KMeans()\n",
    "    .setK(20)\n",
    "    .setSeed(1L)\n",
    "    .fit(xTrainFeatures)"
   ]
  },
  {
   "cell_type": "code",
   "execution_count": 29,
   "metadata": {},
   "outputs": [
    {
     "data": {
      "text/plain": [
       "\u001b[36mres28_0\u001b[39m: \u001b[32mDouble\u001b[39m = \u001b[32m9283.067655640947\u001b[39m\n",
       "\u001b[36mres28_1\u001b[39m: \u001b[32mDouble\u001b[39m = \u001b[32m55202.508320186214\u001b[39m"
      ]
     },
     "execution_count": 29,
     "metadata": {},
     "output_type": "execute_result"
    }
   ],
   "source": [
    "clusters.computeCost(xTrainFeatures)\n",
    "clusters.computeCost(xTestFeatures)"
   ]
  },
  {
   "cell_type": "code",
   "execution_count": null,
   "metadata": {},
   "outputs": [],
   "source": []
  },
  {
   "cell_type": "code",
   "execution_count": 32,
   "metadata": {},
   "outputs": [
    {
     "data": {
      "text/html": [
       "\n",
       "            <table>\n",
       "            <thead style=\"font-weight: bold\"><td>Passengers</td><td>UpLong</td><td>UpLat</td><td>eWeekday</td></thead>\n",
       "            <tbody><tr><td>1.0</td><td>-73.972278</td><td>40.7524288</td><td>0.0</td><td>0.0</td><td>0.0</td><td>0.0</td><td>1.0</td><td>0.0</td></tr><tr><td>4.70301418</td><td>-73.975730</td><td>40.7482898</td><td>0.0</td><td>1.0</td><td>0.0</td><td>0.0</td><td>0.0</td><td>0.0</td></tr><tr><td>1.99999999</td><td>-73.972213</td><td>40.7501122</td><td>0.0</td><td>0.0</td><td>0.0</td><td>0.99999999</td><td>0.0</td><td>0.0</td></tr><tr><td>4.79712683</td><td>-73.973668</td><td>40.7511515</td><td>0.45409950</td><td>0.0</td><td>0.0</td><td>0.24421864</td><td>0.0</td><td>0.0</td></tr><tr><td>0.99979879</td><td>-73.972923</td><td>40.7521134</td><td>0.0</td><td>0.0</td><td>0.0</td><td>1.0</td><td>0.0</td><td>0.0</td></tr><tr><td>2.21179039</td><td>-73.976989</td><td>40.7489507</td><td>0.0</td><td>1.0</td><td>0.0</td><td>0.0</td><td>0.0</td><td>0.0</td></tr><tr><td>1.0</td><td>-73.973732</td><td>40.7506507</td><td>1.0</td><td>0.0</td><td>0.0</td><td>0.0</td><td>0.0</td><td>0.0</td></tr><tr><td>1.0</td><td>-73.972615</td><td>40.7491589</td><td>0.0</td><td>0.0</td><td>0.0</td><td>0.0</td><td>0.0</td><td>0.0</td></tr><tr><td>2.21343873</td><td>-73.970790</td><td>40.7516268</td><td>0.0</td><td>0.0</td><td>1.0</td><td>0.0</td><td>0.0</td><td>0.0</td></tr><tr><td>3.16981132</td><td>-73.970857</td><td>40.7487218</td><td>0.0</td><td>0.0</td><td>0.0</td><td>0.0</td><td>0.0</td><td>0.55145797</td></tr><tr><td>1.0</td><td>-73.975641</td><td>40.7492162</td><td>0.0</td><td>1.0</td><td>0.0</td><td>0.0</td><td>0.0</td><td>0.0</td></tr><tr><td>1.0</td><td>-73.974445</td><td>40.7519433</td><td>0.0</td><td>0.0</td><td>1.0</td><td>0.0</td><td>0.0</td><td>0.0</td></tr><tr><td>3.0</td><td>-73.971970</td><td>40.7503987</td><td>1.0</td><td>0.0</td><td>0.0</td><td>0.0</td><td>0.0</td><td>0.0</td></tr><tr><td>6.00094458</td><td>-73.971807</td><td>40.7518420</td><td>0.17380352</td><td>0.16435768</td><td>0.13790931</td><td>0.14829974</td><td>0.14011335</td><td>0.12342569</td></tr><tr><td>1.0</td><td>-73.969602</td><td>40.7515930</td><td>0.0</td><td>0.0</td><td>0.0</td><td>0.0</td><td>0.0</td><td>1.0</td></tr><tr><td>2.0</td><td>-73.970831</td><td>40.7501687</td><td>0.0</td><td>0.0</td><td>0.0</td><td>0.0</td><td>0.0</td><td>0.47834216</td></tr><tr><td>2.0</td><td>-73.973825</td><td>40.7503002</td><td>1.0</td><td>0.0</td><td>0.0</td><td>0.0</td><td>0.0</td><td>0.0</td></tr><tr><td>3.33965014</td><td>-73.973550</td><td>40.7508477</td><td>0.0</td><td>0.0</td><td>0.0</td><td>1.0</td><td>0.0</td><td>0.0</td></tr><tr><td>4.83099688</td><td>-73.970252</td><td>40.7513419</td><td>0.0</td><td>0.0</td><td>0.39524922</td><td>0.0</td><td>0.35475077</td><td>0.25</td></tr><tr><td>2.20806689</td><td>-73.971980</td><td>40.7515249</td><td>0.0</td><td>0.0</td><td>0.0</td><td>0.0</td><td>1.0</td><td>0.0</td></tr></tbody>\n",
       "            </table>\n",
       "        "
      ]
     },
     "metadata": {},
     "output_type": "display_data"
    }
   ],
   "source": [
    "Qa.show(features, clusters.clusterCenters.map( _.toArray.toSeq ))"
   ]
  }
 ],
 "metadata": {
  "kernelspec": {
   "display_name": "Scala 2.12",
   "language": "scala",
   "name": "scala212"
  },
  "language_info": {
   "codemirror_mode": "text/x-scala",
   "file_extension": ".scala",
   "mimetype": "text/x-scala",
   "name": "scala",
   "nbconvert_exporter": "script",
   "version": "2.12.8"
  }
 },
 "nbformat": 4,
 "nbformat_minor": 2
}
