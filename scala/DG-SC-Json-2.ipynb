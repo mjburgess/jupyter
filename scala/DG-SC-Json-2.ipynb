{
 "cells": [
  {
   "cell_type": "markdown",
   "metadata": {},
   "source": [
    "# Scala: JSON with json4s"
   ]
  },
  {
   "cell_type": "markdown",
   "metadata": {},
   "source": [
    "### Defining JSON"
   ]
  },
  {
   "cell_type": "markdown",
   "metadata": {},
   "source": [
    "* Spark includes the json4s library\n",
    "    * but you also need json4s-jackson "
   ]
  },
  {
   "cell_type": "markdown",
   "metadata": {},
   "source": [
    "    import $ivy.`org.json4s::json4s-jackson:3.6.7`\n",
    "\n",
    "    import org.json4s._\n",
    "    import org.json4s.JsonDSL._\n",
    "    import org.json4s.jackson.JsonMethods.parse\n",
    "    import org.json4s.jackson.Serialization.write"
   ]
  },
  {
   "cell_type": "markdown",
   "metadata": {},
   "source": [
    "To represent JSON in scala, json4s provides `JObject()` and family which all create `JValue`s .\n",
    "\n",
    "A JValue is a scala-based representation of a json document. You can create documents manually using these constructors. \n"
   ]
  },
  {
   "cell_type": "code",
   "execution_count": 3,
   "metadata": {},
   "outputs": [
    {
     "data": {
      "text/plain": [
       "\u001b[32mimport \u001b[39m\u001b[36morg.json4s._\n",
       "\u001b[39m\n",
       "\u001b[32mimport \u001b[39m\u001b[36morg.json4s.JsonDSL._\n",
       "\n",
       "\n",
       "\u001b[39m\n",
       "\u001b[36mjsonResult\u001b[39m: \u001b[32mJValue\u001b[39m = \u001b[33mJObject\u001b[39m(\n",
       "  \u001b[33mList\u001b[39m(\n",
       "    (\u001b[32m\"name\"\u001b[39m, \u001b[33mJString\u001b[39m(\u001b[32m\"Michael\"\u001b[39m)),\n",
       "    (\u001b[32m\"isAdult\"\u001b[39m, \u001b[33mJBool\u001b[39m(true)),\n",
       "    (\u001b[32m\"tags\"\u001b[39m, \u001b[33mJArray\u001b[39m(\u001b[33mList\u001b[39m(\u001b[33mJString\u001b[39m(\u001b[32m\"UK\"\u001b[39m), \u001b[33mJString\u001b[39m(\u001b[32m\"Scala\"\u001b[39m))))\n",
       "  )\n",
       ")"
      ]
     },
     "execution_count": 3,
     "metadata": {},
     "output_type": "execute_result"
    }
   ],
   "source": [
    "import org.json4s._\n",
    "import org.json4s.JsonDSL._\n",
    "\n",
    "\n",
    "val jsonResult: JValue = JObject(\n",
    "    \"name\" -> JString(\"Michael\"),\n",
    "    \"isAdult\" -> JBool(true),\n",
    "    \"tags\" -> JArray(List(JString(\"UK\"), JString(\"Scala\")))\n",
    ")\n"
   ]
  },
  {
   "cell_type": "markdown",
   "metadata": {},
   "source": [
    "When you have a `JValue` the selection operator `\\` extracts a value from the document, given a key."
   ]
  },
  {
   "cell_type": "code",
   "execution_count": 4,
   "metadata": {},
   "outputs": [
    {
     "data": {
      "text/plain": [
       "\u001b[36mres3\u001b[39m: \u001b[32mJValue\u001b[39m = \u001b[33mJString\u001b[39m(\u001b[32m\"Michael\"\u001b[39m)"
      ]
     },
     "execution_count": 4,
     "metadata": {},
     "output_type": "execute_result"
    }
   ],
   "source": [
    "jsonResult \\ \"name\""
   ]
  },
  {
   "cell_type": "markdown",
   "metadata": {},
   "source": [
    "Since `JValue`s are hard to work with, the `.extract` method converts them into basic scala types. To do this it needs a formatter which describes how to perform the calculation.\n",
    "\n",
    "The formatter is given as an implicit argument to `.extract`, so needs to be defined as an implicit in scope.\n",
    "\n",
    "json4s provides `DefaultFormats` which cover many basic scala types. "
   ]
  },
  {
   "cell_type": "code",
   "execution_count": 5,
   "metadata": {},
   "outputs": [
    {
     "data": {
      "text/plain": [
       "\u001b[36mformats\u001b[39m: \u001b[32mDefaultFormats\u001b[39m.type = org.json4s.DefaultFormats$@1646cd50\n",
       "\u001b[36mres4_1\u001b[39m: \u001b[32mString\u001b[39m = \u001b[32m\"Michael\"\u001b[39m"
      ]
     },
     "execution_count": 5,
     "metadata": {},
     "output_type": "execute_result"
    }
   ],
   "source": [
    "implicit val formats = DefaultFormats\n",
    "\n",
    "(jsonResult \\ \"name\").extract[String]"
   ]
  },
  {
   "cell_type": "code",
   "execution_count": 6,
   "metadata": {},
   "outputs": [
    {
     "data": {
      "text/plain": [
       "\u001b[36mres5\u001b[39m: \u001b[32mJValue\u001b[39m = \u001b[33mJArray\u001b[39m(\u001b[33mList\u001b[39m(\u001b[33mJString\u001b[39m(\u001b[32m\"UK\"\u001b[39m), \u001b[33mJString\u001b[39m(\u001b[32m\"Scala\"\u001b[39m)))"
      ]
     },
     "execution_count": 6,
     "metadata": {},
     "output_type": "execute_result"
    }
   ],
   "source": [
    "jsonResult \\ \"tags\""
   ]
  },
  {
   "cell_type": "code",
   "execution_count": 7,
   "metadata": {},
   "outputs": [
    {
     "data": {
      "text/plain": [
       "\u001b[36mres6\u001b[39m: \u001b[32mList\u001b[39m[\u001b[32mString\u001b[39m] = \u001b[33mList\u001b[39m(\u001b[32m\"UK\"\u001b[39m, \u001b[32m\"Scala\"\u001b[39m)"
      ]
     },
     "execution_count": 7,
     "metadata": {},
     "output_type": "execute_result"
    }
   ],
   "source": [
    "(jsonResult \\ \"tags\").extract[List[String]]"
   ]
  },
  {
   "cell_type": "markdown",
   "metadata": {},
   "source": [
    "To parse a string into a `JValue`, use `parse`"
   ]
  },
  {
   "cell_type": "markdown",
   "metadata": {},
   "source": [
    "### Parsing JSON"
   ]
  },
  {
   "cell_type": "code",
   "execution_count": 8,
   "metadata": {},
   "outputs": [
    {
     "data": {
      "text/plain": [
       "\u001b[32mimport \u001b[39m\u001b[36morg.json4s.jackson.JsonMethods.parse\n",
       "\n",
       "\u001b[39m\n",
       "\u001b[36mjsonText\u001b[39m: \u001b[32mString\u001b[39m = \u001b[32m\"\"\"\n",
       "{\n",
       "   \"tags\": [\"UK\",\"Scala\"],\n",
       "   \"name\": \"Michael\",\n",
       "   \"isAdult\": true\n",
       "}\n",
       "\"\"\"\u001b[39m\n",
       "\u001b[36mres7_2\u001b[39m: \u001b[32mJValue\u001b[39m = \u001b[33mJObject\u001b[39m(\n",
       "  \u001b[33mList\u001b[39m(\n",
       "    (\u001b[32m\"tags\"\u001b[39m, \u001b[33mJArray\u001b[39m(\u001b[33mList\u001b[39m(\u001b[33mJString\u001b[39m(\u001b[32m\"UK\"\u001b[39m), \u001b[33mJString\u001b[39m(\u001b[32m\"Scala\"\u001b[39m)))),\n",
       "    (\u001b[32m\"name\"\u001b[39m, \u001b[33mJString\u001b[39m(\u001b[32m\"Michael\"\u001b[39m)),\n",
       "    (\u001b[32m\"isAdult\"\u001b[39m, \u001b[33mJBool\u001b[39m(true))\n",
       "  )\n",
       ")"
      ]
     },
     "execution_count": 8,
     "metadata": {},
     "output_type": "execute_result"
    }
   ],
   "source": [
    "import org.json4s.jackson.JsonMethods.parse\n",
    "\n",
    "val jsonText = \"\"\"\n",
    "{\n",
    "   \"tags\": [\"UK\",\"Scala\"],\n",
    "   \"name\": \"Michael\",\n",
    "   \"isAdult\": true\n",
    "}\n",
    "\"\"\"\n",
    "\n",
    "parse(jsonText)"
   ]
  },
  {
   "cell_type": "code",
   "execution_count": 9,
   "metadata": {},
   "outputs": [
    {
     "data": {
      "text/plain": [
       "\u001b[36mres8\u001b[39m: \u001b[32mBoolean\u001b[39m = true"
      ]
     },
     "execution_count": 9,
     "metadata": {},
     "output_type": "execute_result"
    }
   ],
   "source": [
    "parse(jsonText) == jsonResult"
   ]
  },
  {
   "cell_type": "markdown",
   "metadata": {},
   "source": [
    "The general approach is then: parse *into* a JValue then extract the relevant piece as a usable type. In one line:"
   ]
  },
  {
   "cell_type": "code",
   "execution_count": 10,
   "metadata": {},
   "outputs": [
    {
     "data": {
      "text/plain": [
       "\u001b[36mres9\u001b[39m: \u001b[32mString\u001b[39m = \u001b[32m\"Scala\"\u001b[39m"
      ]
     },
     "execution_count": 10,
     "metadata": {},
     "output_type": "execute_result"
    }
   ],
   "source": [
    "(parse(jsonText) \\ \"tags\").extract[List[String]].last"
   ]
  },
  {
   "cell_type": "markdown",
   "metadata": {},
   "source": [
    "### Writing Json with the DSL"
   ]
  },
  {
   "cell_type": "markdown",
   "metadata": {},
   "source": [
    "json4s provides the `~` constructor for `JValue`s. \n",
    "\n",
    "This allows you to describe a json document using basic scala types that are then converted to json4s' `JValue` representations."
   ]
  },
  {
   "cell_type": "code",
   "execution_count": 11,
   "metadata": {},
   "outputs": [
    {
     "data": {
      "text/plain": [
       "\u001b[36mjsonDsl\u001b[39m: \u001b[32mJValue\u001b[39m = \u001b[33mJObject\u001b[39m(\n",
       "  \u001b[33mList\u001b[39m(\n",
       "    (\u001b[32m\"key1\"\u001b[39m, \u001b[33mJString\u001b[39m(\u001b[32m\"val1\"\u001b[39m)),\n",
       "    (\u001b[32m\"key2\"\u001b[39m, \u001b[33mJBool\u001b[39m(true)),\n",
       "    (\u001b[32m\"key3\"\u001b[39m, \u001b[33mJArray\u001b[39m(\u001b[33mList\u001b[39m(\u001b[33mJInt\u001b[39m(1), \u001b[33mJInt\u001b[39m(2), \u001b[33mJInt\u001b[39m(3))))\n",
       "  )\n",
       ")"
      ]
     },
     "execution_count": 11,
     "metadata": {},
     "output_type": "execute_result"
    }
   ],
   "source": [
    "val jsonDsl: JValue =  \n",
    "    (\"key1\" ->  \"val1\") ~  \n",
    "    (\"key2\" ->  true)   ~   \n",
    "    (\"key3\" -> List(1, 2, 3))"
   ]
  },
  {
   "cell_type": "code",
   "execution_count": 12,
   "metadata": {},
   "outputs": [
    {
     "name": "stdout",
     "output_type": "stream",
     "text": [
      "{\"key1\":\"val1\",\"key2\":true,\"key3\":[1,2,3]}\n"
     ]
    },
    {
     "data": {
      "text/plain": [
       "\u001b[32mimport \u001b[39m\u001b[36morg.json4s.jackson.Serialization.{write, writePretty}\n",
       "\n",
       "\u001b[39m\n",
       "\u001b[36mjsonDslText\u001b[39m: \u001b[32mString\u001b[39m = \u001b[32m\"{\\\"key1\\\":\\\"val1\\\",\\\"key2\\\":true,\\\"key3\\\":[1,2,3]}\"\u001b[39m"
      ]
     },
     "execution_count": 12,
     "metadata": {},
     "output_type": "execute_result"
    }
   ],
   "source": [
    "import org.json4s.jackson.Serialization.{write, writePretty}\n",
    "\n",
    "val jsonDslText: String = write(jsonDsl)\n",
    "\n",
    "println(jsonDslText)"
   ]
  },
  {
   "cell_type": "code",
   "execution_count": 13,
   "metadata": {},
   "outputs": [
    {
     "data": {
      "text/plain": [
       "\u001b[36mres12\u001b[39m: \u001b[32mString\u001b[39m = \u001b[32m\"\"\"{\n",
       "  \"key1\" : \"val1\",\n",
       "  \"key2\" : true,\n",
       "  \"key3\" : [ 1, 2, 3 ]\n",
       "}\"\"\"\u001b[39m"
      ]
     },
     "execution_count": 13,
     "metadata": {},
     "output_type": "execute_result"
    }
   ],
   "source": [
    "writePretty(jsonDsl)"
   ]
  },
  {
   "cell_type": "markdown",
   "metadata": {},
   "source": [
    "The approach: define json via the DSL then use `write()` to convert to string, and output -- eg., using `println()`. In one line:"
   ]
  },
  {
   "cell_type": "code",
   "execution_count": 14,
   "metadata": {},
   "outputs": [
    {
     "name": "stdout",
     "output_type": "stream",
     "text": [
      "{\"name\":\"Michael\",\"isAdult\":true,\"tags\":[\"UK\",\"Scala\"]}\n"
     ]
    }
   ],
   "source": [
    "println(write(\n",
    "    (\"name\" -> \"Michael\") ~\n",
    "    (\"isAdult\" -> true)   ~\n",
    "    (\"tags\" -> List(\"UK\", \"Scala\"))\n",
    "))"
   ]
  },
  {
   "cell_type": "markdown",
   "metadata": {},
   "source": [
    "### Serializing Case Classes"
   ]
  },
  {
   "cell_type": "markdown",
   "metadata": {},
   "source": [
    "Its often useful to be able to deserialize json directly to a case class; and conversly, starting with case class, to directly produce json. ie., to `extract` a `Person` and `write` a `Person`. \n",
    "\n",
    "To do this you need to define a child class of `CustomSerializer` that defines:\n",
    "\n",
    "    def deserialize(implicit format: Formats)\n",
    "    def serialize(implicit format: Formats)\n",
    "    \n",
    "These are relatively complex methods to override, so the typical way of defining them is to supply implementations as a parameter to the parent. \n",
    "\n",
    "The first should define the extractor, the way a `JValue` goes to a `Person`.  The second should define how a `Person` converts to a `JValue`.\n",
    "\n",
    "(The syntax needs to be pretty much exactly what's given.)"
   ]
  },
  {
   "cell_type": "code",
   "execution_count": 15,
   "metadata": {},
   "outputs": [
    {
     "data": {
      "text/plain": [
       "defined \u001b[32mclass\u001b[39m \u001b[36mPerson\u001b[39m\n",
       "defined \u001b[32mclass\u001b[39m \u001b[36mPersonSerializer\u001b[39m"
      ]
     },
     "execution_count": 15,
     "metadata": {},
     "output_type": "execute_result"
    }
   ],
   "source": [
    "case class Person(name: String, isAdult: Boolean, tags: List[String])\n",
    "\n",
    "class PersonSerializer extends CustomSerializer[Person](implicit formats => (\n",
    "   {\n",
    "       case j: JValue => Person(\n",
    "           (j \\ \"name\").extract[String], \n",
    "           (j \\ \"isAdult\").extract[Boolean], \n",
    "           (j \\ \"tags\").extract[List[String]]\n",
    "       )\n",
    "   } ,\n",
    "   {\n",
    "       case j: Person =>\n",
    "           (\"name\" -> j.name)       ~\n",
    "           (\"isAdult\" -> j.isAdult) ~\n",
    "           (\"tags\" -> j.tags)\n",
    "   }                                                        \n",
    "))"
   ]
  },
  {
   "cell_type": "markdown",
   "metadata": {},
   "source": [
    "### Parse and Write with custom classes"
   ]
  },
  {
   "cell_type": "markdown",
   "metadata": {},
   "source": [
    "Now defined, we can use `parse`, `extract` and `write` as above. "
   ]
  },
  {
   "cell_type": "code",
   "execution_count": 16,
   "metadata": {},
   "outputs": [
    {
     "data": {
      "text/plain": [
       "\u001b[36mres15\u001b[39m: \u001b[32mString\u001b[39m = \u001b[32m\"\"\"\n",
       "{\n",
       "   \"tags\": [\"UK\",\"Scala\"],\n",
       "   \"name\": \"Michael\",\n",
       "   \"isAdult\": true\n",
       "}\n",
       "\"\"\"\u001b[39m"
      ]
     },
     "execution_count": 16,
     "metadata": {},
     "output_type": "execute_result"
    }
   ],
   "source": [
    "jsonText"
   ]
  },
  {
   "cell_type": "code",
   "execution_count": 17,
   "metadata": {},
   "outputs": [
    {
     "data": {
      "text/plain": [
       "\u001b[36mres16\u001b[39m: \u001b[32mPerson\u001b[39m = \u001b[33mPerson\u001b[39m(\u001b[32m\"Michael\"\u001b[39m, true, \u001b[33mList\u001b[39m(\u001b[32m\"UK\"\u001b[39m, \u001b[32m\"Scala\"\u001b[39m))"
      ]
     },
     "execution_count": 17,
     "metadata": {},
     "output_type": "execute_result"
    }
   ],
   "source": [
    "parse(jsonText).extract[Person]"
   ]
  },
  {
   "cell_type": "code",
   "execution_count": 18,
   "metadata": {},
   "outputs": [
    {
     "name": "stdout",
     "output_type": "stream",
     "text": [
      "{\"name\":\"Michael\",\"isAdult\":true,\"tags\":[\"UK\",\"Scala\"]}\n"
     ]
    }
   ],
   "source": [
    "println(write(Person(\"Michael\", true, List(\"UK\", \"Scala\"))))"
   ]
  },
  {
   "cell_type": "markdown",
   "metadata": {},
   "source": [
    "## Decomposing"
   ]
  },
  {
   "cell_type": "markdown",
   "metadata": {},
   "source": [
    "* For simple cases, json4s can automatically serialize a case class\n",
    "* The `Extraction.decompose` method accepts any object and attempts to produce a `JValue`\n",
    "    - no custom serializer required!\n",
    "* However `.extract`ing still requires the serializer "
   ]
  },
  {
   "cell_type": "code",
   "execution_count": 19,
   "metadata": {},
   "outputs": [
    {
     "data": {
      "text/plain": [
       "\u001b[32mimport \u001b[39m\u001b[36morg.json4s.Extraction.decompose\u001b[39m"
      ]
     },
     "execution_count": 19,
     "metadata": {},
     "output_type": "execute_result"
    }
   ],
   "source": [
    "import org.json4s.Extraction.decompose"
   ]
  },
  {
   "cell_type": "code",
   "execution_count": 20,
   "metadata": {},
   "outputs": [
    {
     "data": {
      "text/plain": [
       "\u001b[36mauto\u001b[39m: \u001b[32mJValue\u001b[39m = \u001b[33mJObject\u001b[39m(\n",
       "  \u001b[33mList\u001b[39m(\n",
       "    (\u001b[32m\"name\"\u001b[39m, \u001b[33mJString\u001b[39m(\u001b[32m\"Michael\"\u001b[39m)),\n",
       "    (\u001b[32m\"isAdult\"\u001b[39m, \u001b[33mJBool\u001b[39m(true)),\n",
       "    (\u001b[32m\"tags\"\u001b[39m, \u001b[33mJArray\u001b[39m(\u001b[33mList\u001b[39m(\u001b[33mJString\u001b[39m(\u001b[32m\"UK\"\u001b[39m), \u001b[33mJString\u001b[39m(\u001b[32m\"Scala\"\u001b[39m))))\n",
       "  )\n",
       ")"
      ]
     },
     "execution_count": 20,
     "metadata": {},
     "output_type": "execute_result"
    }
   ],
   "source": [
    "val auto = decompose(Person(\"Michael\", true, List(\"UK\", \"Scala\")))"
   ]
  },
  {
   "cell_type": "code",
   "execution_count": 21,
   "metadata": {
    "scrolled": true
   },
   "outputs": [
    {
     "name": "stdout",
     "output_type": "stream",
     "text": [
      "{\"name\":\"Michael\",\"isAdult\":true,\"tags\":[\"UK\",\"Scala\"]}\n"
     ]
    }
   ],
   "source": [
    "println(write(auto))"
   ]
  },
  {
   "cell_type": "markdown",
   "metadata": {},
   "source": [
    "## Writing to File"
   ]
  },
  {
   "cell_type": "code",
   "execution_count": 22,
   "metadata": {},
   "outputs": [
    {
     "data": {
      "text/plain": [
       "\u001b[32mimport \u001b[39m\u001b[36mjava.nio.file.{Paths, Files}\n",
       "\u001b[39m\n",
       "\u001b[32mimport \u001b[39m\u001b[36mjava.nio.charset.StandardCharsets\n",
       "\n",
       "\u001b[39m\n",
       "defined \u001b[32mfunction\u001b[39m \u001b[36mwriteFile\u001b[39m"
      ]
     },
     "execution_count": 22,
     "metadata": {},
     "output_type": "execute_result"
    }
   ],
   "source": [
    "import java.nio.file.{Paths, Files}\n",
    "import java.nio.charset.StandardCharsets\n",
    "\n",
    "def writeFile(filename: String, contents: String) = Files.write(\n",
    "    Paths.get(filename), contents.getBytes(StandardCharsets.UTF_8)\n",
    ")"
   ]
  },
  {
   "cell_type": "code",
   "execution_count": 23,
   "metadata": {},
   "outputs": [
    {
     "data": {
      "text/plain": [
       "\u001b[36mres22\u001b[39m: \u001b[32mjava\u001b[39m.\u001b[32mnio\u001b[39m.\u001b[32mfile\u001b[39m.\u001b[32mPath\u001b[39m = sample.json"
      ]
     },
     "execution_count": 23,
     "metadata": {},
     "output_type": "execute_result"
    }
   ],
   "source": [
    "writeFile(\"sample.json\", write(auto))"
   ]
  },
  {
   "cell_type": "code",
   "execution_count": 30,
   "metadata": {},
   "outputs": [
    {
     "name": "stdout",
     "output_type": "stream",
     "text": [
      "{\"name\":\"Michael\",\"isAdult\":true,\"tags\":[\"UK\",\"Scala\"]}\n"
     ]
    },
    {
     "data": {
      "text/plain": [
       "\u001b[32mimport \u001b[39m\u001b[36mscala.io.Source\n",
       "\n",
       "\u001b[39m\n",
       "\u001b[36mjson\u001b[39m: \u001b[32mString\u001b[39m = \u001b[32m\"{\\\"name\\\":\\\"Michael\\\",\\\"isAdult\\\":true,\\\"tags\\\":[\\\"UK\\\",\\\"Scala\\\"]}\"\u001b[39m"
      ]
     },
     "execution_count": 30,
     "metadata": {},
     "output_type": "execute_result"
    }
   ],
   "source": [
    "import scala.io.Source\n",
    "\n",
    "val json = Source.fromFile(\"sample.json\").mkString\n",
    "\n",
    "println(json)"
   ]
  },
  {
   "cell_type": "code",
   "execution_count": 32,
   "metadata": {},
   "outputs": [
    {
     "data": {
      "text/plain": [
       "\u001b[36mres31\u001b[39m: \u001b[32mPerson\u001b[39m = \u001b[33mPerson\u001b[39m(\u001b[32m\"Michael\"\u001b[39m, true, \u001b[33mList\u001b[39m(\u001b[32m\"UK\"\u001b[39m, \u001b[32m\"Scala\"\u001b[39m))"
      ]
     },
     "execution_count": 32,
     "metadata": {},
     "output_type": "execute_result"
    }
   ],
   "source": [
    "parse(Source.fromFile(\"sample.json\").mkString).extract[Person]"
   ]
  }
 ],
 "metadata": {
  "kernelspec": {
   "display_name": "Scala 2.12",
   "language": "scala",
   "name": "scala212"
  },
  "language_info": {
   "codemirror_mode": "text/x-scala",
   "file_extension": ".scala",
   "mimetype": "text/x-scala",
   "name": "scala",
   "nbconvert_exporter": "script",
   "version": "2.12.8"
  }
 },
 "nbformat": 4,
 "nbformat_minor": 2
}
