{
 "cells": [
  {
   "cell_type": "markdown",
   "metadata": {},
   "source": [
    "# Scala Project: The Web"
   ]
  },
  {
   "cell_type": "markdown",
   "metadata": {},
   "source": [
    "# EXTRA:\n",
    "* Try out integrating a website with your mini-spark project"
   ]
  },
  {
   "cell_type": "markdown",
   "metadata": {},
   "source": [
    "The key file for this exericse is:\n",
    "    \\starter\\quiz\\src\\main\\scala\\qa\\quiz\\QuizServlet.scala"
   ]
  },
  {
   "cell_type": "markdown",
   "metadata": {},
   "source": [
    "## Questions\n",
    "\n",
    "### Generate or Starter\n",
    "* Start with the website starter in /projects/quiz\n",
    "    * You have been given the code which produces a complete Person from a html form in `post`\n",
    "    * A get route which provides a form to collect demographic information\n",
    "    * A post route which saves it to a json file\n",
    "\n",
    "\n",
    "* Tidy up the existing file\n",
    "    * Place helpers in their own Quiz.scala file\n",
    "    \n",
    "* EXTRA:\n",
    "    * Use sbt to generate a scalatra site from a base template\n",
    "    * Theme manually, by following the steps in the mini-guide\n",
    "    \n",
    "    \n",
    "### Add a Test Route\n",
    "\n",
    "* Define `get(\"/about\")` which should just return your name and site information\n",
    "    * restart jetty and test this route works \n",
    "    \n",
    "* Add an index page and route\n",
    "\n",
    "### Functionality\n",
    "* Add a quiz summary API to your web project, at GET /summary/film-quiz\n",
    "\n",
    "* Report on analytical metrics using spark, responding with json:\n",
    "    * ie., {\"spendFoodMean\": ..., \"spendFoodMeanForLikeFood\": ...}    \n",
    "    \n",
    "* This API should use your spark solution developed earlier!\n",
    "    * HINT: *DO NOT INCLUDE SPARK!* \n",
    "    * just save spark output to report file & display\n",
    "\n",
    "### Extra\n",
    "\n",
    "* When submitting the quiz, redirect to a \"thank you\" page which compares the test-taker to others\n",
    "* ie., a page which partially reports the spark results \n",
    "\n",
    "* Deliver your report as an html page \n",
    "    * ie., add a /report route and use spark to populate a twirl template with relevant data\n",
    "\n",
    "* HINT\n",
    "    - one strategy would be to simply redirect to static thanks page \n",
    "        - which has an ajax (javascript-based) request to your stats API\n",
    "\n",
    "    - another would be a twirl template\n"
   ]
  }
 ],
 "metadata": {
  "kernelspec": {
   "display_name": "Scala 2.12",
   "language": "scala",
   "name": "scala212"
  },
  "language_info": {
   "codemirror_mode": "text/x-scala",
   "file_extension": ".scala",
   "mimetype": "text/x-scala",
   "name": "scala",
   "nbconvert_exporter": "script",
   "version": "2.12.8"
  }
 },
 "nbformat": 4,
 "nbformat_minor": 2
}
