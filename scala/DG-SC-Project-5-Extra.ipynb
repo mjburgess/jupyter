{
 "cells": [
  {
   "cell_type": "markdown",
   "metadata": {},
   "source": [
    "## EXTRA\n",
    "### Advanced Analytics with mllib\n",
    "\n",
    "* This is a stretch section for advanced learners to continue with the project after completing all sections\n",
    "* Here the goal is to add predictive analytics\n",
    "\n",
    "\n",
    "\n",
    "* Suggestions:\n",
    "\n",
    "\n",
    "1. Predict demographic information from quiz answers (regression)\n",
    "2. Predict quiz answers from demographic information (binary classification)\n",
    "\n",
    "Since all the quiz answers are Yes/No, (2) might be an easier option. \n",
    "\n",
    "It's a binary classification problem for which you can use many algorithms, in a simple case, eg., logistic regression. Predict one question given some continous demographic information (eg., Age, Height, ...). \n",
    "\n",
    "\n",
    "* You can start by training the algorithm on generated data and then move on to using json files\n",
    "* Add a form on the website which uses the predictive model to guess"
   ]
  }
 ],
 "metadata": {
  "kernelspec": {
   "display_name": "Scala 2.12",
   "language": "scala",
   "name": "scala212"
  },
  "language_info": {
   "codemirror_mode": "text/x-scala",
   "file_extension": ".scala",
   "mimetype": "text/x-scala",
   "name": "scala",
   "nbconvert_exporter": "script",
   "version": "2.12.8"
  }
 },
 "nbformat": 4,
 "nbformat_minor": 2
}
