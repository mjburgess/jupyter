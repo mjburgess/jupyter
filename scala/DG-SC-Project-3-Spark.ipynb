{
 "cells": [
  {
   "cell_type": "markdown",
   "metadata": {},
   "source": [
    "# Scala Project\n",
    "## Part 3: Analytics with Spark"
   ]
  },
  {
   "cell_type": "markdown",
   "metadata": {},
   "source": [
    "## Setup Questions"
   ]
  },
  {
   "cell_type": "markdown",
   "metadata": {},
   "source": [
    "\n",
    "### Brief \n",
    "* Recall the brief:\n",
    "\n",
    "People have:\n",
    "\n",
    "* Name, Age, Location, Weekly Spending on Food, Yearly Spending on Cinema, Favourite Film\n",
    "\n",
    "And whether they:\n",
    "* Like Action, Like Romantic, Like Horror, Like Comedy\n",
    "* Like Cinema, Like Food at the Cinema, Like 3D Films\n",
    "\n",
    "\n",
    "### Questions\n",
    "* Generate 50 `Person` instances \n",
    "* Convert these to json\n",
    "* Write 50 json files"
   ]
  },
  {
   "cell_type": "markdown",
   "metadata": {},
   "source": [
    "## Questions\n",
    "### APIs\n",
    "\n",
    "\n",
    "* Dataframe API\n",
    "    * load json files with inferred schema\n",
    "    * EXTRA: \n",
    "        * use a manually defined schema\n",
    "\n",
    "\n",
    "* RDD API\n",
    "    * `parraellelize` a generated array of `Person`s    \n",
    "    \n",
    "* EXTRA:\n",
    "    * dataset API\n",
    "        * load json files into Person structure\n",
    "\n",
    "\n",
    "* In each case report the count of people who like Horror"
   ]
  },
  {
   "cell_type": "markdown",
   "metadata": {},
   "source": [
    "## Questions\n",
    "### SQL \n",
    "\n",
    "* Using either \n",
    "    1. the SQL dataframe API to produce a report summarizing key aspects of the data. \n",
    "    2. the data frame API\n",
    "\n",
    "* Eg., it may include various:\n",
    "    * count\n",
    "    * mean\n",
    "    * standard deviation\n",
    "    * counts of locations\n",
    "    * most common location\n",
    "\n",
    "    * counts of films\n",
    "    * most common film\n",
    "    * aggregates of \n",
    "        * age, spendFood, spendCinema\n",
    "        * for: people who likeFood, people who like3D, people who like all types of films\n",
    "\n",
    "\n",
    "\n",
    "* EXTRA:\n",
    "    * use a UDF with SQL to produce the report\n",
    "        * eg.,  user defined function performing:\n",
    "            * (spendFood * 52) - (spendCinema )\n"
   ]
  },
  {
   "cell_type": "markdown",
   "metadata": {},
   "source": [
    "## Extra\n",
    "\n",
    "* Use the spark streaming API to calculate on-demand and show that totals update *live* with additional json data\n",
    "* Integrate the report with a formatting pipline, eg., output to html or to pdf and make available via the web"
   ]
  }
 ],
 "metadata": {
  "kernelspec": {
   "display_name": "Scala 2.12",
   "language": "scala",
   "name": "scala212"
  },
  "language_info": {
   "codemirror_mode": "text/x-scala",
   "file_extension": ".scala",
   "mimetype": "text/x-scala",
   "name": "scala",
   "nbconvert_exporter": "script",
   "version": "2.12.8"
  }
 },
 "nbformat": 4,
 "nbformat_minor": 2
}
